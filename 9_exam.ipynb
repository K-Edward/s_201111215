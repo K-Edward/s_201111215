{
 "cells": [
  {
   "cell_type": "code",
   "execution_count": 1,
   "metadata": {
    "collapsed": false,
    "scrolled": true
   },
   "outputs": [
    {
     "name": "stdout",
     "output_type": "stream",
     "text": [
      "gokr = 281POEfrCjkvFsHeLENEu5QKQhrviI%2FxfTfZriD0HM255w8jpS%2FSVwvnlqCGvYbU6yph6jjdeN%2FGumXBwgHIpQ%3D%3D\n",
      "data seoul = 6855444e4768776136316a7256706b\n"
     ]
    }
   ],
   "source": [
    "import src.mylib\n",
    "import os\n",
    "\n",
    "keyPath = os.path.join('src','key.properties')\n",
    "\n",
    "KEY = src.mylib.getKey(keyPath)\n",
    "\n",
    "print \"gokr = \" + KEY['gokr']\n",
    "print \"data seoul = \" + KEY['dataseoul']"
   ]
  },
  {
   "cell_type": "code",
   "execution_count": 12,
   "metadata": {
    "collapsed": false
   },
   "outputs": [
    {
     "name": "stdout",
     "output_type": "stream",
     "text": [
      "Overwriting src/ds_open_dataseoul_ex.py\n"
     ]
    }
   ],
   "source": [
    "%%writefile src/ds_open_dataseoul_ex.py\n",
    "# coding: utf-8\n",
    "import os\n",
    "import requests\n",
    "import urlparse\n",
    "import mylib\n",
    "\n",
    "def doIt():\n",
    "    keyPath=os.path.join(os.getcwd(), 'src', 'key.properties')\n",
    "    key=mylib.getKey(keyPath)\n",
    "    # (1) make params with resource IDs\n",
    "    KEY=key['dataseoul']\n",
    "    TYPE='json'\n",
    "    SERVICE='SearchSTNBySubwayLineService'\n",
    "    START_INDEX=str(1)\n",
    "    END_INDEX=str(10)\n",
    "    LINE_NUM=str(2)\n",
    "    params=KEY+\"/\"+TYPE+\"/\"+SERVICE+\"/\"+START_INDEX+\"/\"+END_INDEX+\"/\"+LINE_NUM\n",
    "    # (2) make a full url\n",
    "    _url='http://openAPI.seoul.go.kr:8088/'\n",
    "    url=urlparse.urljoin(_url,params)\n",
    "    # (3) get data\n",
    "    data=requests.get(url).text\n",
    "    print data[:300]\n",
    "\n",
    "if __name__ == \"__main__\":\n",
    "    doIt()"
   ]
  },
  {
   "cell_type": "code",
   "execution_count": 3,
   "metadata": {
    "collapsed": false,
    "scrolled": true
   },
   "outputs": [
    {
     "data": {
      "text/plain": [
       "u'C:\\\\Users\\\\400T6B\\\\Code\\\\s_201111215'"
      ]
     },
     "execution_count": 3,
     "metadata": {},
     "output_type": "execute_result"
    }
   ],
   "source": [
    "pwd"
   ]
  },
  {
   "cell_type": "code",
   "execution_count": 2,
   "metadata": {
    "collapsed": false,
    "scrolled": true
   },
   "outputs": [
    {
     "name": "stdout",
     "output_type": "stream",
     "text": [
      " C 드라이브의 볼륨에는 이름이 없습니다.\n",
      " 볼륨 일련 번호: A49F-0284\n",
      "\n",
      " C:\\Users\\400T6B\\Code\\s_201111215\\src 디렉터리\n",
      "\n",
      "2017-04-18  오후 05:50    <DIR>          .\n",
      "2017-04-18  오후 05:50    <DIR>          ..\n",
      "2017-04-17  오후 09:32             2,962 ds_234_web_crawl_1.py\n",
      "2017-04-17  오후 09:32             1,508 ds_234_web_crawl_3.py\n",
      "2017-04-17  오후 09:32             2,679 ds_234_web_crawl_4.py\n",
      "2017-04-17  오후 09:32               388 ds_234_web_crawl_5.py\n",
      "2017-04-17  오후 09:32               643 ds_234_web_crawl_6.py\n",
      "2017-04-18  오후 05:56               813 ds_open_dataseoul_ex.py\n",
      "2017-04-18  오후 05:58               986 ds_open_gokr_ex.py\n",
      "2017-04-17  오후 09:32               294 ds_save_mongo_5.js\n",
      "2017-04-17  오후 09:32               165 ds_save_mongo_6.py\n",
      "2017-04-17  오후 09:32               374 ds_web_crawl_ieee.py\n",
      "2017-04-18  오후 05:48               145 key.properties\n",
      "2017-04-17  오후 09:32               949 my.xml\n",
      "2017-04-17  오후 09:32            45,371 mygoogle1.html\n",
      "2017-04-17  오후 09:32            75,765 mygoogle2.html\n",
      "2017-04-17  오후 09:32           308,672 mygoogle3.html\n",
      "2017-04-18  오후 05:48               200 mylib.py\n",
      "2017-04-18  오후 05:50               483 mylib.pyc\n",
      "2017-04-17  오후 09:32               210 mypage1.html\n",
      "2017-04-17  오후 09:32             1,108 mypage3.html\n",
      "2017-04-17  오후 09:32               280 test.py\n",
      "2017-04-17  오후 09:32                51 tmp.txt\n",
      "2017-04-18  오후 04:40                 9 __init__.py\n",
      "2017-04-18  오후 05:13               126 __init__.pyc\n",
      "              23개 파일             444,181 바이트\n",
      "               2개 디렉터리  815,710,814,208 바이트 남음\n"
     ]
    }
   ],
   "source": [
    "!dir src\\"
   ]
  },
  {
   "cell_type": "code",
   "execution_count": 11,
   "metadata": {
    "collapsed": false,
    "scrolled": true
   },
   "outputs": [
    {
     "name": "stderr",
     "output_type": "stream",
     "text": [
      "Traceback (most recent call last):\n",
      "  File \"src/ds_open_dataseoul_ex.py\", line 26, in <module>\n",
      "    doIt()\n",
      "  File \"src/ds_open_dataseoul_ex.py\", line 23, in doIt\n",
      "    print data[:300]\n",
      "UnicodeEncodeError: 'ascii' codec can't encode characters in position 94-95: ordinal not in range(128)\n"
     ]
    }
   ],
   "source": [
    "!python src/ds_open_dataseoul_ex.py"
   ]
  },
  {
   "cell_type": "code",
   "execution_count": 17,
   "metadata": {
    "collapsed": false
   },
   "outputs": [
    {
     "name": "stdout",
     "output_type": "stream",
     "text": [
      "Overwriting src/ds_open_gokr_ex.py\n"
     ]
    }
   ],
   "source": [
    "%%writefile src/ds_open_gokr_ex.py\n",
    "# coding: utf-8\n",
    "import os\n",
    "import requests\n",
    "import urlparse\n",
    "import urllib\n",
    "import mylib\n",
    "\n",
    "def doIt():\n",
    "    # (1) service + operation\n",
    "    SERVICE='ArpltnInforInqireSvc'\n",
    "    OPERATION_NAME='getMinuDustFrcstDspth'\n",
    "    params1=SERVICE+\"/\"+OPERATION_NAME\n",
    "    # (2) query params encoding\n",
    "    _d=dict()\n",
    "    _d['dataTerm']='month'\n",
    "    params2 = urllib.urlencode(_d)\n",
    "    # (3) add my service key\n",
    "    keyPath=os.path.join(os.getcwd(), 'src', 'key.properties')\n",
    "    key=mylib.getKey(keyPath)\n",
    "    keygokr=key['gokr'] # keygokr='8Bx4C1%2B...'\n",
    "    params=params1+'?'+'serviceKey='+keygokr+'&'+params2\n",
    "    # (4) make a full url\n",
    "    _url='http://openapi.airkorea.or.kr/openapi/services/rest/ArpltnInforInqireSvc'\n",
    "    url=urlparse.urljoin(_url,params)\n",
    "    # (5) get data\n",
    "    data=requests.get(url).text\n",
    "    print data\n",
    "\n",
    "if __name__ == \"__main__\":\n",
    "    doIt()"
   ]
  },
  {
   "cell_type": "code",
   "execution_count": 18,
   "metadata": {
    "collapsed": false,
    "scrolled": true
   },
   "outputs": [
    {
     "name": "stdout",
     "output_type": "stream",
     "text": [
      "<?xml version=\"1.0\" encoding=\"UTF-8\"?>\n",
      "\n",
      "\n",
      "\n",
      "\n",
      "\n",
      "\n",
      "\n",
      "\n",
      "\n",
      "<response>\n",
      "\n",
      "\t<header>\n",
      "\n",
      "\t\t<resultCode>00</resultCode>\n",
      "\n",
      "\t\t<resultMsg>NORMAL SERVICE.</resultMsg>\n",
      "\n",
      "\t</header>\n",
      "\n",
      "\t<body>\n",
      "\n",
      "\t\t<items>\n",
      "\n",
      "\t\t\t\n",
      "\n",
      "\t\t\t\t<item>\n",
      "\n",
      "\t\t\t\t\t<dataTime>2017-04-19</dataTime>\n",
      "\n",
      "\t\t\t\t\t<informCode>PM25</informCode>\n",
      "\n",
      "\t\t\t\t</item>\n",
      "\n",
      "\t\t\t\n",
      "\n",
      "\t\t\t\t<item>\n",
      "\n",
      "\t\t\t\t\t<dataTime>2017-04-19</dataTime>\n",
      "\n",
      "\t\t\t\t\t<informCode>O3</informCode>\n",
      "\n",
      "\t\t\t\t</item>\n",
      "\n",
      "\t\t\t\n",
      "\n",
      "\t\t\t\t<item>\n",
      "\n",
      "\t\t\t\t\t<dataTime>2017-04-19</dataTime>\n",
      "\n",
      "\t\t\t\t\t<informCode>O3</informCode>\n",
      "\n",
      "\t\t\t\t</item>\n",
      "\n",
      "\t\t\t\n",
      "\n",
      "\t\t\t\t<item>\n",
      "\n",
      "\t\t\t\t\t<dataTime>2017-04-19</dataTime>\n",
      "\n",
      "\t\t\t\t\t<informCode>O3</informCode>\n",
      "\n",
      "\t\t\t\t</item>\n",
      "\n",
      "\t\t\t\n",
      "\n",
      "\t\t\t\t<item>\n",
      "\n",
      "\t\t\t\t\t<dataTime>2017-04-19</dataTime>\n",
      "\n",
      "\t\t\t\t\t<informCode>PM10</informCode>\n",
      "\n",
      "\t\t\t\t</item>\n",
      "\n",
      "\t\t\t\n",
      "\n",
      "\t\t\t\t<item>\n",
      "\n",
      "\t\t\t\t\t<dataTime>2017-04-19</dataTime>\n",
      "\n",
      "\t\t\t\t\t<informCode>PM10</informCode>\n",
      "\n",
      "\t\t\t\t</item>\n",
      "\n",
      "\t\t\t\n",
      "\n",
      "\t\t\t\t<item>\n",
      "\n",
      "\t\t\t\t\t<dataTime>2017-04-19</dataTime>\n",
      "\n",
      "\t\t\t\t\t<informCode>PM10</informCode>\n",
      "\n",
      "\t\t\t\t</item>\n",
      "\n",
      "\t\t\t\n",
      "\n",
      "\t\t\t\t<item>\n",
      "\n",
      "\t\t\t\t\t<dataTime>2017-04-19</dataTime>\n",
      "\n",
      "\t\t\t\t\t<informCode>PM25</informCode>\n",
      "\n",
      "\t\t\t\t</item>\n",
      "\n",
      "\t\t\t\n",
      "\n",
      "\t\t\t\t<item>\n",
      "\n",
      "\t\t\t\t\t<dataTime>2017-04-19</dataTime>\n",
      "\n",
      "\t\t\t\t\t<informCode>PM25</informCode>\n",
      "\n",
      "\t\t\t\t</item>\n",
      "\n",
      "\t\t\t\n",
      "\n",
      "\t\t\t\t<item>\n",
      "\n",
      "\t\t\t\t\t<dataTime>2017-04-18</dataTime>\n",
      "\n",
      "\t\t\t\t\t<informCode>PM25</informCode>\n",
      "\n",
      "\t\t\t\t</item>\n",
      "\n",
      "\t\t\t\n",
      "\n",
      "\t\t</items>\n",
      "\n",
      "\t\t\t<numOfRows>10</numOfRows>\n",
      "\n",
      "\t\t\t<pageNo>1</pageNo>\n",
      "\n",
      "\t\t\t<totalCount>881</totalCount>\n",
      "\n",
      "\t</body>\n",
      "\n",
      "</response>\n",
      "\n",
      "\n"
     ]
    }
   ],
   "source": [
    "!python src/ds_open_gokr_ex.py"
   ]
  }
 ],
 "metadata": {
  "kernelspec": {
   "display_name": "Python 2",
   "language": "python",
   "name": "python2"
  },
  "language_info": {
   "codemirror_mode": {
    "name": "ipython",
    "version": 2
   },
   "file_extension": ".py",
   "mimetype": "text/x-python",
   "name": "python",
   "nbconvert_exporter": "python",
   "pygments_lexer": "ipython2",
   "version": "2.7.13"
  }
 },
 "nbformat": 4,
 "nbformat_minor": 2
}
