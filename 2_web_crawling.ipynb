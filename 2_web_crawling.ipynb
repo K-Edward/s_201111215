{
 "cells": [
  {
   "cell_type": "markdown",
   "metadata": {},
   "source": [
    "# 웹데이터"
   ]
  },
  {
   "cell_type": "code",
   "execution_count": 19,
   "metadata": {
    "collapsed": false
   },
   "outputs": [
    {
     "ename": "SyntaxError",
     "evalue": "invalid syntax (<ipython-input-19-100ae1c6fc0d>, line 2)",
     "output_type": "error",
     "traceback": [
      "\u001b[0;36m  File \u001b[0;32m\"<ipython-input-19-100ae1c6fc0d>\"\u001b[0;36m, line \u001b[0;32m2\u001b[0m\n\u001b[0;31m    <!DOCTYPE html>\u001b[0m\n\u001b[0m    ^\u001b[0m\n\u001b[0;31mSyntaxError\u001b[0m\u001b[0;31m:\u001b[0m invalid syntax\n"
     ]
    }
   ],
   "source": [
    "##html\n",
    "<!DOCTYPE html>\n",
    "<html>\n",
    "<head>\n",
    "<meta charset=\"UTF-8\">\n",
    "<title>My Home Page</title>\n",
    "</head>\n",
    "<body>\n",
    "<h1>안녕하십니까</h1>\n",
    "<p>오늘은 프로그래밍 하는 날...</p>\n",
    "<p>Today we do programming...</p>\n",
    "</body>\n",
    "</html>"
   ]
  },
  {
   "cell_type": "code",
   "execution_count": 15,
   "metadata": {
    "collapsed": false
   },
   "outputs": [
    {
     "data": {
      "text/plain": [
       "True"
      ]
     },
     "execution_count": 15,
     "metadata": {},
     "output_type": "execute_result"
    }
   ],
   "source": [
    "import webbrowser\n",
    "import os\n",
    "\n",
    "myuri='file://'+'localhost'+os.path.join(os.getcwd(), 'src/mypage1.html')\n",
    "webbrowser.open(myuri)"
   ]
  },
  {
   "cell_type": "code",
   "execution_count": 8,
   "metadata": {
    "collapsed": false
   },
   "outputs": [
    {
     "data": {
      "text/plain": [
       "True"
      ]
     },
     "execution_count": 8,
     "metadata": {},
     "output_type": "execute_result"
    }
   ],
   "source": [
    "#브라우저에서 지도 열기\n",
    "import webbrowser\n",
    "myurl='https://www.google.co.kr/maps/place/Hongji-dong,+Jongno-gu,+Seoul/'\n",
    "webbrowser.open(myurl)"
   ]
  },
  {
   "cell_type": "code",
   "execution_count": 16,
   "metadata": {
    "collapsed": false
   },
   "outputs": [
    {
     "name": "stdout",
     "output_type": "stream",
     "text": [
      "a=4&c=2016&b=20&e=30&d=6&f=2016&s=%5EKS11\n"
     ]
    }
   ],
   "source": [
    "import urllib\n",
    "params = urllib.urlencode({\"a\":4, \"b\":20, \"c\":2016, \"d\":6, \"e\":30, \"f\":2016, \"s\":\"^KS11\"})\n",
    "print params"
   ]
  },
  {
   "cell_type": "code",
   "execution_count": 17,
   "metadata": {
    "collapsed": false
   },
   "outputs": [
    {
     "name": "stdout",
     "output_type": "stream",
     "text": [
      "%23q=python+tutorial\n"
     ]
    }
   ],
   "source": [
    "import urllib\n",
    "params = urllib.urlencode({\"#q\":\"python tutorial\"})\n",
    "print params"
   ]
  },
  {
   "cell_type": "code",
   "execution_count": 18,
   "metadata": {
    "collapsed": false
   },
   "outputs": [
    {
     "name": "stdout",
     "output_type": "stream",
     "text": [
      "%7E\n",
      "~\n"
     ]
    }
   ],
   "source": [
    "print urllib.quote('~');\n",
    "print urllib.quote('~', safe='~');"
   ]
  },
  {
   "cell_type": "code",
   "execution_count": 10,
   "metadata": {
    "collapsed": false
   },
   "outputs": [
    {
     "name": "stdout",
     "output_type": "stream",
     "text": [
      "<!doctype html>\n",
      "<!--[if lt IE 7]>   <html class=\"no-js ie6 lt-ie7 lt-ie8 lt-ie9\">   <![endif]-->\n",
      "<!--[if IE 7]>      <html class=\"no-js ie7 lt-ie8 lt-ie9\">          <![endif]-->\n",
      "<!--[if IE 8]>      <html class=\"no-js ie8 lt-ie9\">                 <![endif]-->\n",
      "<!--[if gt IE 8]><!--><html class=\"no-js\" lang=\"en\" dir=\"ltr\">  <!--<![endif]-->\n",
      "\n",
      "<head>\n",
      "    <meta charset=\"utf-8\">\n",
      "    <meta http-equiv=\"X-UA-Compatible\" content=\"IE=edge\">\n",
      "\n",
      "    <link rel=\"prefetch\" href=\"//ajax.googleapis.com/ajax/libs/jqu\n"
     ]
    }
   ],
   "source": [
    "import urllib2\n",
    "response = urllib2.urlopen(\"https://www.python.org/\")\n",
    "html = response.read()\n",
    "response.close()\n",
    "print html[:500]"
   ]
  },
  {
   "cell_type": "code",
   "execution_count": 9,
   "metadata": {
    "collapsed": false,
    "scrolled": false
   },
   "outputs": [
    {
     "name": "stdout",
     "output_type": "stream",
     "text": [
      "<!doctype html>\n",
      "<!--[if lt IE 7]>   <html class=\"no-js ie6 lt-ie7 lt-ie8 lt-ie9\">   <![endif]-->\n",
      "<!--[if IE 7]>      <html class=\"no-js ie7 lt-ie8 lt-ie9\">          <![endif]-->\n",
      "<!--[if IE 8]>      <html class=\"no-js ie8 lt-ie9\">                 <![endif]-->\n",
      "<!--[if gt IE 8]><!--><html class=\"no-js\" lang=\"en\" dir=\"ltr\">  <!--<![endif]-->\n",
      "\n",
      "<head>\n",
      "    <meta charset=\"utf-8\">\n",
      "    <meta http-equiv=\"X-UA-Compatible\" content=\"IE=edge\">\n",
      "\n",
      "    <link rel=\"prefetch\" href=\"//ajax.googleapis.com/ajax/libs/jqu\n"
     ]
    }
   ],
   "source": [
    "import urllib2\n",
    "url = 'http://www.python.org'\n",
    "request = urllib2.Request(url)\n",
    "response = urllib2.urlopen(request)\n",
    "html = response.read()\n",
    "print html[:500]\n"
   ]
  },
  {
   "cell_type": "code",
   "execution_count": 11,
   "metadata": {
    "collapsed": false
   },
   "outputs": [
    {
     "data": {
      "text/plain": [
       "str"
      ]
     },
     "execution_count": 11,
     "metadata": {},
     "output_type": "execute_result"
    }
   ],
   "source": [
    "type(html)"
   ]
  },
  {
   "cell_type": "code",
   "execution_count": 13,
   "metadata": {
    "collapsed": false
   },
   "outputs": [
    {
     "data": {
      "text/plain": [
       "instance"
      ]
     },
     "execution_count": 13,
     "metadata": {},
     "output_type": "execute_result"
    }
   ],
   "source": [
    "type(response)"
   ]
  },
  {
   "cell_type": "code",
   "execution_count": 14,
   "metadata": {
    "collapsed": false
   },
   "outputs": [
    {
     "name": "stdout",
     "output_type": "stream",
     "text": [
      "<!doctype html>\n",
      "<html>\n",
      "<head>\n",
      "    <title>Example Domain</title>\n",
      "\n",
      "    <meta charset=\"utf-8\" />\n",
      "    <m\n"
     ]
    }
   ],
   "source": [
    "import urllib2\n",
    "\n",
    "request_headers = {\n",
    "    \"User-Agent\" : \"Mozilla/5.0 (compatible; MSIE 9.0; Windows)\",\n",
    "    \"Accept\" : \"text/html,application/xhtml+xml, */*\",\n",
    "    \"Accept-Language\" : \"en-US\",\n",
    "    \"Connection\" : \"keep-alive\"\n",
    "}\n",
    "\n",
    "request = urllib2.Request(\"http://www.example.com\", headers = request_headers)\n",
    "response = urllib2.urlopen(request)\n",
    "html = response.read()\n",
    "print html[:100]"
   ]
  },
  {
   "cell_type": "code",
   "execution_count": 15,
   "metadata": {
    "collapsed": false
   },
   "outputs": [
    {
     "name": "stdout",
     "output_type": "stream",
     "text": [
      "404 OK\n",
      "html has something!\n"
     ]
    }
   ],
   "source": [
    "req = urllib2.Request('http://www.python.org/fish.html')\n",
    "\n",
    "try:\n",
    "    response = urllib2.urlopen(req)\n",
    "except urllib2.HTTPError, e:\n",
    "    print e.code, e.reason\n",
    "    \n",
    "if html is None:\n",
    "    print(\"URL is not found\")\n",
    "else:\n",
    "    print(\"html has something!\")"
   ]
  },
  {
   "cell_type": "code",
   "execution_count": 16,
   "metadata": {
    "collapsed": false
   },
   "outputs": [
    {
     "data": {
      "text/html": [
       "<html>\n",
       "<body>\n",
       "<h2 class = \"my\">Turn this into blue</h2>\n",
       "<button onclick=\"myFunction()\">Click</button>\n",
       "<script>\n",
       "    function myFunction(){\n",
       "        document.querySelector(\".my\").style.backgroundColor = \"blue\";\n",
       "    }\n",
       "</script>\n",
       "</body>\n",
       "</html>"
      ],
      "text/plain": [
       "<IPython.core.display.HTML object>"
      ]
     },
     "metadata": {},
     "output_type": "display_data"
    }
   ],
   "source": [
    "%%html\n",
    "<html>\n",
    "<body>\n",
    "<h2 class = \"my\">Turn this into blue</h2>\n",
    "<button onclick=\"myFunction()\">Click</button>\n",
    "<script>\n",
    "    function myFunction(){\n",
    "        document.querySelector(\".my\").style.backgroundColor = \"blue\";\n",
    "    }\n",
    "</script>\n",
    "</body>\n",
    "</html>"
   ]
  },
  {
   "cell_type": "code",
   "execution_count": 17,
   "metadata": {
    "collapsed": false
   },
   "outputs": [
    {
     "data": {
      "text/html": [
       "<html>\n",
       "<body>\n",
       "<p id=\"p2\">Hello World!</p>\n",
       "<script>\n",
       "    document.getElementById(\"p2\").style.color=\"red\";\n",
       "</script>\n",
       "<p>Hello World turned into RED!</p>\n",
       "</body>\n",
       "</html>"
      ],
      "text/plain": [
       "<IPython.core.display.HTML object>"
      ]
     },
     "metadata": {},
     "output_type": "display_data"
    }
   ],
   "source": [
    "%%HTML\n",
    "<html>\n",
    "<body>\n",
    "<p id=\"p2\">Hello World!</p>\n",
    "<script>\n",
    "    document.getElementById(\"p2\").style.color=\"red\";\n",
    "</script>\n",
    "<p>Hello World turned into RED!</p>\n",
    "</body>\n",
    "</html>"
   ]
  },
  {
   "cell_type": "code",
   "execution_count": 19,
   "metadata": {
    "collapsed": false,
    "scrolled": true
   },
   "outputs": [
    {
     "name": "stdout",
     "output_type": "stream",
     "text": [
      "<title>Welcome to Python.org</title>\n",
      "[<div class=\"top-bar do-not-print\" id=\"top\">\\n<nav class=\"meta-navigation container\" role=\"navigation\">\\n<div class=\"skip-link screen-reader-text\">\\n<a href=\"#content\" title=\"Skip to content\">Skip to content</a>\\n</div>\\n<a aria-hidden=\"true\" class=\"jump-link\" href=\"#python-network\" id=\"close-python-network\">\\n<span aria-hidden=\"true\" class=\"icon-arrow-down\"><span>\\u25bc</span></span> Close\\n                </a>\\n<ul class=\"menu\" role=\"tree\">\\n<li class=\"python-meta current_item selectedcurrent_branch selected\">\\n<a class=\"current_item selectedcurrent_branch selected\" href=\"/\" title=\"The Python Programming Language\">Python</a>\\n</li>\\n<li class=\"psf-meta \">\\n<a href=\"/psf-landing/\" title=\"The Python Software Foundation\">PSF</a>\\n</li>\\n<li class=\"docs-meta \">\\n<a href=\"https://docs.python.org\" title=\"Python Documentation\">Docs</a>\\n</li>\\n<li class=\"pypi-meta \">\\n<a href=\"https://pypi.python.org/\" title=\"Python Package Index\">PyPI</a>\\n</li>\\n<li class=\"jobs-meta \">\\n<a href=\"/jobs/\" title=\"Python Job Board\">Jobs</a>\\n</li>\\n<li class=\"shop-meta \">\\n<a href=\"/community/\" title=\"Python Community\">Community</a>\\n</li>\\n</ul>\\n<a aria-hidden=\"true\" class=\"jump-link\" href=\"#top\" id=\"python-network\">\\n<span aria-hidden=\"true\" class=\"icon-arrow-up\"><span>\\u25b2</span></span> The Python Network\\n                </a>\\n</nav>\\n</div>]\n"
     ]
    }
   ],
   "source": [
    "##beautiful soup 사용예제\n",
    "from bs4 import BeautifulSoup\n",
    "import requests\n",
    "page = requests.get(\"https://www.python.org/\")\n",
    "soup = BeautifulSoup(page.content,'lxml')\n",
    "print soup.title\n",
    "print soup.find_all('div', class_='do-not-print', id='top')"
   ]
  },
  {
   "cell_type": "code",
   "execution_count": 20,
   "metadata": {
    "collapsed": false,
    "scrolled": true
   },
   "outputs": [
    {
     "data": {
      "text/plain": [
       "bs4.BeautifulSoup"
      ]
     },
     "execution_count": 20,
     "metadata": {},
     "output_type": "execute_result"
    }
   ],
   "source": [
    "type (soup)"
   ]
  },
  {
   "cell_type": "code",
   "execution_count": 37,
   "metadata": {
    "collapsed": false,
    "scrolled": false
   },
   "outputs": [
    {
     "name": "stdout",
     "output_type": "stream",
     "text": [
      "<bound method BeautifulSoup.find_all of <!DOCTYPE html>\\n<!--[if lt IE 7]>   <html class=\"no-js ie6 lt-ie7 lt-ie8 lt-ie9\">   <![endif]--><!--[if IE 7]>      <html class=\"no-js ie7 lt-ie8 lt-ie9\">          <![endif]--><!--[if IE 8]>      <html class=\"no-js ie8 lt-ie9\">                 <![endif]--><!--[if gt IE 8]><!--><html class=\"no-js\" dir=\"ltr\" lang=\"en\"> <!--<![endif]-->\\n<head>\\n<meta charset=\"unicode-escape\"/>\\n<meta content=\"IE=edge\" http-equiv=\"X-UA-Compatible\"/>\\n<link href=\"//ajax.googleapis.com/ajax/libs/jquery/1.8.2/jquery.min.js\" rel=\"prefetch\"/>\\n<meta content=\"Python.org\" name=\"application-name\"/>\\n<meta content=\"The official home of the Python Programming Language\" name=\"msapplication-tooltip\"/>\\n<meta content=\"Python.org\" name=\"apple-mobile-web-app-title\"/>\\n<meta content=\"yes\" name=\"apple-mobile-web-app-capable\"/>\\n<meta content=\"black\" name=\"apple-mobile-web-app-status-bar-style\"/>\\n<meta content=\"width=device-width, initial-scale=1.0\" name=\"viewport\"/>\\n<meta content=\"True\" name=\"HandheldFriendly\"/>\\n<meta content=\"telephone=no\" name=\"format-detection\"/>\\n<meta content=\"on\" http-equiv=\"cleartype\"/>\\n<meta content=\"false\" http-equiv=\"imagetoolbar\"/>\\n<script src=\"/static/js/libs/modernizr.js\"></script>\\n<link href=\"/static/stylesheets/style.css\" rel=\"stylesheet\" title=\"default\" type=\"text/css\"/>\\n<link href=\"/static/stylesheets/mq.css\" media=\"not print, braille, embossed, speech, tty\" rel=\"stylesheet\" type=\"text/css\"/>\\n<!--[if (lte IE 8)&(!IEMobile)]>\\n    <link href=\"/static/stylesheets/no-mq.css\" rel=\"stylesheet\" type=\"text/css\" media=\"screen\" />\\n    \\n    \\n    <![endif]-->\\n<link href=\"/static/favicon.ico\" rel=\"icon\" type=\"image/x-icon\"/>\\n<link href=\"/static/apple-touch-icon-144x144-precomposed.png\" rel=\"apple-touch-icon-precomposed\" sizes=\"144x144\"/>\\n<link href=\"/static/apple-touch-icon-114x114-precomposed.png\" rel=\"apple-touch-icon-precomposed\" sizes=\"114x114\"/>\\n<link href=\"/static/apple-touch-icon-72x72-precomposed.png\" rel=\"apple-touch-icon-precomposed\" sizes=\"72x72\"/>\\n<link href=\"/static/apple-touch-icon-precomposed.png\" rel=\"apple-touch-icon-precomposed\"/>\\n<link href=\"/static/apple-touch-icon-precomposed.png\" rel=\"apple-touch-icon\"/>\\n<meta content=\"/static/metro-icon-144x144-precomposed.png\" name=\"msapplication-TileImage\"/><!-- white shape -->\\n<meta content=\"#3673a5\" name=\"msapplication-TileColor\"/><!-- python blue -->\\n<meta content=\"#3673a5\" name=\"msapplication-navbutton-color\"/>\\n<title>Welcome to Python.org</title>\\n<meta content=\"The official home of the Python Programming Language\" name=\"description\"/>\\n<meta content=\"Python programming language object oriented web free open source software license documentation download community\" name=\"keywords\"/>\\n<meta content=\"website\" property=\"og:type\"/>\\n<meta content=\"Python.org\" property=\"og:site_name\"/>\\n<meta content=\"Welcome to Python.org\" property=\"og:title\"/>\\n<meta content=\"The official home of the Python Programming Language\" property=\"og:description\"/>\\n<meta content=\"https://www.python.org/static/opengraph-icon-200x200.png\" property=\"og:image\"/>\\n<meta content=\"https://www.python.org/static/opengraph-icon-200x200.png\" property=\"og:image:secure_url\"/>\\n<meta content=\"https://www.python.org/\" property=\"og:url\"/>\\n<link href=\"/static/humans.txt\" rel=\"author\"/>\\n<script type=\"application/ld+json\">\\n     {\\n       \"@context\": \"http://schema.org\",\\n       \"@type\": \"WebSite\",\\n       \"url\": \"https://www.python.org/\",\\n       \"potentialAction\": {\\n         \"@type\": \"SearchAction\",\\n         \"target\": \"https://www.python.org/search/?q={search_term_string}\",\\n         \"query-input\": \"required name=search_term_string\"\\n       }\\n     }\\n    </script>\\n<script type=\"text/javascript\">\\n    var _gaq = _gaq || [];\\n    _gaq.push(['_setAccount', 'UA-39055973-1']);\\n    _gaq.push(['_trackPageview']);\\n\\n    (function() {\\n        var ga = document.createElement('script'); ga.type = 'text/javascript'; ga.async = true;\\n        ga.src = ('https:' == document.location.protocol ? 'https://ssl' : 'http://www') + '.google-analytics.com/ga.js';\\n        var s = document.getElementsByTagName('script')[0]; s.parentNode.insertBefore(ga, s);\\n    })();\\n    </script>\\n</head>\\n<body class=\"python home\" id=\"homepage\">\\n<div id=\"touchnav-wrapper\">\\n<div class=\"do-not-print\" id=\"nojs\">\\n<p><strong>Notice:</strong> While Javascript is not essential for this website, your interaction with the content will be limited. Please turn Javascript on for the full experience. </p>\\n</div>\\n<!--[if lt IE 8]>\\n        <div id=\"oldie-warning\" class=\"do-not-print\">\\n            <p><strong>Notice:</strong> Your browser is <em>ancient</em> and <a href=\"http://www.ie6countdown.com/\">Microsoft agrees</a>. <a href=\"http://browsehappy.com/\">Upgrade to a different browser</a> or <a href=\"http://www.google.com/chromeframe/?redirect=true\">install Google Chrome Frame</a> to experience a better web.</p>\\n        </div>\\n        <![endif]-->\\n<!-- Sister Site Links -->\\n<div class=\"top-bar do-not-print\" id=\"top\">\\n<nav class=\"meta-navigation container\" role=\"navigation\">\\n<div class=\"skip-link screen-reader-text\">\\n<a href=\"#content\" title=\"Skip to content\">Skip to content</a>\\n</div>\\n<a aria-hidden=\"true\" class=\"jump-link\" href=\"#python-network\" id=\"close-python-network\">\\n<span aria-hidden=\"true\" class=\"icon-arrow-down\"><span>\\u25bc</span></span> Close\\n                </a>\\n<ul class=\"menu\" role=\"tree\">\\n<li class=\"python-meta current_item selectedcurrent_branch selected\">\\n<a class=\"current_item selectedcurrent_branch selected\" href=\"/\" title=\"The Python Programming Language\">Python</a>\\n</li>\\n<li class=\"psf-meta \">\\n<a href=\"/psf-landing/\" title=\"The Python Software Foundation\">PSF</a>\\n</li>\\n<li class=\"docs-meta \">\\n<a href=\"https://docs.python.org\" title=\"Python Documentation\">Docs</a>\\n</li>\\n<li class=\"pypi-meta \">\\n<a href=\"https://pypi.python.org/\" title=\"Python Package Index\">PyPI</a>\\n</li>\\n<li class=\"jobs-meta \">\\n<a href=\"/jobs/\" title=\"Python Job Board\">Jobs</a>\\n</li>\\n<li class=\"shop-meta \">\\n<a href=\"/community/\" title=\"Python Community\">Community</a>\\n</li>\\n</ul>\\n<a aria-hidden=\"true\" class=\"jump-link\" href=\"#top\" id=\"python-network\">\\n<span aria-hidden=\"true\" class=\"icon-arrow-up\"><span>\\u25b2</span></span> The Python Network\\n                </a>\\n</nav>\\n</div>\\n<!-- Header elements -->\\n<header class=\"main-header\" role=\"banner\">\\n<div class=\"container\">\\n<h1 class=\"site-headline\">\\n<a href=\"/\"><img alt=\"python\\u2122\" class=\"python-logo\" src=\"/static/img/python-logo.png\"/></a>\\n</h1>\\n<div class=\"options-bar do-not-print\">\\n<a class=\"jump-to-menu\" href=\"#site-map\" id=\"site-map-link\"><span class=\"menu-icon\">\\u2261</span> Menu</a><form action=\"/search/\" class=\"search-the-site\" method=\"get\">\\n<fieldset title=\"Search Python.org\">\\n<span aria-hidden=\"true\" class=\"icon-search\"></span>\\n<label class=\"screen-reader-text\" for=\"id-search-field\">Search This Site</label>\\n<input class=\"search-field\" id=\"id-search-field\" name=\"q\" placeholder=\"Search\" role=\"textbox\" tabindex=\"1\" type=\"search\" value=\"\"/>\\n<button class=\"search-button\" id=\"submit\" name=\"submit\" tabindex=\"3\" title=\"Submit this Search\" type=\"submit\">\\n                                GO\\n                            </button>\\n<!--[if IE]><input type=\"text\" style=\"display: none;\" disabled=\"disabled\" size=\"1\" tabindex=\"4\"><![endif]-->\\n</fieldset>\\n</form><span class=\"breaker\"></span><div aria-hidden=\"true\" class=\"adjust-font-size\">\\n<ul aria-label=\"Adjust Text Size on Page\" class=\"navigation menu\">\\n<li aria-haspopup=\"true\" class=\"tier-1 last\">\\n<a class=\"action-trigger\" href=\"#\"><strong><small>A</small> A</strong></a>\\n<ul class=\"subnav menu\">\\n<li class=\"tier-2 element-1\" role=\"treeitem\"><a class=\"text-shrink\" href=\"javascript:;\" title=\"Make Text Smaller\">Smaller</a></li>\\n<li class=\"tier-2 element-2\" role=\"treeitem\"><a class=\"text-grow\" href=\"javascript:;\" title=\"Make Text Larger\">Larger</a></li>\\n<li class=\"tier-2 element-3\" role=\"treeitem\"><a class=\"text-reset\" href=\"javascript:;\" title=\"Reset any font size changes I have made\">Reset</a></li>\\n</ul>\\n</li>\\n</ul>\\n</div><div class=\"winkwink-nudgenudge\">\\n<ul aria-label=\"Social Media Navigation\" class=\"navigation menu\">\\n<li aria-haspopup=\"true\" class=\"tier-1 last\">\\n<a class=\"action-trigger\" href=\"#\">Socialize</a>\\n<ul class=\"subnav menu\">\\n<li class=\"tier-2 element-1\" role=\"treeitem\"><a href=\"http://plus.google.com/+Python\"><span aria-hidden=\"true\" class=\"icon-google-plus\"></span>Google+</a></li>\\n<li class=\"tier-2 element-2\" role=\"treeitem\"><a href=\"http://www.facebook.com/pythonlang?fref=ts\"><span aria-hidden=\"true\" class=\"icon-facebook\"></span>Facebook</a></li>\\n<li class=\"tier-2 element-3\" role=\"treeitem\"><a href=\"http://twitter.com/ThePSF\"><span aria-hidden=\"true\" class=\"icon-twitter\"></span>Twitter</a></li>\\n<li class=\"tier-2 element-4\" role=\"treeitem\"><a href=\"/community/irc/\"><span aria-hidden=\"true\" class=\"icon-freenode\"></span>Chat on IRC</a></li>\\n</ul>\\n</li>\\n</ul>\\n</div><div class=\"account-signin\">\\n<ul aria-label=\"Social Media Navigation\" class=\"navigation menu\">\\n<li aria-haspopup=\"true\" class=\"tier-1 last\">\\n<a href=\"/accounts/login/\" title=\"Sign Up or Sign In to Python.org\">Sign In</a>\\n<ul class=\"subnav menu\">\\n<li class=\"tier-2 element-1\" role=\"treeitem\"><a href=\"/accounts/signup/\">Sign Up / Register</a></li>\\n<li class=\"tier-2 element-2\" role=\"treeitem\"><a href=\"/accounts/login/\">Sign In</a></li>\\n</ul>\\n</li>\\n</ul>\\n</div>\\n</div><!-- end options-bar -->\\n<nav class=\"python-navigation main-navigation do-not-print\" id=\"mainnav\" role=\"navigation\">\\n<ul aria-label=\"Main Navigation\" class=\"navigation menu\" role=\"menubar\">\\n<li aria-haspopup=\"true\" class=\"tier-1 element-1 \" id=\"about\">\\n<a class=\"\" href=\"/about/\" title=\"\">About</a>\\n<ul aria-hidden=\"true\" class=\"subnav menu\" role=\"menu\">\\n<li class=\"tier-2 element-1\" role=\"treeitem\"><a href=\"/about/apps/\" title=\"\">Applications</a></li>\\n<li class=\"tier-2 element-2\" role=\"treeitem\"><a href=\"/about/quotes/\" title=\"\">Quotes</a></li>\\n<li class=\"tier-2 element-3\" role=\"treeitem\"><a href=\"/about/gettingstarted/\" title=\"\">Getting Started</a></li>\\n<li class=\"tier-2 element-4\" role=\"treeitem\"><a href=\"/about/help/\" title=\"\">Help</a></li>\\n<li class=\"tier-2 element-5\" role=\"treeitem\"><a href=\"http://brochure.getpython.info/\" title=\"\">Python Brochure</a></li>\\n</ul>\\n</li>\\n<li aria-haspopup=\"true\" class=\"tier-1 element-2 \" id=\"downloads\">\\n<a class=\"\" href=\"/downloads/\" title=\"\">Downloads</a>\\n<ul aria-hidden=\"true\" class=\"subnav menu\" role=\"menu\">\\n<li class=\"tier-2 element-1\" role=\"treeitem\"><a href=\"/downloads/\" title=\"\">All releases</a></li>\\n<li class=\"tier-2 element-2\" role=\"treeitem\"><a href=\"/downloads/source/\" title=\"\">Source code</a></li>\\n<li class=\"tier-2 element-3\" role=\"treeitem\"><a href=\"/downloads/windows/\" title=\"\">Windows</a></li>\\n<li class=\"tier-2 element-4\" role=\"treeitem\"><a href=\"/downloads/mac-osx/\" title=\"\">Mac OS X</a></li>\\n<li class=\"tier-2 element-5\" role=\"treeitem\"><a href=\"/download/other/\" title=\"\">Other Platforms</a></li>\\n<li class=\"tier-2 element-6\" role=\"treeitem\"><a href=\"https://docs.python.org/3/license.html\" title=\"\">License</a></li>\\n<li class=\"tier-2 element-7\" role=\"treeitem\"><a href=\"/download/alternatives\" title=\"\">Alternative Implementations</a></li>\\n</ul>\\n</li>\\n<li aria-haspopup=\"true\" class=\"tier-1 element-3 \" id=\"documentation\">\\n<a class=\"\" href=\"/doc/\" title=\"\">Documentation</a>\\n<ul aria-hidden=\"true\" class=\"subnav menu\" role=\"menu\">\\n<li class=\"tier-2 element-1\" role=\"treeitem\"><a href=\"/doc/\" title=\"\">Docs</a></li>\\n<li class=\"tier-2 element-2\" role=\"treeitem\"><a href=\"/doc/av\" title=\"\">Audio/Visual Talks</a></li>\\n<li class=\"tier-2 element-3\" role=\"treeitem\"><a href=\"https://wiki.python.org/moin/BeginnersGuide\" title=\"\">Beginner's Guide</a></li>\\n<li class=\"tier-2 element-4\" role=\"treeitem\"><a href=\"https://docs.python.org/devguide/\" title=\"\">Developer's Guide</a></li>\\n<li class=\"tier-2 element-5\" role=\"treeitem\"><a href=\"https://docs.python.org/faq/\" title=\"\">FAQ</a></li>\\n<li class=\"tier-2 element-6\" role=\"treeitem\"><a href=\"http://wiki.python.org/moin/Languages\" title=\"\">Non-English Docs</a></li>\\n<li class=\"tier-2 element-7\" role=\"treeitem\"><a href=\"http://python.org/dev/peps/\" title=\"\">PEP Index</a></li>\\n<li class=\"tier-2 element-8\" role=\"treeitem\"><a href=\"https://wiki.python.org/moin/PythonBooks\" title=\"\">Python Books</a></li>\\n</ul>\\n</li>\\n<li aria-haspopup=\"true\" class=\"tier-1 element-4 \" id=\"community\">\\n<a class=\"\" href=\"/community/\" title=\"\">Community</a>\\n<ul aria-hidden=\"true\" class=\"subnav menu\" role=\"menu\">\\n<li class=\"tier-2 element-1\" role=\"treeitem\"><a href=\"/community/diversity/\" title=\"\">Diversity</a></li>\\n<li class=\"tier-2 element-2\" role=\"treeitem\"><a href=\"/community/irc/\" title=\"\">IRC</a></li>\\n<li class=\"tier-2 element-3\" role=\"treeitem\"><a href=\"/community/lists/\" title=\"\">Mailing Lists</a></li>\\n<li class=\"tier-2 element-4\" role=\"treeitem\"><a href=\"/community/workshops/\" title=\"\">Python Conferences</a></li>\\n<li class=\"tier-2 element-5\" role=\"treeitem\"><a href=\"/community/sigs/\" title=\"\">Special Interest Groups</a></li>\\n<li class=\"tier-2 element-6\" role=\"treeitem\"><a href=\"https://wiki.python.org/moin/\" title=\"\">Python Wiki</a></li>\\n<li class=\"tier-2 element-7\" role=\"treeitem\"><a href=\"/community/logos/\" title=\"\">Python Logo</a></li>\\n<li class=\"tier-2 element-8\" role=\"treeitem\"><a href=\"/community/merchandise/\" title=\"\">Merchandise</a></li>\\n<li class=\"tier-2 element-9\" role=\"treeitem\"><a href=\"/community/awards\" title=\"\">Community Awards</a></li>\\n</ul>\\n</li>\\n<li aria-haspopup=\"true\" class=\"tier-1 element-5 \" id=\"success-stories\">\\n<a class=\"\" href=\"/about/success/\" title=\"success-stories\">Success Stories</a>\\n<ul aria-hidden=\"true\" class=\"subnav menu\" role=\"menu\">\\n<li class=\"tier-2 element-1\" role=\"treeitem\"><a href=\"/about/success/#arts\" title=\"\">Arts</a></li>\\n<li class=\"tier-2 element-2\" role=\"treeitem\"><a href=\"/about/success/#business\" title=\"\">Business</a></li>\\n<li class=\"tier-2 element-3\" role=\"treeitem\"><a href=\"/about/success/#education\" title=\"\">Education</a></li>\\n<li class=\"tier-2 element-4\" role=\"treeitem\"><a href=\"/about/success/#engineering\" title=\"\">Engineering</a></li>\\n<li class=\"tier-2 element-5\" role=\"treeitem\"><a href=\"/about/success/#government\" title=\"\">Government</a></li>\\n<li class=\"tier-2 element-6\" role=\"treeitem\"><a href=\"/about/success/#scientific\" title=\"\">Scientific</a></li>\\n<li class=\"tier-2 element-7\" role=\"treeitem\"><a href=\"/about/success/#software-development\" title=\"\">Software Development</a></li>\\n</ul>\\n</li>\\n<li aria-haspopup=\"true\" class=\"tier-1 element-6 \" id=\"news\">\\n<a class=\"\" href=\"/blogs/\" title=\"News from around the Python world\">News</a>\\n<ul aria-hidden=\"true\" class=\"subnav menu\" role=\"menu\">\\n<li class=\"tier-2 element-1\" role=\"treeitem\"><a href=\"/blogs/\" title=\"Python Insider Blog Posts\">Python News</a></li>\\n<li class=\"tier-2 element-2\" role=\"treeitem\"><a href=\"http://planetpython.org/\" title=\"Planet Python\">Community News</a></li>\\n<li class=\"tier-2 element-3\" role=\"treeitem\"><a href=\"http://pyfound.blogspot.com/\" title=\"PSF Blog\">PSF News</a></li>\\n<li class=\"tier-2 element-4\" role=\"treeitem\"><a href=\"http://pycon.blogspot.com/\" title=\"PyCon Blog\">PyCon News</a></li>\\n</ul>\\n</li>\\n<li aria-haspopup=\"true\" class=\"tier-1 element-7 \" id=\"events\">\\n<a class=\"\" href=\"/events/\" title=\"\">Events</a>\\n<ul aria-hidden=\"true\" class=\"subnav menu\" role=\"menu\">\\n<li class=\"tier-2 element-1\" role=\"treeitem\"><a href=\"/events/python-events\" title=\"\">Python Events</a></li>\\n<li class=\"tier-2 element-2\" role=\"treeitem\"><a href=\"/events/python-user-group/\" title=\"\">User Group Events</a></li>\\n<li class=\"tier-2 element-3\" role=\"treeitem\"><a href=\"/events/python-events/past/\" title=\"\">Python Events Archive</a></li>\\n<li class=\"tier-2 element-4\" role=\"treeitem\"><a href=\"/events/python-user-group/past/\" title=\"\">User Group Events Archive</a></li>\\n<li class=\"tier-2 element-5\" role=\"treeitem\"><a href=\"https://wiki.python.org/moin/PythonEventsCalendar#Submitting_an_Event\" title=\"\">Submit an Event</a></li>\\n</ul>\\n</li>\\n</ul>\\n</nav>\\n<div class=\"header-banner \"> <!-- for optional \"do-not-print\" class -->\\n<div class=\"flex-slideshow slideshow\" id=\"dive-into-python\">\\n<ul class=\"launch-shell menu\" id=\"launch-shell\">\\n<li>\\n<a class=\"button prompt\" data-shell-container=\"#dive-into-python\" href=\"/shell/\" id=\"start-shell\">&gt;_\\n                        <span class=\"message\">Launch Interactive Shell</span>\\n</a>\\n</li>\\n</ul>\\n<ul class=\"slides menu\">\\n<li>\\n<div class=\"slide-code\"><pre><code><span class=\"comment\"># Python 3: Fibonacci series up to n</span>\\r\\n&gt;&gt;&gt; def fib(n):\\r\\n&gt;&gt;&gt;     a, b = 0, 1\\r\\n&gt;&gt;&gt;     while a &lt; n:\\r\\n&gt;&gt;&gt;         print(a, end=' ')\\r\\n&gt;&gt;&gt;         a, b = b, a+b\\r\\n&gt;&gt;&gt;     print()\\r\\n&gt;&gt;&gt; fib(1000)\\r\\n<span class=\"output\">0 1 1 2 3 5 8 13 21 34 55 89 144 233 377 610 987</span></code></pre></div>\\n<div class=\"slide-copy\"><h1>Functions Defined</h1>\\n<p>The core of extensible programming is defining functions. Python allows mandatory and optional arguments, keyword arguments, and even arbitrary argument lists. <a href=\"//docs.python.org/3/tutorial/controlflow.html#defining-functions\">More about defining functions in Python\\xa03</a></p></div>\\n</li>\\n<li>\\n<div class=\"slide-code\"><pre><code><span class=\"comment\"># Python 3: List comprehensions</span>\\r\\n&gt;&gt;&gt; fruits = ['Banana', 'Apple', 'Lime']\\r\\n&gt;&gt;&gt; loud_fruits = [fruit.upper() for fruit in fruits]\\r\\n&gt;&gt;&gt; print(loud_fruits)\\r\\n<span class=\"output\">['BANANA', 'APPLE', 'LIME']</span>\\r\\n\\r\\n<span class=\"comment\"># List and the enumerate function</span>\\r\\n&gt;&gt;&gt; list(enumerate(fruits))\\r\\n<span class=\"output\">[(0, 'Banana'), (1, 'Apple'), (2, 'Lime')]</span></code></pre></div>\\n<div class=\"slide-copy\"><h1>Compound Data Types</h1>\\n<p>Lists (known as arrays in other languages) are one of the compound data types that Python understands. Lists can be indexed, sliced and manipulated with other built-in functions. <a href=\"//docs.python.org/3/tutorial/introduction.html#lists\">More about lists in Python\\xa03</a></p></div>\\n</li>\\n<li>\\n<div class=\"slide-code\"><pre><code><span class=\"comment\"># Python 3: Simple arithmetic</span>\\r\\n&gt;&gt;&gt; 1 / 2\\r\\n<span class=\"output\">0.5</span>\\r\\n&gt;&gt;&gt; 2 ** 3\\r\\n<span class=\"output\">8</span>\\r\\n&gt;&gt;&gt; 17 / 3  <span class=\"comment\"># classic division returns a float</span>\\r\\n<span class=\"output\">5.666666666666667</span>\\r\\n&gt;&gt;&gt; 17 // 3  <span class=\"comment\"># floor division</span>\\r\\n<span class=\"output\">5</span></code></pre></div>\\n<div class=\"slide-copy\"><h1>Intuitive Interpretation</h1>\\n<p>Calculations are simple with Python, and expression syntax is straightforward: the operators <code>+</code>, <code>-</code>, <code>*</code> and <code>/</code> work as expected; parentheses <code>()</code> can be used for grouping. <a href=\"http://docs.python.org/3/tutorial/introduction.html#using-python-as-a-calculator\">More about simple math functions in Python\\xa03</a>.</p></div>\\n</li>\\n<li>\\n<div class=\"slide-code\"><pre><code><span class=\"comment\"># Python 3: Simple output (with Unicode)</span>\\r\\n&gt;&gt;&gt; print(\"Hello, I'm Python!\")\\r\\n<span class=\"output\">Hello, I'm Python!</span>\\r\\n\\r\\n<span class=\"comment\"># Input, assignment</span>\\r\\n&gt;&gt;&gt; name = input('What is your name?\\\\n')\\r\\n&gt;&gt;&gt; print('Hi, %s.' % name)\\r\\n<span class=\"output\">What is your name?\\r\\nPython\\r\\nHi, Python.</span></code></pre></div>\\n<div class=\"slide-copy\"><h1>Quick &amp; Easy to Learn</h1>\\n<p>Experienced programmers in any other language can pick up Python very quickly, and beginners find the clean syntax and indentation structure easy to learn. <a href=\"//docs.python.org/3/tutorial/\">Whet your appetite</a> with our Python\\xa03 overview.</p>\\n</div>\\n</li>\\n<li>\\n<div class=\"slide-code\"><pre><code><span class=\"comment\"># For loop on a list</span>\\r\\n&gt;&gt;&gt; numbers = [2, 4, 6, 8]\\r\\n&gt;&gt;&gt; product = 1\\r\\n&gt;&gt;&gt; for number in numbers:\\r\\n...    product = product * number\\r\\n... \\r\\n&gt;&gt;&gt; print('The product is:', product)\\r\\n<span class=\"output\">The product is: 384</span></code></pre></div>\\n<div class=\"slide-copy\"><h1>All the Flow You\\u2019d Expect</h1>\\n<p>Python knows the usual control flow statements that other languages speak \\u2014 <code>if</code>, <code>for</code>, <code>while</code> and <code>range</code> \\u2014 with some of its own twists, of course. <a href=\"//docs.python.org/3/tutorial/controlflow.html\">More control flow tools in Python\\xa03</a></p></div>\\n</li>\\n</ul>\\n</div>\\n</div>\\n<div class=\"introduction\">\\n<p>Python is a programming language that lets you work quickly <span class=\"breaker\"></span>and integrate systems more effectively. <a class=\"readmore\" href=\"/doc/\">Learn More</a></p>\\n</div>\\n</div><!-- end .container -->\\n</header>\\n<div class=\"content-wrapper\" id=\"content\">\\n<!-- Main Content Column -->\\n<div class=\"container\">\\n<section class=\"main-content \" role=\"main\">\\n<div class=\"row\">\\n<div class=\"small-widget get-started-widget\">\\n<h2 class=\"widget-title\"><span aria-hidden=\"true\" class=\"icon-get-started\"></span>Get Started</h2>\\n<p>Whether you're new to programming or an experienced developer, it's easy to learn and use Python.</p>\\n<p><a href=\"/about/gettingstarted/\">Start with our Beginner\\u2019s Guide</a></p>\\n</div>\\n<div class=\"small-widget download-widget\">\\n<h2 class=\"widget-title\"><span aria-hidden=\"true\" class=\"icon-download\"></span>Download</h2>\\n<p>Python source code and installers are available for download for all versions! Not sure which version to use? <a href=\"https://wiki.python.org/moin/Python2orPython3\">Check here</a>.</p>\\n<p>Latest: <a href=\"/downloads/release/python-360/\">Python 3.6.0</a> - <a href=\"/downloads/release/python-2713/\">Python 2.7.13</a></p>\\n</div>\\n<div class=\"small-widget documentation-widget\">\\n<h2 class=\"widget-title\"><span aria-hidden=\"true\" class=\"icon-documentation\"></span>Docs</h2>\\n<p>Documentation for Python's standard library, along with tutorials and guides, are available online.</p>\\n<p><a href=\"https://docs.python.org\">docs.python.org</a></p>\\n</div>\\n<div class=\"small-widget jobs-widget last\">\\n<h2 class=\"widget-title\"><span aria-hidden=\"true\" class=\"icon-jobs\"></span>Jobs</h2>\\n<p>Looking for work or have a Python related position that you're trying to hire for? Our <strong>relaunched community-run job board</strong> is the place to go.</p>\\n<p><a href=\"//jobs.python.org\">jobs.python.org</a></p>\\n</div>\\n</div>\\n<div class=\"list-widgets row\">\\n<div class=\"medium-widget blog-widget\">\\n<div class=\"shrubbery\">\\n<h2 class=\"widget-title\"><span aria-hidden=\"true\" class=\"icon-news\"></span>Latest News</h2>\\n<p class=\"give-me-more\"><a href=\"http://blog.python.org\" title=\"More News\">More</a></p>\\n<ul class=\"menu\">\\n<li>\\n<time datetime=\"2017-03-05T12:11:00.000006+00:00\"><span class=\"say-no-more\">2017-</span>03-05</time>\\n<a href=\"http://feedproxy.google.com/~r/PythonInsider/~3/w2AW2NRSOEM/python-361rc1-is-now-available-for.html\">Python 3.6.1rc1 is now available. \\xa0 Python 3.6.1rc1 is the ...</a></li>\\n<li>\\n<time datetime=\"2017-01-17T08:40:00.000001+00:00\"><span class=\"say-no-more\">2017-</span>01-17</time>\\n<a href=\"http://feedproxy.google.com/~r/PythonInsider/~3/NeIHRAidlpc/python-353-and-346-are-now-available.html\">Python 3.5.3 and Python 3.4.6 are now available for download. ...</a></li>\\n<li>\\n<time datetime=\"2017-01-03T02:24:00.000001+00:00\"><span class=\"say-no-more\">2017-</span>01-03</time>\\n<a href=\"http://feedproxy.google.com/~r/PythonInsider/~3/UoiMThSwgQM/python-353rc1-and-python-346rc1-are-now.html\">Python 3.5.3rc1 and Python 3.4.6rc1 are now available for download. ...</a></li>\\n<li>\\n<time datetime=\"2016-12-23T10:11:00.000004+00:00\"><span class=\"say-no-more\">2016-</span>12-23</time>\\n<a href=\"http://feedproxy.google.com/~r/PythonInsider/~3/4gOtq8ChYHk/python-360-is-now-available.html\">Python 3.6.0 is now available! \\xa0 Python 3.6.0 is the ...</a></li>\\n<li>\\n<time datetime=\"2016-12-17T21:36:00.000005+00:00\"><span class=\"say-no-more\">2016-</span>12-17</time>\\n<a href=\"http://feedproxy.google.com/~r/PythonInsider/~3/LLpTSlyUots/python-2713-released.html\">The latest bugfix release of the Python 2.7.13 series is ...</a></li>\\n</ul>\\n</div><!-- end .shrubbery -->\\n</div>\\n<div class=\"medium-widget event-widget last\">\\n<div class=\"shrubbery\">\\n<h2 class=\"widget-title\"><span aria-hidden=\"true\" class=\"icon-calendar\"></span>Upcoming Events</h2>\\n<p class=\"give-me-more\"><a href=\"/events/calendars/\" title=\"More Events\">More</a></p>\\n<ul class=\"menu\">\\n<li>\\n<time datetime=\"2017-03-24T18:00:00+00:00\"><span class=\"say-no-more\">2017-</span>03-24</time>\\n<a href=\"/events/python-user-group/508/\">Python Porto Meetup</a></li>\\n<li>\\n<time datetime=\"2017-04-01T00:00:00+00:00\"><span class=\"say-no-more\">2017-</span>04-01</time>\\n<a href=\"/events/python-events/498/\">Rencontres Django 2017</a></li>\\n<li>\\n<time datetime=\"2017-04-03T00:00:00+00:00\"><span class=\"say-no-more\">2017-</span>04-03</time>\\n<a href=\"/events/python-events/467/\">DjangoCon Europe 2017</a></li>\\n<li>\\n<time datetime=\"2017-04-08T00:00:00+00:00\"><span class=\"say-no-more\">2017-</span>04-08</time>\\n<a href=\"/events/python-events/493/\">PythonCamp 2017</a></li>\\n<li>\\n<time datetime=\"2017-04-08T00:00:00+00:00\"><span class=\"say-no-more\">2017-</span>04-08</time>\\n<a href=\"/events/python-user-group/511/\">Django Girls Bucaramanga, Colombia</a></li>\\n</ul>\\n</div>\\n</div>\\n</div>\\n<div class=\"row\">\\n<div class=\"medium-widget success-stories-widget\">\\n<div class=\"shrubbery\">\\n<h2 class=\"widget-title\"><span aria-hidden=\"true\" class=\"icon-success-stories\"></span>Success Stories</h2>\\n<p class=\"give-me-more\"><a href=\"/success-stories/\" title=\"More Success Stories\">More</a></p>\\n<div class=\"success-story-item\" data-weight=\"25\" id=\"success-story-2\" style=\"display: none;\">\\n<blockquote>\\n<a href=\"/success-stories/industrial-light-magic-runs-python/\">ILM runs a batch processing environment capable of modeling, rendering and compositing tens of thousands of motion picture frames per day. Thousands of machines running Linux, IRIX, Compaq Tru64, OS X, Solaris, and Windows join together to provide a production pipeline used by ~800 users daily. Speed of development is key, and Python was a faster way to code (and re-code) the programs that control this production pipeline.</a>\\n</blockquote>\\n<table border=\"0\" cellpadding=\"0\" cellspacing=\"0\" class=\"quote-from\" width=\"100%\">\\n<tbody>\\n<tr>\\n<td><p><a href=\"/success-stories/industrial-light-magic-runs-python/\">Industrial Light &amp; Magic Runs on Python</a> <em>by Tim Fortenberry</em></p></td>\\n</tr>\\n</tbody>\\n</table>\\n</div>\\n</div><!-- end .shrubbery -->\\n</div>\\n<div class=\"medium-widget applications-widget last\">\\n<div class=\"shrubbery\">\\n<h2 class=\"widget-title\"><span aria-hidden=\"true\" class=\"icon-python\"></span>Use Python for\\u2026</h2>\\n<p class=\"give-me-more\"><a href=\"/about/apps\" title=\"More Applications\">More</a></p>\\n<ul class=\"menu\">\\n<li><b>Web Development</b>:\\r\\n        <span class=\"tag-wrapper\"><a class=\"tag\" href=\"http://www.djangoproject.com/\">Django</a>, <a class=\"tag\" href=\"http://www.pylonsproject.org/\">Pyramid</a>, <a class=\"tag\" href=\"http://bottlepy.org\">Bottle</a>, <a class=\"tag\" href=\"http://tornadoweb.org\">Tornado</a>, <a class=\"tag\" href=\"http://flask.pocoo.org/\">Flask</a>, <a class=\"tag\" href=\"http://www.web2py.com/\">web2py</a></span></li>\\n<li><b>GUI Development</b>:\\r\\n        <span class=\"tag-wrapper\"><a class=\"tag\" href=\"http://wiki.python.org/moin/TkInter\">tkInter</a>, <a class=\"tag\" href=\"https://wiki.gnome.org/Projects/PyGObject\">PyGObject</a>, <a class=\"tag\" href=\"http://www.riverbankcomputing.co.uk/software/pyqt/intro\">PyQt</a>, <a class=\"tag\" href=\"https://wiki.qt.io/PySide\">PySide</a>, <a class=\"tag\" href=\"https://kivy.org/\">Kivy</a>, <a class=\"tag\" href=\"http://www.wxpython.org/\">wxPython</a></span></li>\\n<li><b>Scientific and Numeric</b>:\\r\\n        <span class=\"tag-wrapper\">\\n<a class=\"tag\" href=\"http://www.scipy.org\">SciPy</a>, <a class=\"tag\" href=\"http://pandas.pydata.org/\">Pandas</a>, <a class=\"tag\" href=\"http://ipython.org\">IPython</a></span></li>\\n<li><b>Software Development</b>:\\r\\n        <span class=\"tag-wrapper\"><a class=\"tag\" href=\"http://buildbot.net/\">Buildbot</a>, <a class=\"tag\" href=\"http://trac.edgewall.org/\">Trac</a>, <a class=\"tag\" href=\"http://roundup.sourceforge.net/\">Roundup</a></span></li>\\n<li><b>System Administration</b>:\\r\\n        <span class=\"tag-wrapper\"><a class=\"tag\" href=\"http://www.ansible.com\">Ansible</a>, <a class=\"tag\" href=\"http://www.saltstack.com\">Salt</a>, <a class=\"tag\" href=\"https://www.openstack.org\">OpenStack</a></span></li>\\n</ul>\\n</div><!-- end .shrubbery -->\\n</div>\\n</div>\\n<div class=\"pep-widget\">\\n<h2 class=\"widget-title\">\\n<span class=\"prompt\">&gt;&gt;&gt;</span> <a href=\"/dev/peps/\">Python Enhancement Proposals<span class=\"say-no-more\"> (PEPs)</span></a>: The future of Python<span class=\"say-no-more\"> is discussed here.</span>\\n<a aria-hidden=\"true\" class=\"rss-link\" href=\"/dev/peps/peps.rss\"><span class=\"icon-feed\"></span> RSS</a>\\n</h2>\\n</div>\\n<div class=\"psf-widget\">\\n<div class=\"python-logo\"></div>\\n<h2 class=\"widget-title\">\\n<span class=\"prompt\">&gt;&gt;&gt;</span> <a href=\"/psf/\">Python Software Foundation</a>\\n</h2>\\n<p>The mission of the Python Software Foundation is to promote, protect, and advance the Python programming language, and to support and facilitate the growth of a diverse and international community of Python programmers. <a class=\"readmore\" href=\"/psf/\">Learn more</a> </p>\\n<p class=\"click-these\">\\n<a class=\"button\" href=\"/users/membership/\">Become a Member</a>\\n<a class=\"button\" href=\"/psf/donations/\">Donate to the PSF</a>\\n</p>\\n</div>\\n</section>\\n</div><!-- end .container -->\\n</div><!-- end #content .content-wrapper -->\\n<!-- Footer and social media list -->\\n<footer class=\"main-footer\" id=\"site-map\" role=\"contentinfo\">\\n<div class=\"main-footer-links\">\\n<div class=\"container\">\\n<a class=\"jump-link\" href=\"#python-network\" id=\"back-to-top-1\"><span aria-hidden=\"true\" class=\"icon-arrow-up\"><span>\\u25b2</span></span> Back to Top</a>\\n<ul class=\"sitemap navigation menu do-not-print\" id=\"container\" role=\"tree\">\\n<li class=\"tier-1 element-1\">\\n<a href=\"/about/\">About</a>\\n<ul class=\"subnav menu\">\\n<li class=\"tier-2 element-1\" role=\"treeitem\"><a href=\"/about/apps/\" title=\"\">Applications</a></li>\\n<li class=\"tier-2 element-2\" role=\"treeitem\"><a href=\"/about/quotes/\" title=\"\">Quotes</a></li>\\n<li class=\"tier-2 element-3\" role=\"treeitem\"><a href=\"/about/gettingstarted/\" title=\"\">Getting Started</a></li>\\n<li class=\"tier-2 element-4\" role=\"treeitem\"><a href=\"/about/help/\" title=\"\">Help</a></li>\\n<li class=\"tier-2 element-5\" role=\"treeitem\"><a href=\"http://brochure.getpython.info/\" title=\"\">Python Brochure</a></li>\\n</ul>\\n</li>\\n<li class=\"tier-1 element-2\">\\n<a href=\"/downloads/\">Downloads</a>\\n<ul class=\"subnav menu\">\\n<li class=\"tier-2 element-1\" role=\"treeitem\"><a href=\"/downloads/\" title=\"\">All releases</a></li>\\n<li class=\"tier-2 element-2\" role=\"treeitem\"><a href=\"/downloads/source/\" title=\"\">Source code</a></li>\\n<li class=\"tier-2 element-3\" role=\"treeitem\"><a href=\"/downloads/windows/\" title=\"\">Windows</a></li>\\n<li class=\"tier-2 element-4\" role=\"treeitem\"><a href=\"/downloads/mac-osx/\" title=\"\">Mac OS X</a></li>\\n<li class=\"tier-2 element-5\" role=\"treeitem\"><a href=\"/download/other/\" title=\"\">Other Platforms</a></li>\\n<li class=\"tier-2 element-6\" role=\"treeitem\"><a href=\"https://docs.python.org/3/license.html\" title=\"\">License</a></li>\\n<li class=\"tier-2 element-7\" role=\"treeitem\"><a href=\"/download/alternatives\" title=\"\">Alternative Implementations</a></li>\\n</ul>\\n</li>\\n<li class=\"tier-1 element-3\">\\n<a href=\"/doc/\">Documentation</a>\\n<ul class=\"subnav menu\">\\n<li class=\"tier-2 element-1\" role=\"treeitem\"><a href=\"/doc/\" title=\"\">Docs</a></li>\\n<li class=\"tier-2 element-2\" role=\"treeitem\"><a href=\"/doc/av\" title=\"\">Audio/Visual Talks</a></li>\\n<li class=\"tier-2 element-3\" role=\"treeitem\"><a href=\"https://wiki.python.org/moin/BeginnersGuide\" title=\"\">Beginner's Guide</a></li>\\n<li class=\"tier-2 element-4\" role=\"treeitem\"><a href=\"https://docs.python.org/devguide/\" title=\"\">Developer's Guide</a></li>\\n<li class=\"tier-2 element-5\" role=\"treeitem\"><a href=\"https://docs.python.org/faq/\" title=\"\">FAQ</a></li>\\n<li class=\"tier-2 element-6\" role=\"treeitem\"><a href=\"http://wiki.python.org/moin/Languages\" title=\"\">Non-English Docs</a></li>\\n<li class=\"tier-2 element-7\" role=\"treeitem\"><a href=\"http://python.org/dev/peps/\" title=\"\">PEP Index</a></li>\\n<li class=\"tier-2 element-8\" role=\"treeitem\"><a href=\"https://wiki.python.org/moin/PythonBooks\" title=\"\">Python Books</a></li>\\n</ul>\\n</li>\\n<li class=\"tier-1 element-4\">\\n<a href=\"/community/\">Community</a>\\n<ul class=\"subnav menu\">\\n<li class=\"tier-2 element-1\" role=\"treeitem\"><a href=\"/community/diversity/\" title=\"\">Diversity</a></li>\\n<li class=\"tier-2 element-2\" role=\"treeitem\"><a href=\"/community/irc/\" title=\"\">IRC</a></li>\\n<li class=\"tier-2 element-3\" role=\"treeitem\"><a href=\"/community/lists/\" title=\"\">Mailing Lists</a></li>\\n<li class=\"tier-2 element-4\" role=\"treeitem\"><a href=\"/community/workshops/\" title=\"\">Python Conferences</a></li>\\n<li class=\"tier-2 element-5\" role=\"treeitem\"><a href=\"/community/sigs/\" title=\"\">Special Interest Groups</a></li>\\n<li class=\"tier-2 element-6\" role=\"treeitem\"><a href=\"https://wiki.python.org/moin/\" title=\"\">Python Wiki</a></li>\\n<li class=\"tier-2 element-7\" role=\"treeitem\"><a href=\"/community/logos/\" title=\"\">Python Logo</a></li>\\n<li class=\"tier-2 element-8\" role=\"treeitem\"><a href=\"/community/merchandise/\" title=\"\">Merchandise</a></li>\\n<li class=\"tier-2 element-9\" role=\"treeitem\"><a href=\"/community/awards\" title=\"\">Community Awards</a></li>\\n</ul>\\n</li>\\n<li class=\"tier-1 element-5\">\\n<a href=\"/about/success/\" title=\"success-stories\">Success Stories</a>\\n<ul class=\"subnav menu\">\\n<li class=\"tier-2 element-1\" role=\"treeitem\"><a href=\"/about/success/#arts\" title=\"\">Arts</a></li>\\n<li class=\"tier-2 element-2\" role=\"treeitem\"><a href=\"/about/success/#business\" title=\"\">Business</a></li>\\n<li class=\"tier-2 element-3\" role=\"treeitem\"><a href=\"/about/success/#education\" title=\"\">Education</a></li>\\n<li class=\"tier-2 element-4\" role=\"treeitem\"><a href=\"/about/success/#engineering\" title=\"\">Engineering</a></li>\\n<li class=\"tier-2 element-5\" role=\"treeitem\"><a href=\"/about/success/#government\" title=\"\">Government</a></li>\\n<li class=\"tier-2 element-6\" role=\"treeitem\"><a href=\"/about/success/#scientific\" title=\"\">Scientific</a></li>\\n<li class=\"tier-2 element-7\" role=\"treeitem\"><a href=\"/about/success/#software-development\" title=\"\">Software Development</a></li>\\n</ul>\\n</li>\\n<li class=\"tier-1 element-6\">\\n<a href=\"/blogs/\" title=\"News from around the Python world\">News</a>\\n<ul class=\"subnav menu\">\\n<li class=\"tier-2 element-1\" role=\"treeitem\"><a href=\"/blogs/\" title=\"Python Insider Blog Posts\">Python News</a></li>\\n<li class=\"tier-2 element-2\" role=\"treeitem\"><a href=\"http://planetpython.org/\" title=\"Planet Python\">Community News</a></li>\\n<li class=\"tier-2 element-3\" role=\"treeitem\"><a href=\"http://pyfound.blogspot.com/\" title=\"PSF Blog\">PSF News</a></li>\\n<li class=\"tier-2 element-4\" role=\"treeitem\"><a href=\"http://pycon.blogspot.com/\" title=\"PyCon Blog\">PyCon News</a></li>\\n</ul>\\n</li>\\n<li class=\"tier-1 element-7\">\\n<a href=\"/events/\">Events</a>\\n<ul class=\"subnav menu\">\\n<li class=\"tier-2 element-1\" role=\"treeitem\"><a href=\"/events/python-events\" title=\"\">Python Events</a></li>\\n<li class=\"tier-2 element-2\" role=\"treeitem\"><a href=\"/events/python-user-group/\" title=\"\">User Group Events</a></li>\\n<li class=\"tier-2 element-3\" role=\"treeitem\"><a href=\"/events/python-events/past/\" title=\"\">Python Events Archive</a></li>\\n<li class=\"tier-2 element-4\" role=\"treeitem\"><a href=\"/events/python-user-group/past/\" title=\"\">User Group Events Archive</a></li>\\n<li class=\"tier-2 element-5\" role=\"treeitem\"><a href=\"https://wiki.python.org/moin/PythonEventsCalendar#Submitting_an_Event\" title=\"\">Submit an Event</a></li>\\n</ul>\\n</li>\\n<li class=\"tier-1 element-8\">\\n<a href=\"/dev/\">Contributing</a>\\n<ul class=\"subnav menu\">\\n<li class=\"tier-2 element-1\" role=\"treeitem\"><a href=\"http://docs.python.org/devguide/\" title=\"\">Developer's Guide</a></li>\\n<li class=\"tier-2 element-2\" role=\"treeitem\"><a href=\"http://bugs.python.org/\" title=\"\">Issue Tracker</a></li>\\n<li class=\"tier-2 element-3\" role=\"treeitem\"><a href=\"https://mail.python.org/mailman/listinfo/python-dev\" title=\"\">python-dev list</a></li>\\n<li class=\"tier-2 element-4\" role=\"treeitem\"><a href=\"/dev/core-mentorship/\" title=\"\">Core Mentorship</a></li>\\n</ul>\\n</li>\\n</ul>\\n<a class=\"jump-link\" href=\"#python-network\" id=\"back-to-top-2\"><span aria-hidden=\"true\" class=\"icon-arrow-up\"><span>\\u25b2</span></span> Back to Top</a>\\n</div><!-- end .container -->\\n</div> <!-- end .main-footer-links -->\\n<div class=\"site-base\">\\n<div class=\"container\">\\n<ul class=\"footer-links navigation menu do-not-print\" role=\"tree\">\\n<li class=\"tier-1 element-1\"><a href=\"/about/help/\">Help &amp; <span class=\"say-no-more\">General</span> Contact</a></li>\\n<li class=\"tier-1 element-2\"><a href=\"/community/diversity/\">Diversity <span class=\"say-no-more\">Initiatives</span></a></li>\\n<li class=\"tier-1 element-3\"><a href=\"https://github.com/python/pythondotorg/issues\">Submit Website Bug</a></li>\\n<li class=\"tier-1 element-4\">\\n<a href=\"https://status.python.org/\">Status <span class=\"python-status-indicator-default\" id=\"python-status-indicator\"></span></a>\\n</li>\\n</ul>\\n<div class=\"copyright\">\\n<p><small>\\n<span class=\"pre\">Copyright \\xa92001-2017.</span>\\n                            \\xa0<span class=\"pre\"><a href=\"/psf-landing/\">Python Software Foundation</a></span>\\n                            \\xa0<span class=\"pre\"><a href=\"/about/legal/\">Legal Statements</a></span>\\n                            \\xa0<span class=\"pre\"><a href=\"/privacy/\">Privacy Policy</a></span>\\n</small></p>\\n</div>\\n</div><!-- end .container -->\\n</div><!-- end .site-base -->\\n</footer>\\n</div><!-- end #touchnav-wrapper -->\\n<script src=\"//ajax.googleapis.com/ajax/libs/jquery/1.8.2/jquery.min.js\"></script>\\n<script>window.jQuery || document.write('<script src=\"/static/js/libs/jquery-1.8.2.min.js\"><\\\\/script>')</script>\\n<script src=\"/static/js/libs/masonry.pkgd.min.js\"></script>\\n<script charset=\"utf-8\" src=\"/static/js/main-min.js\" type=\"text/javascript\"></script>\\n<!--[if lte IE 7]>\\n    <script type=\"text/javascript\" src=\"/static/js/plugins/IE8-min.js\" charset=\"utf-8\"></script>\\n    \\n    \\n    <![endif]-->\\n<!--[if lte IE 8]>\\n    <script type=\"text/javascript\" src=\"/static/js/plugins/getComputedStyle-min.js\" charset=\"utf-8\"></script>\\n    \\n    \\n    <![endif]-->\\n</body>\\n</html>\\n>\n"
     ]
    }
   ],
   "source": [
    "print soup.find_all"
   ]
  },
  {
   "cell_type": "code",
   "execution_count": 28,
   "metadata": {
    "collapsed": false,
    "scrolled": true
   },
   "outputs": [
    {
     "name": "stdout",
     "output_type": "stream",
     "text": [
      "[<div class=\"top-bar do-not-print\" id=\"top\">\\n<nav class=\"meta-navigation container\" role=\"navigation\">\\n<div class=\"skip-link screen-reader-text\">\\n<a href=\"#content\" title=\"Skip to content\">Skip to content</a>\\n</div>\\n<a aria-hidden=\"true\" class=\"jump-link\" href=\"#python-network\" id=\"close-python-network\">\\n<span aria-hidden=\"true\" class=\"icon-arrow-down\"><span>\\u25bc</span></span> Close\\n                </a>\\n<ul class=\"menu\" role=\"tree\">\\n<li class=\"python-meta current_item selectedcurrent_branch selected\">\\n<a class=\"current_item selectedcurrent_branch selected\" href=\"/\" title=\"The Python Programming Language\">Python</a>\\n</li>\\n<li class=\"psf-meta \">\\n<a href=\"/psf-landing/\" title=\"The Python Software Foundation\">PSF</a>\\n</li>\\n<li class=\"docs-meta \">\\n<a href=\"https://docs.python.org\" title=\"Python Documentation\">Docs</a>\\n</li>\\n<li class=\"pypi-meta \">\\n<a href=\"https://pypi.python.org/\" title=\"Python Package Index\">PyPI</a>\\n</li>\\n<li class=\"jobs-meta \">\\n<a href=\"/jobs/\" title=\"Python Job Board\">Jobs</a>\\n</li>\\n<li class=\"shop-meta \">\\n<a href=\"/community/\" title=\"Python Community\">Community</a>\\n</li>\\n</ul>\\n<a aria-hidden=\"true\" class=\"jump-link\" href=\"#top\" id=\"python-network\">\\n<span aria-hidden=\"true\" class=\"icon-arrow-up\"><span>\\u25b2</span></span> The Python Network\\n                </a>\\n</nav>\\n</div>]\n"
     ]
    }
   ],
   "source": [
    "##또 다른 방법 -> key-value 구조로 dic으로 처리해서 찾아주는 방법\n",
    "print soup.find_all(\"div\", {\"class\":\"do-not-print\", \"id\" : \"top\"}) "
   ]
  },
  {
   "cell_type": "code",
   "execution_count": 41,
   "metadata": {
    "collapsed": false
   },
   "outputs": [
    {
     "name": "stdout",
     "output_type": "stream",
     "text": [
      "0 #content\n",
      "1 #python-network\n",
      "2 /\n",
      "3 /psf-landing/\n",
      "4 https://docs.python.org\n",
      "5 https://pypi.python.org/\n",
      "6 /jobs/\n",
      "7 /community/\n",
      "8 #top\n",
      "9 /\n",
      "10 #site-map\n",
      "11 #\n",
      "12 javascript:;\n",
      "13 javascript:;\n",
      "14 javascript:;\n",
      "15 #\n",
      "16 http://plus.google.com/+Python\n",
      "17 http://www.facebook.com/pythonlang?fref=ts\n",
      "18 http://twitter.com/ThePSF\n",
      "19 /community/irc/\n",
      "20 /accounts/login/\n",
      "21 /accounts/signup/\n",
      "22 /accounts/login/\n",
      "23 /about/\n",
      "24 /about/apps/\n",
      "25 /about/quotes/\n",
      "26 /about/gettingstarted/\n",
      "27 /about/help/\n",
      "28 http://brochure.getpython.info/\n",
      "29 /downloads/\n",
      "30 /downloads/\n",
      "31 /downloads/source/\n",
      "32 /downloads/windows/\n",
      "33 /downloads/mac-osx/\n",
      "34 /download/other/\n",
      "35 https://docs.python.org/3/license.html\n",
      "36 /download/alternatives\n",
      "37 /doc/\n",
      "38 /doc/\n",
      "39 /doc/av\n",
      "40 https://wiki.python.org/moin/BeginnersGuide\n",
      "41 https://docs.python.org/devguide/\n",
      "42 https://docs.python.org/faq/\n",
      "43 http://wiki.python.org/moin/Languages\n",
      "44 http://python.org/dev/peps/\n",
      "45 https://wiki.python.org/moin/PythonBooks\n",
      "46 /community/\n",
      "47 /community/diversity/\n",
      "48 /community/irc/\n",
      "49 /community/lists/\n",
      "50 /community/workshops/\n",
      "51 /community/sigs/\n",
      "52 https://wiki.python.org/moin/\n",
      "53 /community/logos/\n",
      "54 /community/merchandise/\n",
      "55 /community/awards\n",
      "56 /about/success/\n",
      "57 /about/success/#arts\n",
      "58 /about/success/#business\n",
      "59 /about/success/#education\n",
      "60 /about/success/#engineering\n",
      "61 /about/success/#government\n",
      "62 /about/success/#scientific\n",
      "63 /about/success/#software-development\n",
      "64 /blogs/\n",
      "65 /blogs/\n",
      "66 http://planetpython.org/\n",
      "67 http://pyfound.blogspot.com/\n",
      "68 http://pycon.blogspot.com/\n",
      "69 /events/\n",
      "70 /events/python-events\n",
      "71 /events/python-user-group/\n",
      "72 /events/python-events/past/\n",
      "73 /events/python-user-group/past/\n",
      "74 https://wiki.python.org/moin/PythonEventsCalendar#Submitting_an_Event\n",
      "75 /shell/\n",
      "76 //docs.python.org/3/tutorial/controlflow.html#defining-functions\n",
      "77 //docs.python.org/3/tutorial/introduction.html#lists\n",
      "78 http://docs.python.org/3/tutorial/introduction.html#using-python-as-a-calculator\n",
      "79 //docs.python.org/3/tutorial/\n",
      "80 //docs.python.org/3/tutorial/controlflow.html\n",
      "81 /doc/\n",
      "82 /about/gettingstarted/\n",
      "83 https://wiki.python.org/moin/Python2orPython3\n",
      "84 /downloads/release/python-360/\n",
      "85 /downloads/release/python-2713/\n",
      "86 https://docs.python.org\n",
      "87 //jobs.python.org\n",
      "88 http://blog.python.org\n",
      "89 http://feedproxy.google.com/~r/PythonInsider/~3/w2AW2NRSOEM/python-361rc1-is-now-available-for.html\n",
      "90 http://feedproxy.google.com/~r/PythonInsider/~3/NeIHRAidlpc/python-353-and-346-are-now-available.html\n",
      "91 http://feedproxy.google.com/~r/PythonInsider/~3/UoiMThSwgQM/python-353rc1-and-python-346rc1-are-now.html\n",
      "92 http://feedproxy.google.com/~r/PythonInsider/~3/4gOtq8ChYHk/python-360-is-now-available.html\n",
      "93 http://feedproxy.google.com/~r/PythonInsider/~3/LLpTSlyUots/python-2713-released.html\n",
      "94 /events/calendars/\n",
      "95 /events/python-user-group/508/\n",
      "96 /events/python-events/498/\n",
      "97 /events/python-events/467/\n",
      "98 /events/python-events/493/\n",
      "99 /events/python-user-group/511/\n",
      "100 /success-stories/\n",
      "101 /success-stories/industrial-light-magic-runs-python/\n",
      "102 /success-stories/industrial-light-magic-runs-python/\n",
      "103 /about/apps\n",
      "104 http://www.djangoproject.com/\n",
      "105 http://www.pylonsproject.org/\n",
      "106 http://bottlepy.org\n",
      "107 http://tornadoweb.org\n",
      "108 http://flask.pocoo.org/\n",
      "109 http://www.web2py.com/\n",
      "110 http://wiki.python.org/moin/TkInter\n",
      "111 https://wiki.gnome.org/Projects/PyGObject\n",
      "112 http://www.riverbankcomputing.co.uk/software/pyqt/intro\n",
      "113 https://wiki.qt.io/PySide\n",
      "114 https://kivy.org/\n",
      "115 http://www.wxpython.org/\n",
      "116 http://www.scipy.org\n",
      "117 http://pandas.pydata.org/\n",
      "118 http://ipython.org\n",
      "119 http://buildbot.net/\n",
      "120 http://trac.edgewall.org/\n",
      "121 http://roundup.sourceforge.net/\n",
      "122 http://www.ansible.com\n",
      "123 http://www.saltstack.com\n",
      "124 https://www.openstack.org\n",
      "125 /dev/peps/\n",
      "126 /dev/peps/peps.rss\n",
      "127 /psf/\n",
      "128 /psf/\n",
      "129 /users/membership/\n",
      "130 /psf/donations/\n",
      "131 #python-network\n",
      "132 /about/\n",
      "133 /about/apps/\n",
      "134 /about/quotes/\n",
      "135 /about/gettingstarted/\n",
      "136 /about/help/\n",
      "137 http://brochure.getpython.info/\n",
      "138 /downloads/\n",
      "139 /downloads/\n",
      "140 /downloads/source/\n",
      "141 /downloads/windows/\n",
      "142 /downloads/mac-osx/\n",
      "143 /download/other/\n",
      "144 https://docs.python.org/3/license.html\n",
      "145 /download/alternatives\n",
      "146 /doc/\n",
      "147 /doc/\n",
      "148 /doc/av\n",
      "149 https://wiki.python.org/moin/BeginnersGuide\n",
      "150 https://docs.python.org/devguide/\n",
      "151 https://docs.python.org/faq/\n",
      "152 http://wiki.python.org/moin/Languages\n",
      "153 http://python.org/dev/peps/\n",
      "154 https://wiki.python.org/moin/PythonBooks\n",
      "155 /community/\n",
      "156 /community/diversity/\n",
      "157 /community/irc/\n",
      "158 /community/lists/\n",
      "159 /community/workshops/\n",
      "160 /community/sigs/\n",
      "161 https://wiki.python.org/moin/\n",
      "162 /community/logos/\n",
      "163 /community/merchandise/\n",
      "164 /community/awards\n",
      "165 /about/success/\n",
      "166 /about/success/#arts\n",
      "167 /about/success/#business\n",
      "168 /about/success/#education\n",
      "169 /about/success/#engineering\n",
      "170 /about/success/#government\n",
      "171 /about/success/#scientific\n",
      "172 /about/success/#software-development\n",
      "173 /blogs/\n",
      "174 /blogs/\n",
      "175 http://planetpython.org/\n",
      "176 http://pyfound.blogspot.com/\n",
      "177 http://pycon.blogspot.com/\n",
      "178 /events/\n",
      "179 /events/python-events\n",
      "180 /events/python-user-group/\n",
      "181 /events/python-events/past/\n",
      "182 /events/python-user-group/past/\n",
      "183 https://wiki.python.org/moin/PythonEventsCalendar#Submitting_an_Event\n",
      "184 /dev/\n",
      "185 http://docs.python.org/devguide/\n",
      "186 http://bugs.python.org/\n",
      "187 https://mail.python.org/mailman/listinfo/python-dev\n",
      "188 /dev/core-mentorship/\n",
      "189 #python-network\n",
      "190 /about/help/\n",
      "191 /community/diversity/\n",
      "192 https://github.com/python/pythondotorg/issues\n",
      "193 https://status.python.org/\n",
      "194 /psf-landing/\n",
      "195 /about/legal/\n",
      "196 /privacy/\n"
     ]
    }
   ],
   "source": [
    "for counter, link in enumerate(soup.find_all('a')):\n",
    "    print counter, link.get('href')"
   ]
  },
  {
   "cell_type": "code",
   "execution_count": 38,
   "metadata": {
    "collapsed": false,
    "scrolled": false
   },
   "outputs": [
    {
     "name": "stdout",
     "output_type": "stream",
     "text": [
      "0 #content\n",
      "1 #python-network\n",
      "2 /\n",
      "3 /psf-landing/\n",
      "4 https://docs.python.org\n",
      "5 https://pypi.python.org/\n",
      "6 /jobs/\n",
      "7 /community/\n",
      "8 #top\n",
      "9 /\n",
      "10 #site-map\n",
      "11 #\n",
      "12 javascript:;\n",
      "13 javascript:;\n",
      "14 javascript:;\n",
      "15 #\n",
      "16 http://plus.google.com/+Python\n",
      "17 http://www.facebook.com/pythonlang?fref=ts\n",
      "18 http://twitter.com/ThePSF\n",
      "19 /community/irc/\n"
     ]
    }
   ],
   "source": [
    "for counter, link in enumerate(soup.find_all('a')):\n",
    "    if(counter<20):\n",
    "        print counter, link.get('href')"
   ]
  },
  {
   "cell_type": "code",
   "execution_count": 44,
   "metadata": {
    "collapsed": false
   },
   "outputs": [
    {
     "name": "stdout",
     "output_type": "stream",
     "text": [
      "숫자와 문자:  ['Here', 'goes', 'my', 'phone', 'number', '2297', '1111', 'Nice', 'to', 'meet', 'you']\n",
      "숫자:  ['2297', '1111']\n",
      "대문자를 가진 단어:  ['Here', 'Nice']\n"
     ]
    }
   ],
   "source": [
    "import re\n",
    "\n",
    "sentence = \"Here goes my phone number 2297-1111. Nice to meet you!!!\"\n",
    "regex1 = '\\w+'\n",
    "print \"숫자와 문자: \", re.findall(regex1, sentence)\n",
    "regex2 = '\\d+'\n",
    "print \"숫자: \",re.findall(regex2, sentence)\n",
    "regex3 = '[A-Z]\\w+'\n",
    "print \"대문자를 가진 단어: \", re.findall(regex3, sentence)"
   ]
  },
  {
   "cell_type": "code",
   "execution_count": 19,
   "metadata": {
    "collapsed": false
   },
   "outputs": [
    {
     "data": {
      "text/plain": [
       "'src\\\\mypage1.html'"
      ]
     },
     "execution_count": 19,
     "metadata": {},
     "output_type": "execute_result"
    }
   ],
   "source": [
    "import os\n",
    "os.path.join('src','mypage1.html')"
   ]
  },
  {
   "cell_type": "code",
   "execution_count": 20,
   "metadata": {
    "collapsed": false,
    "scrolled": false
   },
   "outputs": [],
   "source": [
    "import xml.etree.ElementTree as ET\n",
    "import os\n",
    "tree = ET.parse(os.path.join('src','mypage1.html'))"
   ]
  },
  {
   "cell_type": "code",
   "execution_count": 21,
   "metadata": {
    "collapsed": false,
    "scrolled": false
   },
   "outputs": [
    {
     "name": "stdout",
     "output_type": "stream",
     "text": [
      "- 태그: html -> \n",
      "\n",
      "- 태그: head -> \n",
      "\n",
      "- 태그: title -> My Home Page\n",
      "- 태그: body -> \n",
      "\n",
      "- 태그: h1 -> 안녕하십니까\n",
      "- 태그: p -> 오늘은 프로그래밍 하는 날...\n",
      "- 태그: p -> Today we do programming...\n"
     ]
    }
   ],
   "source": [
    "for node in tree.getiterator():\n",
    "    print \"- 태그:\", node.tag, \"->\", node.text"
   ]
  },
  {
   "cell_type": "code",
   "execution_count": 22,
   "metadata": {
    "collapsed": false
   },
   "outputs": [],
   "source": [
    "f = open(os.path.join('src','mypage1.html'))\n",
    "htmlstr = f.read()\n",
    "f.close()"
   ]
  },
  {
   "cell_type": "code",
   "execution_count": 23,
   "metadata": {
    "collapsed": false,
    "scrolled": false
   },
   "outputs": [
    {
     "name": "stdout",
     "output_type": "stream",
     "text": [
      "- 태그: html {}\n",
      "- 태그: head {}\n",
      "- 태그: title {}\n",
      "- 태그: body {}\n",
      "- 태그: h1 {}\n",
      "- 태그: p {}\n",
      "- 태그: p {}\n"
     ]
    }
   ],
   "source": [
    "tree = ET.fromstring(htmlstr)\n",
    "for node in tree.getiterator():\n",
    "    print \"- 태그:\", node.tag, node.attrib"
   ]
  },
  {
   "cell_type": "code",
   "execution_count": 24,
   "metadata": {
    "collapsed": false
   },
   "outputs": [
    {
     "name": "stdout",
     "output_type": "stream",
     "text": [
      "Overwriting src/my.xml\n"
     ]
    }
   ],
   "source": [
    "%%writefile src/my.xml\n",
    "<?xml version=\"1.0\" encoding=\"utf-8\"?>\n",
    "<wikimedia>\n",
    "  <projects>\n",
    "    <project name=\"Wikipedia\" launch=\"2001-01-05\">\n",
    "      <editions>\n",
    "        <edition language=\"English\">en.wikipedia.org</edition>\n",
    "        <edition language=\"German\">de.wikipedia.org</edition>\n",
    "        <edition language=\"French\">fr.wikipedia.org</edition>\n",
    "        <edition language=\"Polish\">pl.wikipedia.org</edition>\n",
    "        <edition language=\"Spanish\">es.wikipedia.org</edition>\n",
    "      </editions>\n",
    "    </project>\n",
    "    <project name=\"Wiktionary\" launch=\"2002-12-12\">\n",
    "      <editions>\n",
    "        <edition language=\"English\">en.wiktionary.org</edition>\n",
    "        <edition language=\"French\">fr.wiktionary.org</edition>\n",
    "        <edition language=\"Vietnamese\">vi.wiktionary.org</edition>\n",
    "        <edition language=\"Turkish\">tr.wiktionary.org</edition>\n",
    "        <edition language=\"Spanish\">es.wiktionary.org</edition>\n",
    "      </editions>\n",
    "    </project>\n",
    "  </projects>\n",
    "</wikimedia>"
   ]
  },
  {
   "cell_type": "code",
   "execution_count": 25,
   "metadata": {
    "collapsed": false,
    "scrolled": false
   },
   "outputs": [
    {
     "name": "stdout",
     "output_type": "stream",
     "text": [
      "<Element 'wikimedia' at 0x56c9198>\n"
     ]
    }
   ],
   "source": [
    "import xml.etree.ElementTree as ET\n",
    "tree = ET.parse(os.path.join('src','my.xml'))\n",
    "root = tree.getroot()\n",
    "print root"
   ]
  },
  {
   "cell_type": "code",
   "execution_count": 26,
   "metadata": {
    "collapsed": false,
    "scrolled": false
   },
   "outputs": [
    {
     "name": "stdout",
     "output_type": "stream",
     "text": [
      "- 태그: wikimedia {}\n",
      "- 태그: projects {}\n",
      "- 태그: project {'name': 'Wikipedia', 'launch': '2001-01-05'}\n",
      "- 태그: editions {}\n",
      "- 태그: edition {'language': 'English'}\n",
      "- 태그: edition {'language': 'German'}\n",
      "- 태그: edition {'language': 'French'}\n",
      "- 태그: edition {'language': 'Polish'}\n",
      "- 태그: edition {'language': 'Spanish'}\n",
      "- 태그: project {'name': 'Wiktionary', 'launch': '2002-12-12'}\n",
      "- 태그: editions {}\n",
      "- 태그: edition {'language': 'English'}\n",
      "- 태그: edition {'language': 'French'}\n",
      "- 태그: edition {'language': 'Vietnamese'}\n",
      "- 태그: edition {'language': 'Turkish'}\n",
      "- 태그: edition {'language': 'Spanish'}\n"
     ]
    }
   ],
   "source": [
    "for node in tree.getiterator():\n",
    "    print \"- 태그:\", node.tag, node.attrib"
   ]
  },
  {
   "cell_type": "code",
   "execution_count": 27,
   "metadata": {
    "collapsed": false
   },
   "outputs": [],
   "source": [
    "f = open(os.path.join('src','my.xml'))\n",
    "xmlstr = f.read()\n",
    "f.close()"
   ]
  },
  {
   "cell_type": "code",
   "execution_count": 28,
   "metadata": {
    "collapsed": false,
    "scrolled": true
   },
   "outputs": [
    {
     "name": "stdout",
     "output_type": "stream",
     "text": [
      "<type 'str'>\n"
     ]
    }
   ],
   "source": [
    "print type(xmlstr)"
   ]
  },
  {
   "cell_type": "code",
   "execution_count": 29,
   "metadata": {
    "collapsed": false,
    "scrolled": true
   },
   "outputs": [
    {
     "name": "stdout",
     "output_type": "stream",
     "text": [
      "<?xml version=\"1.0\" encoding=\"utf-8\"?>\n",
      "<wikimedia>\n",
      "  <projects>\n",
      "    <project name=\"Wikipedia\" launch=\"2001-01-05\">\n",
      "      <editions>\n",
      "        <edition language=\"English\">en.wikipedia.org</edition>\n",
      "        <edition language=\"German\">de.wikipedia.org</edition>\n",
      "        <edition language=\"French\">fr.wikipedia.org</edition>\n",
      "        <edition language=\"Polish\">pl.wikipedia.org</edition>\n",
      "        <edition language=\"Spanish\">es.wikipedia.org</edition>\n",
      "      </editions>\n",
      "    </project>\n",
      "    <project name=\"Wiktionary\" launch=\"2002-12-12\">\n",
      "      <editions>\n",
      "        <edition language=\"English\">en.wiktionary.org</edition>\n",
      "        <edition language=\"French\">fr.wiktionary.org</edition>\n",
      "        <edition language=\"Vietnamese\">vi.wiktionary.org</edition>\n",
      "        <edition language=\"Turkish\">tr.wiktionary.org</edition>\n",
      "        <edition language=\"Spanish\">es.wiktionary.org</edition>\n",
      "      </editions>\n",
      "    </project>\n",
      "  </projects>\n",
      "</wikimedia>\n"
     ]
    }
   ],
   "source": [
    "print xmlstr"
   ]
  },
  {
   "cell_type": "code",
   "execution_count": 30,
   "metadata": {
    "collapsed": false,
    "scrolled": true
   },
   "outputs": [
    {
     "name": "stdout",
     "output_type": "stream",
     "text": [
      "- 태그: wikimedia {}\n",
      "- 태그: projects {}\n",
      "- 태그: project {'name': 'Wikipedia', 'launch': '2001-01-05'}\n",
      "- 태그: editions {}\n",
      "- 태그: edition {'language': 'English'}\n",
      "- 태그: edition {'language': 'German'}\n",
      "- 태그: edition {'language': 'French'}\n",
      "- 태그: edition {'language': 'Polish'}\n",
      "- 태그: edition {'language': 'Spanish'}\n",
      "- 태그: project {'name': 'Wiktionary', 'launch': '2002-12-12'}\n",
      "- 태그: editions {}\n",
      "- 태그: edition {'language': 'English'}\n",
      "- 태그: edition {'language': 'French'}\n",
      "- 태그: edition {'language': 'Vietnamese'}\n",
      "- 태그: edition {'language': 'Turkish'}\n",
      "- 태그: edition {'language': 'Spanish'}\n"
     ]
    }
   ],
   "source": [
    "import xml.etree.ElementTree as ET\n",
    "tree = ET.fromstring(xmlstr)\n",
    "for node in tree.getiterator():\n",
    "    print \"- 태그:\" , node.tag, node.attrib"
   ]
  },
  {
   "cell_type": "code",
   "execution_count": 31,
   "metadata": {
    "collapsed": false
   },
   "outputs": [],
   "source": [
    "import lxml\n",
    "import lxml.etree\n",
    "\n",
    "tree=lxml.etree.parse(os.path.join('src','my.xml'))\n",
    "root=tree.getroot()"
   ]
  },
  {
   "cell_type": "code",
   "execution_count": 32,
   "metadata": {
    "collapsed": false
   },
   "outputs": [],
   "source": [
    "import StringIO\n",
    "tree=lxml.etree.parse(StringIO.StringIO(xmlstr))"
   ]
  },
  {
   "cell_type": "code",
   "execution_count": 33,
   "metadata": {
    "collapsed": false,
    "scrolled": false
   },
   "outputs": [
    {
     "name": "stdout",
     "output_type": "stream",
     "text": [
      "- 태그: wikimedia {}\n",
      "- 태그: projects {}\n",
      "- 태그: project {'name': 'Wikipedia', 'launch': '2001-01-05'}\n",
      "- 태그: editions {}\n",
      "- 태그: edition {'language': 'English'}\n",
      "- 태그: edition {'language': 'German'}\n",
      "- 태그: edition {'language': 'French'}\n",
      "- 태그: edition {'language': 'Polish'}\n",
      "- 태그: edition {'language': 'Spanish'}\n",
      "- 태그: project {'name': 'Wiktionary', 'launch': '2002-12-12'}\n",
      "- 태그: editions {}\n",
      "- 태그: edition {'language': 'English'}\n",
      "- 태그: edition {'language': 'French'}\n",
      "- 태그: edition {'language': 'Vietnamese'}\n",
      "- 태그: edition {'language': 'Turkish'}\n",
      "- 태그: edition {'language': 'Spanish'}\n"
     ]
    }
   ],
   "source": [
    "for node in tree.getiterator():\n",
    "    print \"- 태그:\",node.tag, node.attrib"
   ]
  },
  {
   "cell_type": "code",
   "execution_count": 34,
   "metadata": {
    "collapsed": false,
    "scrolled": true
   },
   "outputs": [
    {
     "name": "stdout",
     "output_type": "stream",
     "text": [
      "2\n"
     ]
    }
   ],
   "source": [
    "nodes = tree.xpath(\"/wikimedia/projects/project/@name\")\n",
    "print len(nodes)"
   ]
  },
  {
   "cell_type": "code",
   "execution_count": 35,
   "metadata": {
    "collapsed": false,
    "scrolled": true
   },
   "outputs": [
    {
     "name": "stdout",
     "output_type": "stream",
     "text": [
      "Wikipedia\n",
      "Wiktionary\n"
     ]
    }
   ],
   "source": [
    "for node in nodes:\n",
    "    print node"
   ]
  },
  {
   "cell_type": "code",
   "execution_count": 36,
   "metadata": {
    "collapsed": false,
    "scrolled": true
   },
   "outputs": [
    {
     "name": "stdout",
     "output_type": "stream",
     "text": [
      "10\n"
     ]
    }
   ],
   "source": [
    "nodes = tree.xpath(\"//editions/edition/text()\")\n",
    "print len(nodes)"
   ]
  },
  {
   "cell_type": "code",
   "execution_count": 37,
   "metadata": {
    "collapsed": false,
    "scrolled": true
   },
   "outputs": [
    {
     "name": "stdout",
     "output_type": "stream",
     "text": [
      "en.wikipedia.org\n",
      "de.wikipedia.org\n",
      "fr.wikipedia.org\n",
      "pl.wikipedia.org\n",
      "es.wikipedia.org\n",
      "en.wiktionary.org\n",
      "fr.wiktionary.org\n",
      "vi.wiktionary.org\n",
      "tr.wiktionary.org\n",
      "es.wiktionary.org\n"
     ]
    }
   ],
   "source": [
    "for node in nodes:\n",
    "    print node"
   ]
  },
  {
   "cell_type": "code",
   "execution_count": 38,
   "metadata": {
    "collapsed": false
   },
   "outputs": [
    {
     "name": "stdout",
     "output_type": "stream",
     "text": [
      "2\n"
     ]
    }
   ],
   "source": [
    "nodes = tree.xpath(\"/wikimedia/projects/project/editions/edition[@language='English']/text()\")\n",
    "print len(nodes)"
   ]
  },
  {
   "cell_type": "code",
   "execution_count": 39,
   "metadata": {
    "collapsed": false,
    "scrolled": true
   },
   "outputs": [
    {
     "name": "stdout",
     "output_type": "stream",
     "text": [
      "en.wikipedia.org\n",
      "en.wiktionary.org\n"
     ]
    }
   ],
   "source": [
    "for node in nodes:\n",
    "    print node"
   ]
  },
  {
   "cell_type": "code",
   "execution_count": 40,
   "metadata": {
    "collapsed": false,
    "scrolled": true
   },
   "outputs": [
    {
     "name": "stdout",
     "output_type": "stream",
     "text": [
      "5\n"
     ]
    }
   ],
   "source": [
    "nodes = tree.xpath(\"/wikimedia/projects/project[@name='Wikipedia']/editions/edition/text()\")\n",
    "print len(nodes)"
   ]
  },
  {
   "cell_type": "code",
   "execution_count": 41,
   "metadata": {
    "collapsed": false,
    "scrolled": true
   },
   "outputs": [
    {
     "name": "stdout",
     "output_type": "stream",
     "text": [
      "en.wikipedia.org\n",
      "de.wikipedia.org\n",
      "fr.wikipedia.org\n",
      "pl.wikipedia.org\n",
      "es.wikipedia.org\n"
     ]
    }
   ],
   "source": [
    "for node in nodes:\n",
    "    print node"
   ]
  },
  {
   "cell_type": "code",
   "execution_count": 42,
   "metadata": {
    "collapsed": false,
    "scrolled": true
   },
   "outputs": [
    {
     "data": {
      "text/plain": [
       "lxml.etree._ElementTree"
      ]
     },
     "execution_count": 42,
     "metadata": {},
     "output_type": "execute_result"
    }
   ],
   "source": [
    "type(tree)"
   ]
  },
  {
   "cell_type": "code",
   "execution_count": 43,
   "metadata": {
    "collapsed": false
   },
   "outputs": [
    {
     "name": "stdout",
     "output_type": "stream",
     "text": [
      "<type 'list'> 1\n"
     ]
    }
   ],
   "source": [
    "import lxml.html\n",
    "from lxml.cssselect import CSSSelector\n",
    "\n",
    "sel = CSSSelector('wikimedia')\n",
    "nodes = sel(tree)\n",
    "print type(nodes), len(nodes)"
   ]
  },
  {
   "cell_type": "code",
   "execution_count": 44,
   "metadata": {
    "collapsed": false,
    "scrolled": true
   },
   "outputs": [
    {
     "name": "stdout",
     "output_type": "stream",
     "text": [
      "<wikimedia>\n",
      "  <projects>\n",
      "    <project name=\"Wikipedia\" launch=\"2001-01-05\">\n",
      "      <editions>\n",
      "        <edition language=\"English\">en.wikipedia.org</edition>\n",
      "        <edition language=\"German\">de.wikipedia.org</edition>\n",
      "        <edition language=\"French\">fr.wikipedia.org</edition>\n",
      "        <edition language=\"Polish\">pl.wikipedia.org</edition>\n",
      "        <edition language=\"Spanish\">es.wikipedia.org</edition>\n",
      "      </editions>\n",
      "    </project>\n",
      "    <project name=\"Wiktionary\" launch=\"2002-12-12\">\n",
      "      <editions>\n",
      "        <edition language=\"English\">en.wiktionary.org</edition>\n",
      "        <edition language=\"French\">fr.wiktionary.org</edition>\n",
      "        <edition language=\"Vietnamese\">vi.wiktionary.org</edition>\n",
      "        <edition language=\"Turkish\">tr.wiktionary.org</edition>\n",
      "        <edition language=\"Spanish\">es.wiktionary.org</edition>\n",
      "      </editions>\n",
      "    </project>\n",
      "  </projects>\n",
      "</wikimedia>\n"
     ]
    }
   ],
   "source": [
    "for node in nodes:\n",
    "    print lxml.html.tostring(node)"
   ]
  },
  {
   "cell_type": "code",
   "execution_count": 45,
   "metadata": {
    "collapsed": false,
    "scrolled": true
   },
   "outputs": [
    {
     "name": "stdout",
     "output_type": "stream",
     "text": [
      "Writing src/mypage3.html\n"
     ]
    }
   ],
   "source": [
    "%%writefile src/mypage3.html\n",
    "<!DOCTYPE html>\n",
    "<html>\n",
    "<head>\n",
    "    <meta charset=\"UTF-8\">\n",
    "    <title>My Home Page</title>\n",
    "    <style>\n",
    "        h1 {\n",
    "            text-align: center;\n",
    "            color:red;\n",
    "            font-family: 'Droid Sans', sans-serif;\n",
    "        };  \n",
    "    </style>\n",
    "</head>\n",
    "<body>\n",
    "    <h1>안녕하십니까</h1>\n",
    "    <p>오늘은 프로그래밍 하는 날...</p>\n",
    "    <p>Today we do programming...</p>\n",
    "\n",
    "    <div id=\"divid\">\n",
    "        <h2>Hello h2</h2>\n",
    "        <p>Here we use div id.</p>\n",
    "        <a href=\"https://www.example.com\">Visit example.com</a>\n",
    "    </div>\n",
    "    <div class=\"divclass\">\n",
    "        <h2>Welcome</h2>\n",
    "        <p>Here we use div class.</p>\n",
    "        <ul>\n",
    "            <li>first</li>\n",
    "            <li>second</li>\n",
    "        </ul>\n",
    "    </div>\n",
    "\n",
    "    <form action=\"\">\n",
    "    Email <input type=\"email\" value=\"emailvalue\" name=\"emailname\" id=\"emailid\"\n",
    "        class=\"emailclass\" style=\"background-color: green;\"required>\n",
    "    Zip Code <input type=\"number\" name=\"zipname\" required>\n",
    "    <textarea rows=\"4\" columns=\"50\"></textarea>\n",
    "    <input type=\"submit\" value=\"Submit\">\n",
    "    </form>\n",
    "</body>\n",
    "</html>"
   ]
  },
  {
   "cell_type": "code",
   "execution_count": 46,
   "metadata": {
    "collapsed": false,
    "scrolled": true
   },
   "outputs": [
    {
     "data": {
      "text/html": [
       "<h1>안녕하십니까</h1>\n",
       "<p>오늘은 프로그래밍 하는 날...</p>\n",
       "<p>Today we do programming...</p>\n",
       "\n",
       "<div id=\"divid\">\n",
       "    <h2>Hello h2</h2>\n",
       "    <p>Here we use div id.</p>\n",
       "</div>\n",
       "<div class=\"divclass\">\n",
       "    <h2>Welcome</h2>\n",
       "    <p>Here we use div class.</p>\n",
       "    <a href=\"https://www.example.com\">Visit example.com</a>\n",
       "</div>\n",
       "\n",
       "<form action=\"\">\n",
       "Email <input type=\"email\" value=\"emailvalue\" name=\"emailname\" id=\"emailid\"\n",
       "    class=\"emailclass\" style=\"background-color: green;\"required>\n",
       "Zip Code <input type=\"number\" name=\"zipname\" required>\n",
       "<textarea rows=\"4\" columns=\"50\"></textarea>\n",
       "<input type=\"submit\" value=\"Submit\">\n",
       "</form>"
      ],
      "text/plain": [
       "<IPython.core.display.HTML object>"
      ]
     },
     "metadata": {},
     "output_type": "display_data"
    }
   ],
   "source": [
    "%%html\n",
    "<h1>안녕하십니까</h1>\n",
    "<p>오늘은 프로그래밍 하는 날...</p>\n",
    "<p>Today we do programming...</p>\n",
    "\n",
    "<div id=\"divid\">\n",
    "    <h2>Hello h2</h2>\n",
    "    <p>Here we use div id.</p>\n",
    "</div>\n",
    "<div class=\"divclass\">\n",
    "    <h2>Welcome</h2>\n",
    "    <p>Here we use div class.</p>\n",
    "    <a href=\"https://www.example.com\">Visit example.com</a>\n",
    "</div>\n",
    "\n",
    "<form action=\"\">\n",
    "Email <input type=\"email\" value=\"emailvalue\" name=\"emailname\" id=\"emailid\"\n",
    "    class=\"emailclass\" style=\"background-color: green;\"required>\n",
    "Zip Code <input type=\"number\" name=\"zipname\" required>\n",
    "<textarea rows=\"4\" columns=\"50\"></textarea>\n",
    "<input type=\"submit\" value=\"Submit\">\n",
    "</form>"
   ]
  },
  {
   "cell_type": "code",
   "execution_count": 47,
   "metadata": {
    "collapsed": true
   },
   "outputs": [],
   "source": [
    "htmlstr='''<form action=\"\">\n",
    "    Email <input type=\"email\" value=\"email\" name=\"email\" id=\"email\"\n",
    "        class=\"input_email\" style=\"background-color: green;\">\n",
    "    <textarea rows=\"4\" columns=\"50\"></textarea>\n",
    "</form>\n",
    "'''"
   ]
  },
  {
   "cell_type": "code",
   "execution_count": 48,
   "metadata": {
    "collapsed": true
   },
   "outputs": [],
   "source": [
    "import lxml.etree\n",
    "import StringIO\n",
    "\n",
    "parser=lxml.etree.HTMLParser()\n",
    "tree=lxml.etree.parse(StringIO.StringIO(htmlstr),parser)"
   ]
  },
  {
   "cell_type": "code",
   "execution_count": 49,
   "metadata": {
    "collapsed": false,
    "scrolled": true
   },
   "outputs": [
    {
     "name": "stdout",
     "output_type": "stream",
     "text": [
      "<type 'list'> 1\n",
      "None\n"
     ]
    }
   ],
   "source": [
    "from lxml.cssselect import CSSSelector\n",
    "sel = CSSSelector('#email')\n",
    "# Apply the selector to the DOM tree.\n",
    "nodes = sel(tree)\n",
    "print type(nodes),len(nodes)\n",
    "for e in nodes:\n",
    "    print e.text\n"
   ]
  },
  {
   "cell_type": "code",
   "execution_count": 50,
   "metadata": {
    "collapsed": true
   },
   "outputs": [],
   "source": [
    "htmlstr=\"\"\"<!DOCTYPE html>\n",
    "<html>\n",
    "<head>\n",
    "<meta charset=\"UTF-8\">\n",
    "<title>My Home Page</title>\n",
    "</head>\n",
    "<body>\n",
    "<h1>안녕하십니까</h1>\n",
    "<p>오늘은 프로그래밍 하는 날...</p>\n",
    "<p>Today we do programming...</p>\n",
    "</body>\n",
    "</html>\"\"\""
   ]
  },
  {
   "cell_type": "code",
   "execution_count": 51,
   "metadata": {
    "collapsed": true
   },
   "outputs": [],
   "source": [
    "import lxml.html\n",
    "from lxml.cssselect import CSSSelector\n",
    "\n",
    "_html = lxml.html.fromstring(htmlstr)"
   ]
  },
  {
   "cell_type": "code",
   "execution_count": 52,
   "metadata": {
    "collapsed": false,
    "scrolled": true
   },
   "outputs": [
    {
     "name": "stdout",
     "output_type": "stream",
     "text": [
      "<html>\n",
      "<head>\n",
      "<meta charset=\"UTF-8\">\n",
      "<title>My Home Page</title>\n",
      "</head>\n",
      "<body>\n",
      "<h1>&#50504;&#45397;&#54616;&#49901;&#45768;&#44620;</h1>\n",
      "<p>&#50724;&#45720;&#51008; &#54532;&#47196;&#44536;&#47000;&#48141; &#54616;&#45716; &#45216;...</p>\n",
      "<p>Today we do programming...</p>\n",
      "</body>\n",
      "</html>\n"
     ]
    }
   ],
   "source": [
    "print lxml.html.tostring(_html)"
   ]
  },
  {
   "cell_type": "code",
   "execution_count": 53,
   "metadata": {
    "collapsed": false,
    "scrolled": true
   },
   "outputs": [
    {
     "name": "stdout",
     "output_type": "stream",
     "text": [
      "[<Element p at 0x582b548>, <Element p at 0x582b1d8>]\n"
     ]
    }
   ],
   "source": [
    "sel = CSSSelector('body p')\n",
    "nodes = sel(_html)\n",
    "print nodes"
   ]
  },
  {
   "cell_type": "code",
   "execution_count": 54,
   "metadata": {
    "collapsed": false,
    "scrolled": true
   },
   "outputs": [
    {
     "name": "stdout",
     "output_type": "stream",
     "text": [
      "오늘은 프로그래밍 하는 날...\n",
      "Today we do programming...\n"
     ]
    }
   ],
   "source": [
    "for node in nodes:\n",
    "    print node.text"
   ]
  },
  {
   "cell_type": "code",
   "execution_count": 55,
   "metadata": {
    "collapsed": false,
    "scrolled": false
   },
   "outputs": [
    {
     "name": "stdout",
     "output_type": "stream",
     "text": [
      "[<Element p at 0x582b9f8>]\n"
     ]
    }
   ],
   "source": [
    "_html = lxml.html.fromstring(htmlstr)\n",
    "sel = CSSSelector('body > p:nth-child(2)')\n",
    "nodes = sel(_html)\n",
    "print nodes"
   ]
  },
  {
   "cell_type": "code",
   "execution_count": 56,
   "metadata": {
    "collapsed": false,
    "scrolled": true
   },
   "outputs": [
    {
     "name": "stdout",
     "output_type": "stream",
     "text": [
      "오늘은 프로그래밍 하는 날...\n"
     ]
    }
   ],
   "source": [
    "for node in nodes:\n",
    "    print node.text"
   ]
  },
  {
   "cell_type": "code",
   "execution_count": 57,
   "metadata": {
    "collapsed": false,
    "scrolled": false
   },
   "outputs": [
    {
     "name": "stdout",
     "output_type": "stream",
     "text": [
      "[<Element h1 at 0x582bae8>]\n"
     ]
    }
   ],
   "source": [
    "_html = lxml.html.fromstring(htmlstr)\n",
    "sel = CSSSelector('body > h1')\n",
    "nodes = sel(_html)\n",
    "print nodes"
   ]
  },
  {
   "cell_type": "code",
   "execution_count": 58,
   "metadata": {
    "collapsed": false,
    "scrolled": false
   },
   "outputs": [
    {
     "name": "stdout",
     "output_type": "stream",
     "text": [
      "안녕하십니까\n"
     ]
    }
   ],
   "source": [
    "for node in nodes:\n",
    "    print node.text"
   ]
  },
  {
   "cell_type": "code",
   "execution_count": 27,
   "metadata": {
    "collapsed": false,
    "scrolled": false
   },
   "outputs": [
    {
     "name": "stdout",
     "output_type": "stream",
     "text": [
      "47432\n"
     ]
    }
   ],
   "source": [
    "import requests\n",
    "rResponse = requests.get('http://python.org/')\n",
    "_html = rResponse.text\n",
    "print len(_html)"
   ]
  },
  {
   "cell_type": "code",
   "execution_count": 3,
   "metadata": {
    "collapsed": false,
    "scrolled": true
   },
   "outputs": [
    {
     "name": "stdout",
     "output_type": "stream",
     "text": [
      "47432\n"
     ]
    }
   ],
   "source": [
    "import urllib\n",
    "uResponse = urllib.urlopen('http://python.org/')\n",
    "_html = uResponse.read()\n",
    "print len(_html)"
   ]
  },
  {
   "cell_type": "code",
   "execution_count": 13,
   "metadata": {
    "collapsed": false,
    "scrolled": false
   },
   "outputs": [
    {
     "name": "stdout",
     "output_type": "stream",
     "text": [
      "<type 'unicode'>\n"
     ]
    }
   ],
   "source": [
    "print type(_html)"
   ]
  },
  {
   "cell_type": "code",
   "execution_count": 76,
   "metadata": {
    "collapsed": false,
    "scrolled": true
   },
   "outputs": [
    {
     "name": "stdout",
     "output_type": "stream",
     "text": [
      "{'Content-Length': '47426', 'Via': '1.1 varnish', 'X-Cache': 'HIT', 'Accept-Ranges': 'bytes', 'X-Timer': 'S1490687408.230442,VS0,VE0', 'Vary': 'Cookie', 'X-Served-By': 'cache-nrt6123-NRT', 'Server': 'nginx', 'Connection': 'keep-alive', 'Age': '2679', 'X-Cache-Hits': '53', 'Public-Key-Pins': 'max-age=600; includeSubDomains; pin-sha256=\"WoiWRyIOVNa9ihaBciRSC7XHjliYS9VwUGOIud4PB18=\"; pin-sha256=\"5C8kvU039KouVrl52D0eZSGf4Onjo4Khs8tmyTlV3nU=\"; pin-sha256=\"5C8kvU039KouVrl52D0eZSGf4Onjo4Khs8tmyTlV3nU=\"; pin-sha256=\"lCppFqbkrlJ3EcVFAkeip0+44VaoJUymbnOaEUk7tEU=\"; pin-sha256=\"TUDnr0MEoJ3of7+YliBMBVFB4/gJsv5zO7IxD9+YoWI=\"; pin-sha256=\"x4QzPSC810K5/cMjb05Qm4k3Bw5zBn4lTdO/nEW/Td4=\";', 'Strict-Transport-Security': 'max-age=63072000; includeSubDomains', 'Date': 'Tue, 28 Mar 2017 07:50:08 GMT', 'X-Frame-Options': 'SAMEORIGIN', 'Content-Type': 'text/html; charset=utf-8', 'X-Clacks-Overhead': 'GNU Terry Pratchett'}\n"
     ]
    }
   ],
   "source": [
    "print rResponse.headers"
   ]
  },
  {
   "cell_type": "code",
   "execution_count": 66,
   "metadata": {
    "collapsed": false,
    "scrolled": true
   },
   "outputs": [
    {
     "name": "stdout",
     "output_type": "stream",
     "text": [
      "<bound method Response.json of <Response [200]>>\n"
     ]
    }
   ],
   "source": [
    "print rResponse.json"
   ]
  },
  {
   "cell_type": "code",
   "execution_count": 77,
   "metadata": {
    "collapsed": false,
    "scrolled": true
   },
   "outputs": [
    {
     "name": "stdout",
     "output_type": "stream",
     "text": [
      "Server: nginx\r\n",
      "Content-Type: text/html; charset=utf-8\r\n",
      "X-Frame-Options: SAMEORIGIN\r\n",
      "X-Clacks-Overhead: GNU Terry Pratchett\r\n",
      "Content-Length: 47426\r\n",
      "Accept-Ranges: bytes\r\n",
      "Date: Tue, 28 Mar 2017 07:50:16 GMT\r\n",
      "Via: 1.1 varnish\r\n",
      "Age: 2687\r\n",
      "Connection: close\r\n",
      "X-Served-By: cache-nrt6135-NRT\r\n",
      "X-Cache: HIT\r\n",
      "X-Cache-Hits: 53\r\n",
      "X-Timer: S1490687416.655757,VS0,VE0\r\n",
      "Vary: Cookie\r\n",
      "Public-Key-Pins: max-age=600; includeSubDomains; pin-sha256=\"WoiWRyIOVNa9ihaBciRSC7XHjliYS9VwUGOIud4PB18=\"; pin-sha256=\"5C8kvU039KouVrl52D0eZSGf4Onjo4Khs8tmyTlV3nU=\"; pin-sha256=\"5C8kvU039KouVrl52D0eZSGf4Onjo4Khs8tmyTlV3nU=\"; pin-sha256=\"lCppFqbkrlJ3EcVFAkeip0+44VaoJUymbnOaEUk7tEU=\"; pin-sha256=\"TUDnr0MEoJ3of7+YliBMBVFB4/gJsv5zO7IxD9+YoWI=\"; pin-sha256=\"x4QzPSC810K5/cMjb05Qm4k3Bw5zBn4lTdO/nEW/Td4=\";\r\n",
      "Strict-Transport-Security: max-age=63072000; includeSubDomains\r\n",
      "\n"
     ]
    }
   ],
   "source": [
    "print uResponse.info()"
   ]
  },
  {
   "cell_type": "code",
   "execution_count": 82,
   "metadata": {
    "collapsed": false,
    "scrolled": true
   },
   "outputs": [
    {
     "name": "stdout",
     "output_type": "stream",
     "text": [
      "http url은 몇 개? 44\n",
      "0 http://www.ie6countdown.com/\n",
      "1 http://browsehappy.com/\n",
      "2 http://www.google.com/chromeframe/?redirect=true\n",
      "3 http://plus.google.com/+Python\n",
      "4 http://www.facebook.com/pythonlang?fref=ts\n",
      "5 http://twitter.com/ThePSF\n",
      "6 http://brochure.getpython.info/\n",
      "7 http://wiki.python.org/moin/Languages\n",
      "8 http://python.org/dev/peps/\n",
      "9 http://planetpython.org/\n",
      "10 http://pyfound.blogspot.com/\n",
      "11 http://pycon.blogspot.com/\n",
      "12 http://docs.python.org/3/tutorial/introduction.html#using-python-as-a-calculator\n",
      "13 http://blog.python.org\n",
      "14 http://feedproxy.google.com/~r/PythonInsider/~3/C-xfWJKP0-A/python-361-is-now-available.html\n",
      "15 http://feedproxy.google.com/~r/PythonInsider/~3/w2AW2NRSOEM/python-361rc1-is-now-available-for.html\n",
      "16 http://feedproxy.google.com/~r/PythonInsider/~3/NeIHRAidlpc/python-353-and-346-are-now-available.html\n",
      "17 http://feedproxy.google.com/~r/PythonInsider/~3/UoiMThSwgQM/python-353rc1-and-python-346rc1-are-now.html\n",
      "18 http://feedproxy.google.com/~r/PythonInsider/~3/4gOtq8ChYHk/python-360-is-now-available.html\n",
      "19 http://www.djangoproject.com/\n",
      "20 http://www.pylonsproject.org/\n",
      "21 http://bottlepy.org\n",
      "22 http://tornadoweb.org\n",
      "23 http://flask.pocoo.org/\n",
      "24 http://www.web2py.com/\n",
      "25 http://wiki.python.org/moin/TkInter\n",
      "26 http://www.riverbankcomputing.co.uk/software/pyqt/intro\n",
      "27 http://www.wxpython.org/\n",
      "28 http://www.scipy.org\n",
      "29 http://pandas.pydata.org/\n",
      "30 http://ipython.org\n",
      "31 http://buildbot.net/\n",
      "32 http://trac.edgewall.org/\n",
      "33 http://roundup.sourceforge.net/\n",
      "34 http://www.ansible.com\n",
      "35 http://www.saltstack.com\n",
      "36 http://brochure.getpython.info/\n",
      "37 http://wiki.python.org/moin/Languages\n",
      "38 http://python.org/dev/peps/\n",
      "39 http://planetpython.org/\n",
      "40 http://pyfound.blogspot.com/\n",
      "41 http://pycon.blogspot.com/\n",
      "42 http://docs.python.org/devguide/\n",
      "43 http://bugs.python.org/\n"
     ]
    }
   ],
   "source": [
    "import re\n",
    "\n",
    "p = re.compile('href=\"(http://.*?)\"')\n",
    "nodes = p.findall(_html)\n",
    "\n",
    "print \"http url은 몇 개?\", len(nodes)n\n",
    "for i, node in enumerate(nodes):\n",
    "    print i, node"
   ]
  },
  {
   "cell_type": "code",
   "execution_count": 83,
   "metadata": {
    "collapsed": false,
    "scrolled": true
   },
   "outputs": [
    {
     "name": "stdout",
     "output_type": "stream",
     "text": [
      "Writing src/ds_web_crawl_ieee.py\n"
     ]
    }
   ],
   "source": [
    "%%writefile src/ds_web_crawl_ieee.py\n",
    "# coding: utf-8\n",
    "import lxml.html\n",
    "from lxml.cssselect import CSSSelector\n",
    "import requests\n",
    "r = requests.get('http://www.ieee.org/conferences_events/conferences/search/index.html')\n",
    "\n",
    "html = lxml.html.fromstring(r.text)\n",
    "sel=CSSSelector('div.content-r-full table.nogrid-nopad tr p>a[href]')\n",
    "nodes = sel(html)\n",
    "for node in nodes:\n",
    "    print node.text\n",
    "    print \"----------\""
   ]
  },
  {
   "cell_type": "code",
   "execution_count": 40,
   "metadata": {
    "collapsed": false
   },
   "outputs": [
    {
     "name": "stdout",
     "output_type": "stream",
     "text": [
      "Overwriting src/ds_234_web_crawl_1.py\n"
     ]
    }
   ],
   "source": [
    "%%writefile src/ds_234_web_crawl_1.py\n",
    "# coding: utf-8\n",
    "\n",
    "##requests 방식 사용\n",
    "\n",
    "import requests\n",
    "import re\n",
    "from bs4 import BeautifulSoup\n",
    "from lxml import etree\n",
    "import lxml.html\n",
    "from lxml.cssselect import CSSSelector\n",
    "\n",
    "resp = requests.get('http://python.org/')\n",
    "htmlTxt = resp.text ## htmlTxt는 unicode\n",
    "\n",
    "##regex\n",
    "## http://로 시작하는 url 찾기\n",
    "f_Item = re.compile('href=\"(http://.*?)\"')\n",
    "basket = f_Item.findall(htmlTxt)\n",
    "\n",
    "for i, node in enumerate(basket):\n",
    "    print i+1, node\n",
    "\n",
    "## +추가) h1태그 찾아보기\n",
    "print \"==========<h1> 태그 찾아보기==========\"\n",
    "\n",
    "f_Tag = re.compile('<h1>(.*?)</h1>')\n",
    "h1_Tag = f_Tag.findall(htmlTxt)\n",
    "\n",
    "for tag in h1_Tag:\n",
    "    print tag\n",
    "\n",
    "print \"======================================\"\n",
    "    \n",
    "## +추가) p태그 찾아보기\n",
    "print \"================================<p> 태그 찾아보기===================================\"\n",
    "\n",
    "f_p_Tag = re.compile('<p>(.*?)</p>')\n",
    "p_Tag = f_p_Tag.findall(htmlTxt)\n",
    "\n",
    "for tag in p_Tag:\n",
    "    print tag\n",
    "    \n",
    "print \"====================================================================================\"\n",
    "\n",
    "##beautiful soup\n",
    "\n",
    "## strong 태그 찾기\n",
    "\n",
    "print \"==========================strong 태그 찾기================================\"\n",
    "\n",
    "tree = BeautifulSoup(htmlTxt, \"lxml\")\n",
    "strong_Tag = tree('strong')\n",
    "\n",
    "for tag in strong_Tag:\n",
    "    print tag\n",
    "    \n",
    "print \"==========================================================================\"\n",
    "\n",
    "## div 태그 찾기\n",
    "\n",
    "print \"================================div 태그 찾기====================================\"\n",
    "\n",
    "tree = BeautifulSoup(htmlTxt, \"lxml\")\n",
    "div_Tag = tree('div')\n",
    "counter = 0\n",
    "\n",
    "for tag in div_Tag:\n",
    "    if counter == 1: ##첫 div는 내용이 너무 길어서 그 다음 div 태그를 찾아서 출력함.\n",
    "        print counter, tag\n",
    "    counter = counter + 1\n",
    "    \n",
    "print \"=================================================================================\"\n",
    "\n",
    "## xpath\n",
    "\n",
    "print \"==================================xpath 를 이용한 crawl============================\"\n",
    "\n",
    "html_Tree = etree.HTML(htmlTxt)\n",
    "st_Html = etree.tostring(html_Tree, pretty_print=True, method = \"html\")\n",
    "\n",
    "##아랫줄은 확인용 출력\n",
    "##print st_Html[:500] ##내용이 길어 string 글자수 제한함\n",
    "\n",
    "nodes = html_Tree.xpath('//*[@href]')\n",
    "\n",
    "for k, node in enumerate(nodes):\n",
    "    if k<10:\n",
    "        print k+1,\".\", node.attrib  ##찾은 node 의 attribute를 10개만 출력함.\n",
    "        \n",
    "print \"===================================================================================\"\n",
    "\n",
    "\n",
    "## CSS Selector\n",
    "\n",
    "print \"=================================CSS Selector 사용=================================\"\n",
    "\n",
    "addr = requests.get('http://python.org/')\n",
    "html_Str = lxml.html.fromstring(addr.text)\n",
    "\n",
    "selector = CSSSelector('a[href]')\n",
    "nodes = selector(html_Str)\n",
    "\n",
    "for g, node in enumerate(nodes):\n",
    "    if g<10:\n",
    "        print g+1,\".\", node.get('href'), node.text\n",
    "        \n",
    "print \"===================================================================================\""
   ]
  },
  {
   "cell_type": "code",
   "execution_count": 1,
   "metadata": {
    "collapsed": false
   },
   "outputs": [
    {
     "name": "stdout",
     "output_type": "stream",
     "text": [
      "Overwriting src/ds_234_web_crawl_5.py\n"
     ]
    }
   ],
   "source": [
    "%%writefile src/ds_234_web_crawl_5.py\n",
    "# coding: utf-8\n",
    "\n",
    "import lxml.html\n",
    "from lxml.cssselect import CSSSelector\n",
    "import requests\n",
    "\n",
    "r = requests.get('http://www.ieee.org/conferences_events/conferences/search/index.html')\n",
    "\n",
    "html_Str = lxml.html.fromstring(r.text)\n",
    "sel=CSSSelector('div.content-r-full table.nogrid-nopad tr p>a[href]')\n",
    "nodes = sel(html_Str)\n",
    "\n",
    "for node in nodes:\n",
    "    print node.text\n",
    "    print \"----------\""
   ]
  },
  {
   "cell_type": "code",
   "execution_count": 41,
   "metadata": {
    "collapsed": false
   },
   "outputs": [
    {
     "name": "stdout",
     "output_type": "stream",
     "text": [
      "Overwriting src/ds_234_web_crawl_6.py\n"
     ]
    }
   ],
   "source": [
    "%%writefile src/ds_234_web_crawl_6.py\n",
    "# coding: utf-8\n",
    "\n",
    "import urllib2\n",
    "import requests\n",
    "import re\n",
    "import lxml.etree\n",
    "\n",
    "def getkb():\n",
    "    r = requests.get('http://www.kbreport.com/main')\n",
    "    _htmlTree = lxml.etree.HTML(r.text)\n",
    "    nodes = _htmlTree.xpath(\"//div[@class='team-rank-box']//table[@class='team-rank']//tr\")\n",
    "    print u\"테이블 행 갯수: \", len(nodes)\n",
    "    counter=0\n",
    "    for teams in nodes:\n",
    "        for cols in teams:\n",
    "            if cols.xpath('.//a/text()'):\n",
    "                print cols.xpath('.//a/text()')[0],\n",
    "            else:\n",
    "                print cols.text.strip(),\n",
    "        print\n",
    "\n",
    "def main():\n",
    "    getkb()\n",
    "\n",
    "if __name__ == \"__main__\":\n",
    "    main()"
   ]
  },
  {
   "cell_type": "code",
   "execution_count": 1,
   "metadata": {
    "collapsed": false
   },
   "outputs": [
    {
     "data": {
      "text/plain": [
       "'Python-urllib/1.17'"
      ]
     },
     "execution_count": 1,
     "metadata": {},
     "output_type": "execute_result"
    }
   ],
   "source": [
    "import urllib\n",
    "urllib.URLopener.version"
   ]
  },
  {
   "cell_type": "code",
   "execution_count": 2,
   "metadata": {
    "collapsed": true
   },
   "outputs": [],
   "source": [
    "import requests\n",
    "\n",
    "resp = requests.head(\"http://www.google.com\") ##body 말고 head 만 가짐 !\n"
   ]
  },
  {
   "cell_type": "code",
   "execution_count": 3,
   "metadata": {
    "collapsed": true
   },
   "outputs": [],
   "source": [
    "import urllib2 ## 이것은 head만 요청하는 경우에 사용한다.\n",
    "class HeadRequest(urllib2.Request):\n",
    "     def get_method(self):\n",
    "         return \"HEAD\""
   ]
  },
  {
   "cell_type": "code",
   "execution_count": 4,
   "metadata": {
    "collapsed": false
   },
   "outputs": [
    {
     "data": {
      "text/plain": [
       "5978"
      ]
     },
     "execution_count": 4,
     "metadata": {},
     "output_type": "execute_result"
    }
   ],
   "source": [
    "from urllib import urlopen\n",
    "search_Key = \"python\"\n",
    "respon = urlopen('https://www.google.com/search?q='+search_Key)\n",
    "html = respon.read();\n",
    "len(html)"
   ]
  },
  {
   "cell_type": "code",
   "execution_count": 5,
   "metadata": {
    "collapsed": false,
    "scrolled": false
   },
   "outputs": [
    {
     "name": "stdout",
     "output_type": "stream",
     "text": [
      "error\n"
     ]
    }
   ],
   "source": [
    "import re\n",
    "p = re.compile('.*(error).*')\n",
    "print p.search(html).group(1)"
   ]
  },
  {
   "cell_type": "code",
   "execution_count": 6,
   "metadata": {
    "collapsed": false,
    "scrolled": true
   },
   "outputs": [
    {
     "name": "stdout",
     "output_type": "stream",
     "text": [
      "Date: Tue, 04 Apr 2017 07:53:23 GMT\r\n",
      "Expires: -1\r\n",
      "Cache-Control: private, max-age=0\r\n",
      "Content-Type: text/html; charset=UTF-8\r\n",
      "P3P: CP=\"This is not a P3P policy! See https://www.google.com/support/accounts/answer/151657?hl=en for more info.\"\r\n",
      "Server: gws\r\n",
      "X-XSS-Protection: 1; mode=block\r\n",
      "X-Frame-Options: SAMEORIGIN\r\n",
      "Set-Cookie: NID=100=T8B6EURio1mmHW0-cegSNksfEyaVPAwohtlsKSDV0NhFQD5DVQchUgLQi53mqqOTNJqtDXj0tVaRbD2AJtrGgn8u4elUvs0f4vQpMXndgRkfY9XFJYMkm8Lo_zn6GdC3; expires=Wed, 04-Oct-2017 07:53:23 GMT; path=/; domain=.google.co.kr; HttpOnly\r\n",
      "Accept-Ranges: none\r\n",
      "Vary: Accept-Encoding\r\n",
      "Connection: close\r\n",
      "\n"
     ]
    },
    {
     "data": {
      "text/plain": [
       "45329"
      ]
     },
     "execution_count": 6,
     "metadata": {},
     "output_type": "execute_result"
    }
   ],
   "source": [
    "import urllib2\n",
    "url = 'http://www.google.com/#q=python'\n",
    "headers = {'User-Agent' : 'Mozilla 5.0'}\n",
    "request = urllib2.Request(url, None, headers)\n",
    "response = urllib2.urlopen(request)\n",
    "print response.headers\n",
    "\n",
    "html = response.read()\n",
    "len(html)"
   ]
  },
  {
   "cell_type": "code",
   "execution_count": 7,
   "metadata": {
    "collapsed": true
   },
   "outputs": [],
   "source": [
    "import os\n",
    "f = open(os.path.join('src','mygoogle1.html'),\"w\")\n",
    "f.write(html)\n",
    "f.close()"
   ]
  },
  {
   "cell_type": "code",
   "execution_count": 9,
   "metadata": {
    "collapsed": true
   },
   "outputs": [],
   "source": [
    "import urllib\n",
    "search_Key = '비오는'\n",
    "f = urllib.urlopen('http://music.naver.com/search/search.nhn?query=' +search_Key+'&x=&y=0')\n",
    "songData = f.read();"
   ]
  },
  {
   "cell_type": "code",
   "execution_count": 19,
   "metadata": {
    "collapsed": false,
    "scrolled": false
   },
   "outputs": [
    {
     "name": "stdout",
     "output_type": "stream",
     "text": [
      "19\n",
      "https://www.google.co.kr/webhp?tab=ww\n",
      "https://www.google.co.kr/search?hl=ko&tbm=isch&source=og&tab=wi\n",
      "https://maps.google.co.kr/maps?hl=ko&tab=wl\n",
      "https://play.google.com/?hl=ko&tab=w8\n",
      "https://www.youtube.com/results?gl=KR&tab=w1\n",
      "https://news.google.co.kr/nwshp?hl=ko&tab=wn\n",
      "https://mail.google.com/mail/?tab=wm\n",
      "https://drive.google.com/?tab=wo\n",
      "https://www.google.co.kr/intl/ko/options/\n",
      "https://www.google.com/calendar?tab=wc\n",
      "https://translate.google.co.kr/?hl=ko&tab=wT\n",
      "https://www.google.co.kr/search?hl=ko&tbo=u&tbm=bks&source=og&tab=wp\n",
      "https://www.blogger.com/?tab=wj\n",
      "https://photos.google.com/?tab=wq&pageId=none\n",
      "https://www.google.co.kr/search?hl=ko&tbo=u&tbm=vid&source=og&tab=wv\n",
      "https://docs.google.com/document/?usp=docs_alc\n",
      "https://www.google.co.kr/intl/ko/options/\n",
      "https://accounts.google.com/ServiceLogin?hl=ko&passive=true&continue=https://www.google.co.kr/search%3Fq%3Dpython%26gws_rd%3Dcr%26ei%3DKpbjWICbMKjm0gLalrjYDg\n",
      "https://maps.google.co.kr/maps?q=python&amp;gws_rd=cr&amp;um=1&amp;ie=UTF-8&amp;sa=X&amp;ved=0ahUKEwi7n5CR64rTAhVTNbwKHV2YBuUQ_AUICA\n"
     ]
    }
   ],
   "source": [
    "##먼저 python 을 구글에 검색한 결과를  crawl 할 예정\n",
    "##그냥 crawl -> user_Agent 변경 후 crawl\n",
    "\n",
    "import urllib2\n",
    "import os\n",
    "import re\n",
    "\n",
    "##google 검색창에 python 이라는 search 키워드를 검색하기 위해 주소(address) 생성\n",
    "search_Key = 'python' ## 검색 결과에 한글이 포함되면 깨지는 현상 때문에 영문 결과가 예상되는 검색어를 지정\n",
    "address = 'https://www.google.com/search?q=' + search_Key\n",
    "\n",
    "##만든 주소를 바로 긁어오기 전 header의 user_Agent를 바꿔줘야 함\n",
    "##header는 dictionary구조(?)\n",
    "##python 프로그램에서 크롤링하면 제대로 된 정보를 크롤링 할 수 없음\n",
    "##user-Agent를 웹브라우저처럼 가면(?)을 쓰고 접근.\n",
    "header = {'User-Agent' : 'Mozilla 5.0'}\n",
    "request = urllib2.Request(address, None, header)\n",
    "response = urllib2.urlopen(request)\n",
    "\n",
    "data = response.read()\n",
    "##print data ##확인용 print\n",
    "\n",
    "##확인겸 html파일 만들어 보기\n",
    "\n",
    "##f = open(os.path.join('src','mygoogle3.html'),'w')\n",
    "##f.write(data)\n",
    "##f.close()\n",
    "\n",
    "## 파일 잘 만들어 진 것을 확인함 (google 검색창에 python이 검색된 페이지 만들어짐)\n",
    "\n",
    "## 검색 결과 페이지에서 https:// 이 들어가는 모든 링크를 가져오기\n",
    "\n",
    "find = re.compile('href=\"(https://.*?)\"')\n",
    "##find = re.compile('.*href.*')\n",
    "result = find.findall(data)\n",
    "\n",
    "print len(result)\n",
    "for item in result:\n",
    "    print item"
   ]
  },
  {
   "cell_type": "code",
   "execution_count": 20,
   "metadata": {
    "collapsed": false,
    "scrolled": true
   },
   "outputs": [
    {
     "name": "stdout",
     "output_type": "stream",
     "text": [
      "46\n",
      "https://www.google.co.kr/intl/ko/options/\n",
      "https://accounts.google.com/ServiceLogin?hl=ko&amp;passive=true&amp;continue=https://www.google.co.kr/search%3Fq%3Dpython%26gws_rd%3Dcr%26ei%3D25fjWJPvDsfX0gKeqY_wBg\n",
      "https://www.google.com/url?q=https://support.google.com/websearch/answer/463%3Futm_source%3Dgoogle.com%26utm_medium%3Dcallout%26utm_campaign%3DFFDHP&amp;source=hpp&amp;id=19000317&amp;ct=7&amp;usg=AFQjCNFBUGlUSE08cHgcuB_OXZHigRGNAw&amp;cot=2\n",
      "https://www.google.co.kr/webhp?hl=ko&amp;sa=X&amp;ved=0ahUKEwjA3Kvf7IrTAhULh1QKHY19D84QPAgD\n",
      "https://www.python.org/\n",
      "https://webcache.googleusercontent.com/search?q=cache:Fvb7Gz_c4rwJ:https://www.python.org/+&amp;cd=1&amp;hl=ko&amp;ct=clnk&amp;gl=kr\n",
      "https://translate.google.co.kr/translate?hl=ko&amp;sl=en&amp;u=https://www.python.org/&amp;prev=search\n",
      "https://www.python.org/downloads/\n",
      "https://www.python.org/downloads/release/python-360/\n",
      "https://docs.python.org/3/tutorial/\n",
      "https://www.python.org/downloads/windows/\n",
      "https://www.python.org/about/gettingstarted/\n",
      "https://www.python.org/doc/\n",
      "https://ko.wikipedia.org/wiki/%ED%8C%8C%EC%9D%B4%EC%8D%AC\n",
      "https://webcache.googleusercontent.com/search?q=cache:OL25IRr7kSMJ:https://ko.wikipedia.org/wiki/%25ED%258C%258C%25EC%259D%25B4%25EC%258D%25AC+&amp;cd=8&amp;hl=ko&amp;ct=clnk&amp;gl=kr\n",
      "https://wikidocs.net/6\n",
      "https://webcache.googleusercontent.com/search?q=cache:LmCkGjF_ShkJ:https://wikidocs.net/6+&amp;cd=9&amp;hl=ko&amp;ct=clnk&amp;gl=kr\n",
      "https://tutorial.djangogirls.org/ko/python_introduction/\n",
      "https://webcache.googleusercontent.com/search?q=cache:9o-y50p1vcYJ:https://tutorial.djangogirls.org/ko/python_introduction/+&amp;cd=10&amp;hl=ko&amp;ct=clnk&amp;gl=kr\n",
      "https://www.codecademy.com/ko/tracks/python-ko\n",
      "https://webcache.googleusercontent.com/search?q=cache:yuJHfXirRuQJ:https://www.codecademy.com/ko/tracks/python-ko+&amp;cd=11&amp;hl=ko&amp;ct=clnk&amp;gl=kr\n",
      "https://www.codecademy.com/learn/python\n",
      "https://webcache.googleusercontent.com/search?q=cache:VieTLWvITEcJ:https://www.codecademy.com/learn/python+&amp;cd=12&amp;hl=ko&amp;ct=clnk&amp;gl=kr\n",
      "https://translate.google.co.kr/translate?hl=ko&amp;sl=en&amp;u=https://www.codecademy.com/learn/python&amp;prev=search\n",
      "https://support.google.com/websearch?p=ws_settings_location&amp;hl=ko\n",
      "https://www.google.com/search?q=python&amp;gws_rd=cr&amp;ei=25fjWJPvDsfX0gKeqY_wBg&amp;fg=1\n",
      "https://myaccount.google.com/?utm_source=OGB\n",
      "https://www.google.co.kr/webhp?tab=ww&amp;ei=25fjWNiEJ6iC0wKJx7eQAg&amp;ved=0EKkuCAIoAQ\n",
      "https://maps.google.co.kr/maps?hl=ko&amp;tab=wl\n",
      "https://www.youtube.com/?gl=KR\n",
      "https://play.google.com/?hl=ko&amp;tab=w8\n",
      "https://news.google.co.kr/nwshp?hl=ko&amp;tab=wn&amp;ei=25fjWNiEJ6iC0wKJx7eQAg&amp;ved=0EKkuCAYoBQ\n",
      "https://mail.google.com/mail/?tab=wm\n",
      "https://drive.google.com/?tab=wo\n",
      "https://www.google.com/calendar?tab=wc\n",
      "https://plus.google.com/?gpsrc=ogpy0&amp;tab=wX\n",
      "https://translate.google.co.kr/?hl=ko&amp;tab=wT\n",
      "https://photos.google.com/?tab=wq&amp;pageId=none\n",
      "https://www.google.co.kr/intl/ko/options/\n",
      "https://docs.google.com/document/?usp=docs_alc\n",
      "https://books.google.co.kr/bkshp?hl=ko&amp;tab=wp&amp;ei=25fjWNiEJ6iC0wKJx7eQAg&amp;ved=0EKkuCA4oDQ\n",
      "https://www.blogger.com/?tab=wj\n",
      "https://www.google.com/contacts/?hl=ko&amp;tab=wC\n",
      "https://hangouts.google.com/\n",
      "https://keep.google.com/\n",
      "https://www.google.co.kr/intl/ko/options/\n"
     ]
    }
   ],
   "source": [
    "##먼저 python 을 구글에 검색한 결과를  crawl 할 예정\n",
    "##그냥 crawl -> user_Agent 변경 후 crawl\n",
    "\n",
    "import urllib2\n",
    "import os\n",
    "import re\n",
    "from urllib import FancyURLopener\n",
    "\n",
    "##google 검색창에 python 이라는 search 키워드를 검색하기 위해 주소(address) 생성\n",
    "search_Key = 'python' ## 검색 결과에 한글이 포함되면 깨지는 현상 때문에 영문 결과가 예상되는 검색어를 지정\n",
    "address = 'https://www.google.com/search?q=' + search_Key\n",
    "\n",
    "##만든 주소를 바로 긁어오기 전 header의 user_Agent를 바꿔줘야 함\n",
    "##header는 dictionary구조(?)\n",
    "##python 프로그램에서 크롤링하면 제대로 된 정보를 크롤링 할 수 없음\n",
    "##user-Agent를 웹브라우저처럼 가면(?)을 쓰고 접근.\n",
    "class MyOpener(FancyURLopener):\n",
    "    version = 'Mozilla/5.0 (X11; Ubuntu; Linux x86_64; rv:42.0) Gecko/20100101 Firefox/42.0'\n",
    "    \n",
    "myopener = MyOpener()\n",
    "page = myopener.open(address)\n",
    "\n",
    "data = page.read()\n",
    "##print data ##확인용 print\n",
    "\n",
    "##확인겸 html파일 만들어 보기\n",
    "\n",
    "f = open(os.path.join('src','mygoogle3.html'),'w')\n",
    "f.write(data)\n",
    "f.close()\n",
    "\n",
    "## 파일 잘 만들어 진 것을 확인함 (google 검색창에 python이 검색된 페이지 만들어짐)\n",
    "\n",
    "## 검색 결과 페이지에서 https:// 이 들어가는 모든 링크를 가져오기\n",
    "\n",
    "find = re.compile('href=\"(https://.*?)\"')\n",
    "##find = re.compile('.*href.*')\n",
    "result = find.findall(data)\n",
    "\n",
    "print len(result)\n",
    "for item in result:\n",
    "    print item"
   ]
  },
  {
   "cell_type": "code",
   "execution_count": 39,
   "metadata": {
    "collapsed": false,
    "scrolled": true
   },
   "outputs": [
    {
     "name": "stdout",
     "output_type": "stream",
     "text": [
      "Overwriting src/ds_234_web_crawl_3.py\n"
     ]
    }
   ],
   "source": [
    "%%writefile src/ds_234_web_crawl_3.py\n",
    "# coding: utf-8\n",
    "##주석 내용도 한글이면 문제생김 ㅠㅠ\n",
    "##먼저 python 을 구글에 검색한 결과를  crawl 할 예정\n",
    "##그냥 crawl -> user_Agent 변경 후 crawl\n",
    "\n",
    "import urllib2\n",
    "import os\n",
    "import re\n",
    "\n",
    "##google 검색창에 python 이라는 search 키워드를 검색하기 위해 주소(address) 생성\n",
    "search_Key = 'python' ## 검색 결과에 한글이 포함되면 깨지는 현상 때문에 영문 결과가 예상되는 검색어를 지정\n",
    "address = 'https://www.google.com/search?q=' + search_Key\n",
    "\n",
    "##만든 주소를 바로 긁어오기 전 header의 user_Agent를 바꿔줘야 함\n",
    "##header는 dictionary구조(?)\n",
    "##python 프로그램에서 크롤링하면 제대로 된 정보를 크롤링 할 수 없음\n",
    "##user-Agent를 웹브라우저처럼 가면(?)을 쓰고 접근.\n",
    "header = {'User-Agent' : 'Mozilla/5.0 (X11; Ubuntu; Linux x86_64; rv:42.0) Gecko/20100101 Firefox/42.0'}\n",
    "request = urllib2.Request(address, None, header)\n",
    "response = urllib2.urlopen(request)\n",
    "\n",
    "crawl = response.read()\n",
    "##print data ##확인용 print\n",
    "\n",
    "##확인겸 html파일 만들어 보기\n",
    "\n",
    "##f = open(os.path.join('src','mygoogle3.html'),'w')\n",
    "##f.write(data)\n",
    "##f.close()\n",
    "\n",
    "## 파일 잘 만들어 진 것을 확인함 (google 검색창에 python이 검색된 페이지 만들어짐)\n",
    "\n",
    "## 검색 결과 페이지에서 https://www.python 이 들어가는(유용하다고 판단한) 모든 링크를 가져오기\n",
    "\n",
    "find = re.compile('href=\"(https://www.python.*?)\"')\n",
    "result = find.findall(crawl)\n",
    "\n",
    "for data in result:\n",
    "    print data"
   ]
  },
  {
   "cell_type": "code",
   "execution_count": 42,
   "metadata": {
    "collapsed": true
   },
   "outputs": [],
   "source": [
    "# coding: utf-8\n",
    "\n",
    "##노래제목 검색 후 crawl\n",
    "##naver music에서 검색\n",
    "\n",
    "import urllib\n",
    "\n",
    "search_Key = ''\n"
   ]
  }
 ],
 "metadata": {
  "kernelspec": {
   "display_name": "Python 2",
   "language": "python",
   "name": "python2"
  },
  "language_info": {
   "codemirror_mode": {
    "name": "ipython",
    "version": 2
   },
   "file_extension": ".py",
   "mimetype": "text/x-python",
   "name": "python",
   "nbconvert_exporter": "python",
   "pygments_lexer": "ipython2",
   "version": "2.7.13"
  }
 },
 "nbformat": 4,
 "nbformat_minor": 2
}
