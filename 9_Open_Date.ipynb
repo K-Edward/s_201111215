{
 "cells": [
  {
   "cell_type": "code",
   "execution_count": 107,
   "metadata": {
    "collapsed": false,
    "scrolled": false
   },
   "outputs": [
    {
     "name": "stdout",
     "output_type": "stream",
     "text": [
      "Overwriting src/key.properties\n"
     ]
    }
   ],
   "source": [
    "%%writefile src/key.properties\n",
    "dataseoul=6855444e4768776136316a7256706b\n",
    "gokr=281POEfrCjkvFsHeLENEu5QKQhrviI%2FxfTfZriD0HM255w8jpS%2FSVwvnlqCGvYbU6yph6jjdeN%2FGumXBwgHIpQ%3D%3D"
   ]
  },
  {
   "cell_type": "code",
   "execution_count": 73,
   "metadata": {
    "collapsed": false
   },
   "outputs": [
    {
     "name": "stdout",
     "output_type": "stream",
     "text": [
      "Overwriting src/mylib.py\n"
     ]
    }
   ],
   "source": [
    "%%writefile src/mylib.py\n",
    "def sayHello():\n",
    "    print \"hello\"\n",
    "    \n",
    "def sayHello2():\n",
    "    print \"hello2\""
   ]
  },
  {
   "cell_type": "code",
   "execution_count": 35,
   "metadata": {
    "collapsed": false,
    "scrolled": true
   },
   "outputs": [
    {
     "data": {
      "text/plain": [
       "u'C:\\\\Users\\\\400T6B\\\\Code\\\\s_201111215'"
      ]
     },
     "execution_count": 35,
     "metadata": {},
     "output_type": "execute_result"
    }
   ],
   "source": [
    "pwd"
   ]
  },
  {
   "cell_type": "code",
   "execution_count": 36,
   "metadata": {
    "collapsed": false,
    "scrolled": false
   },
   "outputs": [
    {
     "name": "stdout",
     "output_type": "stream",
     "text": [
      " C 드라이브의 볼륨에는 이름이 없습니다.\n",
      " 볼륨 일련 번호: A49F-0284\n",
      "\n",
      " C:\\Users\\400T6B\\Code\\s_201111215\\src 디렉터리\n",
      "\n",
      "2017-04-18  오후 04:36    <DIR>          .\n",
      "2017-04-18  오후 04:36    <DIR>          ..\n",
      "2017-04-17  오후 09:32             2,962 ds_234_web_crawl_1.py\n",
      "2017-04-17  오후 09:32             1,508 ds_234_web_crawl_3.py\n",
      "2017-04-17  오후 09:32             2,679 ds_234_web_crawl_4.py\n",
      "2017-04-17  오후 09:32               388 ds_234_web_crawl_5.py\n",
      "2017-04-17  오후 09:32               643 ds_234_web_crawl_6.py\n",
      "2017-04-17  오후 09:32               294 ds_save_mongo_5.js\n",
      "2017-04-17  오후 09:32               165 ds_save_mongo_6.py\n",
      "2017-04-17  오후 09:32               374 ds_web_crawl_ieee.py\n",
      "2017-04-18  오후 04:32               149 key.properties\n",
      "2017-04-17  오후 09:32               949 my.xml\n",
      "2017-04-17  오후 09:32            45,371 mygoogle1.html\n",
      "2017-04-17  오후 09:32            75,765 mygoogle2.html\n",
      "2017-04-17  오후 09:32           308,672 mygoogle3.html\n",
      "2017-04-18  오후 04:40                78 mylib.py\n",
      "2017-04-18  오후 04:36               221 mylib.pyc\n",
      "2017-04-17  오후 09:32               210 mypage1.html\n",
      "2017-04-17  오후 09:32             1,108 mypage3.html\n",
      "2017-04-17  오후 09:32               280 test.py\n",
      "2017-04-17  오후 09:32                51 tmp.txt\n",
      "2017-04-18  오후 04:39                 9 __init__.py\n",
      "2017-04-18  오후 04:36               126 __init__.pyc\n",
      "              21개 파일             442,002 바이트\n",
      "               2개 디렉터리  816,373,374,976 바이트 남음\n"
     ]
    }
   ],
   "source": [
    "!dir src\\"
   ]
  },
  {
   "cell_type": "code",
   "execution_count": 37,
   "metadata": {
    "collapsed": false,
    "scrolled": false
   },
   "outputs": [
    {
     "name": "stdout",
     "output_type": "stream",
     "text": [
      "Overwriting src/__init__.py\n"
     ]
    }
   ],
   "source": [
    "%%writefile src/__init__.py\n",
    "import os"
   ]
  },
  {
   "cell_type": "markdown",
   "metadata": {},
   "source": [
    "init은 src 디렉토리를 라이브러리로 만들기위해서 사용."
   ]
  },
  {
   "cell_type": "code",
   "execution_count": 96,
   "metadata": {
    "collapsed": false,
    "scrolled": false
   },
   "outputs": [
    {
     "ename": "KeyError",
     "evalue": "'src.mylib'",
     "output_type": "error",
     "traceback": [
      "\u001b[0;31m---------------------------------------------------------------------------\u001b[0m",
      "\u001b[0;31mKeyError\u001b[0m                                  Traceback (most recent call last)",
      "\u001b[0;32m<ipython-input-96-a3a440be4eaa>\u001b[0m in \u001b[0;36m<module>\u001b[0;34m()\u001b[0m\n\u001b[1;32m      1\u001b[0m \u001b[1;32mimport\u001b[0m \u001b[0msys\u001b[0m\u001b[1;33m\u001b[0m\u001b[0m\n\u001b[0;32m----> 2\u001b[0;31m \u001b[1;32mdel\u001b[0m \u001b[0msys\u001b[0m\u001b[1;33m.\u001b[0m\u001b[0mmodules\u001b[0m\u001b[1;33m[\u001b[0m\u001b[1;34m'src.mylib'\u001b[0m\u001b[1;33m]\u001b[0m\u001b[1;33m\u001b[0m\u001b[0m\n\u001b[0m",
      "\u001b[0;31mKeyError\u001b[0m: 'src.mylib'"
     ]
    }
   ],
   "source": [
    "import sys\n",
    "del sys.modules['src.mylib']"
   ]
  },
  {
   "cell_type": "code",
   "execution_count": 99,
   "metadata": {
    "collapsed": false,
    "scrolled": true
   },
   "outputs": [
    {
     "ename": "AttributeError",
     "evalue": "'module' object has no attribute 'sayHello'",
     "output_type": "error",
     "traceback": [
      "\u001b[0;31m---------------------------------------------------------------------------\u001b[0m",
      "\u001b[0;31mAttributeError\u001b[0m                            Traceback (most recent call last)",
      "\u001b[0;32m<ipython-input-99-2f3b4831e439>\u001b[0m in \u001b[0;36m<module>\u001b[0;34m()\u001b[0m\n\u001b[1;32m      1\u001b[0m \u001b[1;32mimport\u001b[0m \u001b[0msrc\u001b[0m\u001b[1;33m.\u001b[0m\u001b[0mmylib\u001b[0m\u001b[1;33m\u001b[0m\u001b[0m\n\u001b[1;32m      2\u001b[0m \u001b[1;33m\u001b[0m\u001b[0m\n\u001b[0;32m----> 3\u001b[0;31m \u001b[0msrc\u001b[0m\u001b[1;33m.\u001b[0m\u001b[0mmylib\u001b[0m\u001b[1;33m.\u001b[0m\u001b[0msayHello\u001b[0m\u001b[1;33m(\u001b[0m\u001b[1;33m)\u001b[0m\u001b[1;33m\u001b[0m\u001b[0m\n\u001b[0m\u001b[1;32m      4\u001b[0m \u001b[0msrc\u001b[0m\u001b[1;33m.\u001b[0m\u001b[0mmylib\u001b[0m\u001b[1;33m.\u001b[0m\u001b[0msayHello2\u001b[0m\u001b[1;33m(\u001b[0m\u001b[1;33m)\u001b[0m\u001b[1;33m\u001b[0m\u001b[0m\n",
      "\u001b[0;31mAttributeError\u001b[0m: 'module' object has no attribute 'sayHello'"
     ]
    }
   ],
   "source": [
    "import src.mylib\n",
    "\n",
    "src.mylib.sayHello()\n",
    "src.mylib.sayHello2()"
   ]
  },
  {
   "cell_type": "code",
   "execution_count": 54,
   "metadata": {
    "collapsed": false
   },
   "outputs": [],
   "source": [
    "import os\n",
    "\n",
    "d = dict()\n",
    "\n",
    "keyPath = os.path.join('src','key.properties')\n",
    "\n",
    "f = open(keyPath,'r')\n",
    "\n",
    "for line in f.readlines():\n",
    "    row = line.split('=')\n",
    "    d[row[0]] = row[1].strip()"
   ]
  },
  {
   "cell_type": "code",
   "execution_count": 55,
   "metadata": {
    "collapsed": false,
    "scrolled": false
   },
   "outputs": [
    {
     "name": "stdout",
     "output_type": "stream",
     "text": [
      "281POEfrCjkvFsHeLENEu5QKQhrviI%2FxfTfZriD0HM255w8jpS%2FSVwvnlqCGvYbU6yph6jjdeN%2FGumXBwgHIpQ%3D%3D 6e52576e6e68776134324d66497047\n"
     ]
    }
   ],
   "source": [
    "print d['gokr'], d['dataseoul']"
   ]
  },
  {
   "cell_type": "code",
   "execution_count": 92,
   "metadata": {
    "collapsed": false
   },
   "outputs": [
    {
     "name": "stdout",
     "output_type": "stream",
     "text": [
      "{'dataseoul': '6e52576e6e68776134324d66497047', 'gokr': '281POEfrCjkvFsHeLENEu5QKQhrviI%2FxfTfZriD0HM255w8jpS%2FSVwvnlqCGvYbU6yph6jjdeN%2FGumXBwgHIpQ%3D%3D'}\n"
     ]
    }
   ],
   "source": [
    "import os\n",
    "\n",
    "def getKeytest(keyPath):\n",
    "    key = dict()\n",
    "    f = open(keyPath,'r')\n",
    "    \n",
    "    for line in f.readlines():\n",
    "        row = line.split('=')\n",
    "        key[row[0]] = row[1].strip()\n",
    "        \n",
    "    return key\n",
    "\n",
    "print getKey(os.path.join('src','key.properties'))"
   ]
  },
  {
   "cell_type": "code",
   "execution_count": 108,
   "metadata": {
    "collapsed": false
   },
   "outputs": [
    {
     "name": "stdout",
     "output_type": "stream",
     "text": [
      "Overwriting src/mylib.py\n"
     ]
    }
   ],
   "source": [
    "%%writefile src/mylib.py\n",
    "\n",
    "def getKey(keyPath):\n",
    "    key = dict()\n",
    "    f = open(keyPath,'r')\n",
    "    \n",
    "    for line in f.readlines():\n",
    "        row = line.split('=')\n",
    "        key[row[0]] = row[1].strip()\n",
    "        \n",
    "    return key"
   ]
  },
  {
   "cell_type": "code",
   "execution_count": 103,
   "metadata": {
    "collapsed": false
   },
   "outputs": [
    {
     "name": "stdout",
     "output_type": "stream",
     "text": [
      "gokr = 281POEfrCjkvFsHeLENEu5QKQhrviI%2FxfTfZriD0HM255w8jpS%2FSVwvnlqCGvYbU6yph6jjdeN%2FGumXBwgHIpQ%3D%3D\n",
      "dataseoul = 6e52576e6e68776134324d66497047\n"
     ]
    }
   ],
   "source": [
    "import os\n",
    "import src.mylib\n",
    "\n",
    "keyPath = os.path.join('src','key.properties')\n",
    "\n",
    "KEY = src.mylib.getKey(keyPath)\n",
    "\n",
    "print \"gokr = \" + KEY['gokr']\n",
    "print \"dataseoul = \" + KEY['dataseoul']"
   ]
  }
 ],
 "metadata": {
  "kernelspec": {
   "display_name": "Python 2",
   "language": "python",
   "name": "python2"
  },
  "language_info": {
   "codemirror_mode": {
    "name": "ipython",
    "version": 2
   },
   "file_extension": ".py",
   "mimetype": "text/x-python",
   "name": "python",
   "nbconvert_exporter": "python",
   "pygments_lexer": "ipython2",
   "version": "2.7.13"
  }
 },
 "nbformat": 4,
 "nbformat_minor": 2
}
