{
 "cells": [
  {
   "cell_type": "code",
   "execution_count": 107,
   "metadata": {
    "collapsed": false,
    "scrolled": false
   },
   "outputs": [
    {
     "name": "stdout",
     "output_type": "stream",
     "text": [
      "Overwriting src/key.properties\n"
     ]
    }
   ],
   "source": [
    "%%writefile src/key.properties\n",
    "dataseoul=6855444e4768776136316a7256706b\n",
    "gokr=281POEfrCjkvFsHeLENEu5QKQhrviI%2FxfTfZriD0HM255w8jpS%2FSVwvnlqCGvYbU6yph6jjdeN%2FGumXBwgHIpQ%3D%3D"
   ]
  },
  {
   "cell_type": "code",
   "execution_count": 73,
   "metadata": {
    "collapsed": false
   },
   "outputs": [
    {
     "name": "stdout",
     "output_type": "stream",
     "text": [
      "Overwriting src/mylib.py\n"
     ]
    }
   ],
   "source": [
    "%%writefile src/mylib.py\n",
    "def sayHello():\n",
    "    print \"hello\"\n",
    "    \n",
    "def sayHello2():\n",
    "    print \"hello2\""
   ]
  },
  {
   "cell_type": "code",
   "execution_count": 35,
   "metadata": {
    "collapsed": false,
    "scrolled": true
   },
   "outputs": [
    {
     "data": {
      "text/plain": [
       "u'C:\\\\Users\\\\400T6B\\\\Code\\\\s_201111215'"
      ]
     },
     "execution_count": 35,
     "metadata": {},
     "output_type": "execute_result"
    }
   ],
   "source": [
    "pwd"
   ]
  },
  {
   "cell_type": "code",
   "execution_count": 36,
   "metadata": {
    "collapsed": false,
    "scrolled": false
   },
   "outputs": [
    {
     "name": "stdout",
     "output_type": "stream",
     "text": [
      " C 드라이브의 볼륨에는 이름이 없습니다.\n",
      " 볼륨 일련 번호: A49F-0284\n",
      "\n",
      " C:\\Users\\400T6B\\Code\\s_201111215\\src 디렉터리\n",
      "\n",
      "2017-04-18  오후 04:36    <DIR>          .\n",
      "2017-04-18  오후 04:36    <DIR>          ..\n",
      "2017-04-17  오후 09:32             2,962 ds_234_web_crawl_1.py\n",
      "2017-04-17  오후 09:32             1,508 ds_234_web_crawl_3.py\n",
      "2017-04-17  오후 09:32             2,679 ds_234_web_crawl_4.py\n",
      "2017-04-17  오후 09:32               388 ds_234_web_crawl_5.py\n",
      "2017-04-17  오후 09:32               643 ds_234_web_crawl_6.py\n",
      "2017-04-17  오후 09:32               294 ds_save_mongo_5.js\n",
      "2017-04-17  오후 09:32               165 ds_save_mongo_6.py\n",
      "2017-04-17  오후 09:32               374 ds_web_crawl_ieee.py\n",
      "2017-04-18  오후 04:32               149 key.properties\n",
      "2017-04-17  오후 09:32               949 my.xml\n",
      "2017-04-17  오후 09:32            45,371 mygoogle1.html\n",
      "2017-04-17  오후 09:32            75,765 mygoogle2.html\n",
      "2017-04-17  오후 09:32           308,672 mygoogle3.html\n",
      "2017-04-18  오후 04:40                78 mylib.py\n",
      "2017-04-18  오후 04:36               221 mylib.pyc\n",
      "2017-04-17  오후 09:32               210 mypage1.html\n",
      "2017-04-17  오후 09:32             1,108 mypage3.html\n",
      "2017-04-17  오후 09:32               280 test.py\n",
      "2017-04-17  오후 09:32                51 tmp.txt\n",
      "2017-04-18  오후 04:39                 9 __init__.py\n",
      "2017-04-18  오후 04:36               126 __init__.pyc\n",
      "              21개 파일             442,002 바이트\n",
      "               2개 디렉터리  816,373,374,976 바이트 남음\n"
     ]
    }
   ],
   "source": [
    "!dir src\\"
   ]
  },
  {
   "cell_type": "code",
   "execution_count": 37,
   "metadata": {
    "collapsed": false,
    "scrolled": false
   },
   "outputs": [
    {
     "name": "stdout",
     "output_type": "stream",
     "text": [
      "Overwriting src/__init__.py\n"
     ]
    }
   ],
   "source": [
    "%%writefile src/__init__.py\n",
    "import os"
   ]
  },
  {
   "cell_type": "markdown",
   "metadata": {},
   "source": [
    "init은 src 디렉토리를 라이브러리로 만들기위해서 사용."
   ]
  },
  {
   "cell_type": "code",
   "execution_count": 96,
   "metadata": {
    "collapsed": false,
    "scrolled": false
   },
   "outputs": [
    {
     "ename": "KeyError",
     "evalue": "'src.mylib'",
     "output_type": "error",
     "traceback": [
      "\u001b[0;31m---------------------------------------------------------------------------\u001b[0m",
      "\u001b[0;31mKeyError\u001b[0m                                  Traceback (most recent call last)",
      "\u001b[0;32m<ipython-input-96-a3a440be4eaa>\u001b[0m in \u001b[0;36m<module>\u001b[0;34m()\u001b[0m\n\u001b[1;32m      1\u001b[0m \u001b[1;32mimport\u001b[0m \u001b[0msys\u001b[0m\u001b[1;33m\u001b[0m\u001b[0m\n\u001b[0;32m----> 2\u001b[0;31m \u001b[1;32mdel\u001b[0m \u001b[0msys\u001b[0m\u001b[1;33m.\u001b[0m\u001b[0mmodules\u001b[0m\u001b[1;33m[\u001b[0m\u001b[1;34m'src.mylib'\u001b[0m\u001b[1;33m]\u001b[0m\u001b[1;33m\u001b[0m\u001b[0m\n\u001b[0m",
      "\u001b[0;31mKeyError\u001b[0m: 'src.mylib'"
     ]
    }
   ],
   "source": [
    "import sys\n",
    "del sys.modules['src.mylib']"
   ]
  },
  {
   "cell_type": "code",
   "execution_count": 99,
   "metadata": {
    "collapsed": false,
    "scrolled": true
   },
   "outputs": [
    {
     "ename": "AttributeError",
     "evalue": "'module' object has no attribute 'sayHello'",
     "output_type": "error",
     "traceback": [
      "\u001b[0;31m---------------------------------------------------------------------------\u001b[0m",
      "\u001b[0;31mAttributeError\u001b[0m                            Traceback (most recent call last)",
      "\u001b[0;32m<ipython-input-99-2f3b4831e439>\u001b[0m in \u001b[0;36m<module>\u001b[0;34m()\u001b[0m\n\u001b[1;32m      1\u001b[0m \u001b[1;32mimport\u001b[0m \u001b[0msrc\u001b[0m\u001b[1;33m.\u001b[0m\u001b[0mmylib\u001b[0m\u001b[1;33m\u001b[0m\u001b[0m\n\u001b[1;32m      2\u001b[0m \u001b[1;33m\u001b[0m\u001b[0m\n\u001b[0;32m----> 3\u001b[0;31m \u001b[0msrc\u001b[0m\u001b[1;33m.\u001b[0m\u001b[0mmylib\u001b[0m\u001b[1;33m.\u001b[0m\u001b[0msayHello\u001b[0m\u001b[1;33m(\u001b[0m\u001b[1;33m)\u001b[0m\u001b[1;33m\u001b[0m\u001b[0m\n\u001b[0m\u001b[1;32m      4\u001b[0m \u001b[0msrc\u001b[0m\u001b[1;33m.\u001b[0m\u001b[0mmylib\u001b[0m\u001b[1;33m.\u001b[0m\u001b[0msayHello2\u001b[0m\u001b[1;33m(\u001b[0m\u001b[1;33m)\u001b[0m\u001b[1;33m\u001b[0m\u001b[0m\n",
      "\u001b[0;31mAttributeError\u001b[0m: 'module' object has no attribute 'sayHello'"
     ]
    }
   ],
   "source": [
    "import src.mylib\n",
    "\n",
    "src.mylib.sayHello()\n",
    "src.mylib.sayHello2()"
   ]
  },
  {
   "cell_type": "code",
   "execution_count": 54,
   "metadata": {
    "collapsed": false
   },
   "outputs": [],
   "source": [
    "import os\n",
    "\n",
    "d = dict()\n",
    "\n",
    "keyPath = os.path.join('src','key.properties')\n",
    "\n",
    "f = open(keyPath,'r')\n",
    "\n",
    "for line in f.readlines():\n",
    "    row = line.split('=')\n",
    "    d[row[0]] = row[1].strip()"
   ]
  },
  {
   "cell_type": "code",
   "execution_count": 55,
   "metadata": {
    "collapsed": false,
    "scrolled": false
   },
   "outputs": [
    {
     "name": "stdout",
     "output_type": "stream",
     "text": [
      "281POEfrCjkvFsHeLENEu5QKQhrviI%2FxfTfZriD0HM255w8jpS%2FSVwvnlqCGvYbU6yph6jjdeN%2FGumXBwgHIpQ%3D%3D 6e52576e6e68776134324d66497047\n"
     ]
    }
   ],
   "source": [
    "print d['gokr'], d['dataseoul']"
   ]
  },
  {
   "cell_type": "code",
   "execution_count": 92,
   "metadata": {
    "collapsed": false
   },
   "outputs": [
    {
     "name": "stdout",
     "output_type": "stream",
     "text": [
      "{'dataseoul': '6e52576e6e68776134324d66497047', 'gokr': '281POEfrCjkvFsHeLENEu5QKQhrviI%2FxfTfZriD0HM255w8jpS%2FSVwvnlqCGvYbU6yph6jjdeN%2FGumXBwgHIpQ%3D%3D'}\n"
     ]
    }
   ],
   "source": [
    "import os\n",
    "\n",
    "def getKeytest(keyPath):\n",
    "    key = dict()\n",
    "    f = open(keyPath,'r')\n",
    "    \n",
    "    for line in f.readlines():\n",
    "        row = line.split('=')\n",
    "        key[row[0]] = row[1].strip()\n",
    "        \n",
    "    return key\n",
    "\n",
    "print getKey(os.path.join('src','key.properties'))"
   ]
  },
  {
   "cell_type": "code",
   "execution_count": 108,
   "metadata": {
    "collapsed": false
   },
   "outputs": [
    {
     "name": "stdout",
     "output_type": "stream",
     "text": [
      "Overwriting src/mylib.py\n"
     ]
    }
   ],
   "source": [
    "%%writefile src/mylib.py\n",
    "\n",
    "def getKey(keyPath):\n",
    "    key = dict()\n",
    "    f = open(keyPath,'r')\n",
    "    \n",
    "    for line in f.readlines():\n",
    "        row = line.split('=')\n",
    "        key[row[0]] = row[1].strip()\n",
    "        \n",
    "    return key"
   ]
  },
  {
   "cell_type": "code",
   "execution_count": 27,
   "metadata": {
    "collapsed": false,
    "scrolled": true
   },
   "outputs": [
    {
     "name": "stdout",
     "output_type": "stream",
     "text": [
      "gokr = 281POEfrCjkvFsHeLENEu5QKQhrviI%2FxfTfZriD0HM255w8jpS%2FSVwvnlqCGvYbU6yph6jjdeN%2FGumXBwgHIpQ%3D%3D\n",
      "dataseoul = 6855444e4768776136316a7256706b\n"
     ]
    }
   ],
   "source": [
    "import os\n",
    "import src.mylib\n",
    "\n",
    "keyPath = os.path.join('src','key.properties')\n",
    "\n",
    "KEY = src.mylib.getKey(keyPath)\n",
    "\n",
    "print \"gokr = \" + KEY['gokr']\n",
    "print \"dataseoul = \" + KEY['dataseoul']"
   ]
  },
  {
   "cell_type": "code",
   "execution_count": 70,
   "metadata": {
    "collapsed": false,
    "scrolled": true
   },
   "outputs": [
    {
     "name": "stdout",
     "output_type": "stream",
     "text": [
      "http://openapi.seoul.go.kr:8080/6855444e4768776136316a7256706b/xml/CardSubwayStatisticsService/1/5/201306/\n"
     ]
    },
    {
     "ename": "ConnectionError",
     "evalue": "HTTPConnectionPool(host='openapi.seoul.go.kr', port=8080): Max retries exceeded with url: /6855444e4768776136316a7256706b/xml/CardSubwayStatisticsService/1/5/201306/ (Caused by NewConnectionError('<requests.packages.urllib3.connection.HTTPConnection object at 0x0000000009E42320>: Failed to establish a new connection: [Errno 10060] \\xbf\\xac\\xb0\\xe1\\xb5\\xc8 \\xb1\\xb8\\xbc\\xba\\xbf\\xf8\\xc0\\xb8\\xb7\\xce\\xba\\xce\\xc5\\xcd \\xc0\\xc0\\xb4\\xe4\\xc0\\xcc \\xbe\\xf8\\xbe\\xee \\xbf\\xac\\xb0\\xe1\\xc7\\xcf\\xc1\\xf6 \\xb8\\xf8\\xc7\\xdf\\xb0\\xc5\\xb3\\xaa,',))",
     "output_type": "error",
     "traceback": [
      "\u001b[0;31m---------------------------------------------------------------------------\u001b[0m",
      "\u001b[0;31mConnectionError\u001b[0m                           Traceback (most recent call last)",
      "\u001b[0;32m<ipython-input-70-8273fca14446>\u001b[0m in \u001b[0;36m<module>\u001b[0;34m()\u001b[0m\n\u001b[1;32m     16\u001b[0m \u001b[1;32mprint\u001b[0m \u001b[0m_api\u001b[0m\u001b[1;33m\u001b[0m\u001b[0m\n\u001b[1;32m     17\u001b[0m \u001b[1;33m\u001b[0m\u001b[0m\n\u001b[0;32m---> 18\u001b[0;31m \u001b[0mresponse\u001b[0m \u001b[1;33m=\u001b[0m \u001b[0mrequests\u001b[0m\u001b[1;33m.\u001b[0m\u001b[0mget\u001b[0m\u001b[1;33m(\u001b[0m\u001b[0m_api\u001b[0m\u001b[1;33m)\u001b[0m\u001b[1;33m.\u001b[0m\u001b[0mtext\u001b[0m\u001b[1;33m\u001b[0m\u001b[0m\n\u001b[0m\u001b[1;32m     19\u001b[0m \u001b[1;32mprint\u001b[0m \u001b[0mresponse\u001b[0m\u001b[1;33m\u001b[0m\u001b[0m\n",
      "\u001b[0;32mC:\\ProgramData\\Anaconda2\\lib\\site-packages\\requests\\api.py\u001b[0m in \u001b[0;36mget\u001b[0;34m(url, params, **kwargs)\u001b[0m\n\u001b[1;32m     68\u001b[0m \u001b[1;33m\u001b[0m\u001b[0m\n\u001b[1;32m     69\u001b[0m     \u001b[0mkwargs\u001b[0m\u001b[1;33m.\u001b[0m\u001b[0msetdefault\u001b[0m\u001b[1;33m(\u001b[0m\u001b[1;34m'allow_redirects'\u001b[0m\u001b[1;33m,\u001b[0m \u001b[0mTrue\u001b[0m\u001b[1;33m)\u001b[0m\u001b[1;33m\u001b[0m\u001b[0m\n\u001b[0;32m---> 70\u001b[0;31m     \u001b[1;32mreturn\u001b[0m \u001b[0mrequest\u001b[0m\u001b[1;33m(\u001b[0m\u001b[1;34m'get'\u001b[0m\u001b[1;33m,\u001b[0m \u001b[0murl\u001b[0m\u001b[1;33m,\u001b[0m \u001b[0mparams\u001b[0m\u001b[1;33m=\u001b[0m\u001b[0mparams\u001b[0m\u001b[1;33m,\u001b[0m \u001b[1;33m**\u001b[0m\u001b[0mkwargs\u001b[0m\u001b[1;33m)\u001b[0m\u001b[1;33m\u001b[0m\u001b[0m\n\u001b[0m\u001b[1;32m     71\u001b[0m \u001b[1;33m\u001b[0m\u001b[0m\n\u001b[1;32m     72\u001b[0m \u001b[1;33m\u001b[0m\u001b[0m\n",
      "\u001b[0;32mC:\\ProgramData\\Anaconda2\\lib\\site-packages\\requests\\api.py\u001b[0m in \u001b[0;36mrequest\u001b[0;34m(method, url, **kwargs)\u001b[0m\n\u001b[1;32m     54\u001b[0m     \u001b[1;31m# cases, and look like a memory leak in others.\u001b[0m\u001b[1;33m\u001b[0m\u001b[1;33m\u001b[0m\u001b[0m\n\u001b[1;32m     55\u001b[0m     \u001b[1;32mwith\u001b[0m \u001b[0msessions\u001b[0m\u001b[1;33m.\u001b[0m\u001b[0mSession\u001b[0m\u001b[1;33m(\u001b[0m\u001b[1;33m)\u001b[0m \u001b[1;32mas\u001b[0m \u001b[0msession\u001b[0m\u001b[1;33m:\u001b[0m\u001b[1;33m\u001b[0m\u001b[0m\n\u001b[0;32m---> 56\u001b[0;31m         \u001b[1;32mreturn\u001b[0m \u001b[0msession\u001b[0m\u001b[1;33m.\u001b[0m\u001b[0mrequest\u001b[0m\u001b[1;33m(\u001b[0m\u001b[0mmethod\u001b[0m\u001b[1;33m=\u001b[0m\u001b[0mmethod\u001b[0m\u001b[1;33m,\u001b[0m \u001b[0murl\u001b[0m\u001b[1;33m=\u001b[0m\u001b[0murl\u001b[0m\u001b[1;33m,\u001b[0m \u001b[1;33m**\u001b[0m\u001b[0mkwargs\u001b[0m\u001b[1;33m)\u001b[0m\u001b[1;33m\u001b[0m\u001b[0m\n\u001b[0m\u001b[1;32m     57\u001b[0m \u001b[1;33m\u001b[0m\u001b[0m\n\u001b[1;32m     58\u001b[0m \u001b[1;33m\u001b[0m\u001b[0m\n",
      "\u001b[0;32mC:\\ProgramData\\Anaconda2\\lib\\site-packages\\requests\\sessions.py\u001b[0m in \u001b[0;36mrequest\u001b[0;34m(self, method, url, params, data, headers, cookies, files, auth, timeout, allow_redirects, proxies, hooks, stream, verify, cert, json)\u001b[0m\n\u001b[1;32m    486\u001b[0m         }\n\u001b[1;32m    487\u001b[0m         \u001b[0msend_kwargs\u001b[0m\u001b[1;33m.\u001b[0m\u001b[0mupdate\u001b[0m\u001b[1;33m(\u001b[0m\u001b[0msettings\u001b[0m\u001b[1;33m)\u001b[0m\u001b[1;33m\u001b[0m\u001b[0m\n\u001b[0;32m--> 488\u001b[0;31m         \u001b[0mresp\u001b[0m \u001b[1;33m=\u001b[0m \u001b[0mself\u001b[0m\u001b[1;33m.\u001b[0m\u001b[0msend\u001b[0m\u001b[1;33m(\u001b[0m\u001b[0mprep\u001b[0m\u001b[1;33m,\u001b[0m \u001b[1;33m**\u001b[0m\u001b[0msend_kwargs\u001b[0m\u001b[1;33m)\u001b[0m\u001b[1;33m\u001b[0m\u001b[0m\n\u001b[0m\u001b[1;32m    489\u001b[0m \u001b[1;33m\u001b[0m\u001b[0m\n\u001b[1;32m    490\u001b[0m         \u001b[1;32mreturn\u001b[0m \u001b[0mresp\u001b[0m\u001b[1;33m\u001b[0m\u001b[0m\n",
      "\u001b[0;32mC:\\ProgramData\\Anaconda2\\lib\\site-packages\\requests\\sessions.py\u001b[0m in \u001b[0;36msend\u001b[0;34m(self, request, **kwargs)\u001b[0m\n\u001b[1;32m    607\u001b[0m \u001b[1;33m\u001b[0m\u001b[0m\n\u001b[1;32m    608\u001b[0m         \u001b[1;31m# Send the request\u001b[0m\u001b[1;33m\u001b[0m\u001b[1;33m\u001b[0m\u001b[0m\n\u001b[0;32m--> 609\u001b[0;31m         \u001b[0mr\u001b[0m \u001b[1;33m=\u001b[0m \u001b[0madapter\u001b[0m\u001b[1;33m.\u001b[0m\u001b[0msend\u001b[0m\u001b[1;33m(\u001b[0m\u001b[0mrequest\u001b[0m\u001b[1;33m,\u001b[0m \u001b[1;33m**\u001b[0m\u001b[0mkwargs\u001b[0m\u001b[1;33m)\u001b[0m\u001b[1;33m\u001b[0m\u001b[0m\n\u001b[0m\u001b[1;32m    610\u001b[0m \u001b[1;33m\u001b[0m\u001b[0m\n\u001b[1;32m    611\u001b[0m         \u001b[1;31m# Total elapsed time of the request (approximately)\u001b[0m\u001b[1;33m\u001b[0m\u001b[1;33m\u001b[0m\u001b[0m\n",
      "\u001b[0;32mC:\\ProgramData\\Anaconda2\\lib\\site-packages\\requests\\adapters.py\u001b[0m in \u001b[0;36msend\u001b[0;34m(self, request, stream, timeout, verify, cert, proxies)\u001b[0m\n\u001b[1;32m    485\u001b[0m                 \u001b[1;32mraise\u001b[0m \u001b[0mProxyError\u001b[0m\u001b[1;33m(\u001b[0m\u001b[0me\u001b[0m\u001b[1;33m,\u001b[0m \u001b[0mrequest\u001b[0m\u001b[1;33m=\u001b[0m\u001b[0mrequest\u001b[0m\u001b[1;33m)\u001b[0m\u001b[1;33m\u001b[0m\u001b[0m\n\u001b[1;32m    486\u001b[0m \u001b[1;33m\u001b[0m\u001b[0m\n\u001b[0;32m--> 487\u001b[0;31m             \u001b[1;32mraise\u001b[0m \u001b[0mConnectionError\u001b[0m\u001b[1;33m(\u001b[0m\u001b[0me\u001b[0m\u001b[1;33m,\u001b[0m \u001b[0mrequest\u001b[0m\u001b[1;33m=\u001b[0m\u001b[0mrequest\u001b[0m\u001b[1;33m)\u001b[0m\u001b[1;33m\u001b[0m\u001b[0m\n\u001b[0m\u001b[1;32m    488\u001b[0m \u001b[1;33m\u001b[0m\u001b[0m\n\u001b[1;32m    489\u001b[0m         \u001b[1;32mexcept\u001b[0m \u001b[0mClosedPoolError\u001b[0m \u001b[1;32mas\u001b[0m \u001b[0me\u001b[0m\u001b[1;33m:\u001b[0m\u001b[1;33m\u001b[0m\u001b[0m\n",
      "\u001b[0;31mConnectionError\u001b[0m: HTTPConnectionPool(host='openapi.seoul.go.kr', port=8080): Max retries exceeded with url: /6855444e4768776136316a7256706b/xml/CardSubwayStatisticsService/1/5/201306/ (Caused by NewConnectionError('<requests.packages.urllib3.connection.HTTPConnection object at 0x0000000009E42320>: Failed to establish a new connection: [Errno 10060] \\xbf\\xac\\xb0\\xe1\\xb5\\xc8 \\xb1\\xb8\\xbc\\xba\\xbf\\xf8\\xc0\\xb8\\xb7\\xce\\xba\\xce\\xc5\\xcd \\xc0\\xc0\\xb4\\xe4\\xc0\\xcc \\xbe\\xf8\\xbe\\xee \\xbf\\xac\\xb0\\xe1\\xc7\\xcf\\xc1\\xf6 \\xb8\\xf8\\xc7\\xdf\\xb0\\xc5\\xb3\\xaa,',))"
     ]
    }
   ],
   "source": [
    "import os\n",
    "import requests\n",
    "import src.mylib\n",
    "\n",
    "_url = 'http://openapi.seoul.go.kr:8080'\n",
    "keyPath = os.path.join(os.getcwd(),'src', 'key.properties')\n",
    "key = src.mylib.getKey(keyPath)\n",
    "_key = str(key['dataseoul'])\n",
    "_type='xml'\n",
    "_service = 'CardSubwayStatisticsService'\n",
    "_start_index=1\n",
    "_end_index=5\n",
    "_use_mon='201306'\n",
    "_api = _url+\"/\"+_key+\"/\"+_type+\"/\"+_service+\"/\"+str(_start_index)+\"/\"+ str(_end_index)+\"/\"+_use_mon+\"/\"\n",
    "\n",
    "print _api\n",
    "\n",
    "response = requests.get(_api).text\n",
    "print response"
   ]
  },
  {
   "cell_type": "code",
   "execution_count": 77,
   "metadata": {
    "collapsed": false,
    "scrolled": false
   },
   "outputs": [
    {
     "name": "stdout",
     "output_type": "stream",
     "text": [
      "Writing src/ds_9_open_data_6.py\n"
     ]
    }
   ],
   "source": [
    "%%writefile src/ds_9_open_data_6.py\n",
    "\n",
    "import os\n",
    "import requests\n",
    "import mylib\n",
    "import json\n",
    "\n",
    "_url='http://openAPI.seoul.go.kr:8088'\n",
    "keyPath = os.path.join(os.getcwd(),'src', 'key.properties')\n",
    "key = mylib.getKey(keyPath)\n",
    "_key = str(key['dataseoul'])\n",
    "_type='xml'\n",
    "_service='CardSubwayStatisticsService'\n",
    "_start_index=1\n",
    "_end_index=5\n",
    "_use_mon='201306'\n",
    "_maxIter=2\n",
    "_iter=0\n",
    "\n",
    "#_api = _url+\"/\"+_key+\"/\"+_type+\"/\"+_service+\"/\"+str(_start_index)+\"/\"+ str(_end_index)+\"/\"+_use_mon+\"/\"\n",
    "\n",
    "while _iter<_maxIter:\n",
    "    _api = _url+\"/\"+_key+\"/\"+_type+\"/\"+_service+\"/\"+str(_start_index)+\"/\"+ str(_end_index)+\"/\"+_use_mon+\"/\"\n",
    "    #print _api\n",
    "    response = requests.get(_api).text\n",
    "    print response\n",
    "    _start_index+=5\n",
    "    _end_index+=5\n",
    "    _iter+=1\n",
    "\n",
    "# data=requests.get(_api).text\n",
    "\n",
    "# print data\n",
    "\n",
    "# jd = json.loads(data)\n",
    "\n",
    "# print jd\n",
    "\n",
    "# print jd['SearchSTNBySubwayLineService']['row'][0]\n",
    "# #n=len(jd['SearchSTNBySubwayLineService']['row'])\n",
    "# #for i in range(0,n):\n",
    "# #    print jd['SearchSTNBySubwayLineService']['row'][i]\n",
    "# for item in jd['SearchSTNBySubwayLineService']['row']:\n",
    "#     print item.keys()\n",
    "#     for i in item.keys():\n",
    "#         if i=='STATION_NM':\n",
    "#             print ''.join(item.values())\n",
    "#             print item.values()[1]"
   ]
  },
  {
   "cell_type": "code",
   "execution_count": 22,
   "metadata": {
    "collapsed": false,
    "scrolled": true
   },
   "outputs": [],
   "source": [
    "from pymongo import MongoClient"
   ]
  },
  {
   "cell_type": "code",
   "execution_count": 24,
   "metadata": {
    "collapsed": true
   },
   "outputs": [],
   "source": [
    "Client = MongoClient()"
   ]
  },
  {
   "cell_type": "code",
   "execution_count": 25,
   "metadata": {
    "collapsed": true
   },
   "outputs": [],
   "source": [
    "_db = Client['ds_open_subwayPassengersDb']"
   ]
  },
  {
   "cell_type": "code",
   "execution_count": 36,
   "metadata": {
    "collapsed": true
   },
   "outputs": [],
   "source": [
    "_table=_db['db_open_subwayTable']"
   ]
  },
  {
   "cell_type": "code",
   "execution_count": 51,
   "metadata": {
    "collapsed": false
   },
   "outputs": [
    {
     "name": "stdout",
     "output_type": "stream",
     "text": [
      "Overwriting src/ds_open_subwayPassengers.py\n"
     ]
    }
   ],
   "source": [
    "%%writefile src/ds_open_subwayPassengers.py\n",
    "# coding: utf-8\n",
    "import os\n",
    "import requests\n",
    "import json\n",
    "from pymongo import MongoClient\n",
    "import mylib\n",
    "\n",
    "Client = MongoClient('localhost:27017')\n",
    "_db=Client['ds_open_subwayPassengersDb'] #db created by mongo\n",
    "_table=_db['db_open_subwayTable'] #collection\n",
    "#db=Client.ds_rest_subwayPassengers\n",
    "\n",
    "def saveJson(_fname,_data):\n",
    "    import io\n",
    "    with io.open(_fname, 'a', encoding='utf8') as json_file:\n",
    "        _j=json.dumps(_data, json_file, ensure_ascii=False, encoding='utf8')\n",
    "        json_file.write(_j+\"\\n\")\n",
    "\n",
    "def readJson(_fname):\n",
    "    for line in open(_fname, 'r').readlines():\n",
    "        _j=json.loads(line)\n",
    "        #print _j['id'],_j['text']\n",
    "        print _j['id']\n",
    "\n",
    "def saveDB(_data):\n",
    "    _table.insert_one(_data)\n",
    "\n",
    "def readDB():\n",
    "    for tweet in _table.find():\n",
    "        print tweet['id'],tweet['text']\n",
    "\n",
    "def saveFile(_fname,_data):\n",
    "    fp=open(_fname,'a')\n",
    "    fp.write(_data+\"\\n\")\n",
    "\n",
    "def doIt():\n",
    "    keyPath=os.path.join(os.getcwd(), 'src', 'key.properties')\n",
    "    key=mylib.getKey(keyPath)  \n",
    "    _key=key['dataseoul'] #KEY='73725.....'\n",
    "    _url='http://openAPI.seoul.go.kr:8088'\n",
    "    _type='json'\n",
    "    _service='CardSubwayStatisticsService'\n",
    "    _start_index=1\n",
    "    _end_index=5\n",
    "    _use_mon='201306'\n",
    "    _maxIter=20\n",
    "    _iter=0\n",
    "    _jfname='src/ds_open_subwayPassengers.json'\n",
    "    while _iter<_maxIter:\n",
    "        _api = _url+\"/\"+_key+\"/\"+_type+\"/\"+_service+\"/\"+str(_start_index)+\"/\"+ str(_end_index)+\"/\"+_use_mon+\"/\"\n",
    "        #print _api\n",
    "        r=requests.get(_api)\n",
    "        _json=r.json()\n",
    "        print _json\n",
    "        saveJson(_jfname,_json)\n",
    "        saveDB(_json)\n",
    "        _start_index+=5\n",
    "        _end_index+=5\n",
    "        _iter+=1\n",
    "\n",
    "if __name__ == \"__main__\":\n",
    "    doIt()"
   ]
  },
  {
   "cell_type": "code",
   "execution_count": 56,
   "metadata": {
    "collapsed": false,
    "scrolled": true
   },
   "outputs": [
    {
     "name": "stdout",
     "output_type": "stream",
     "text": [
      "               Open     High      Low    Close  Volume  Adj Close\n",
      "Date                                                             \n",
      "2015-11-02  67900.0  68400.0  66800.0  68400.0  206300   62380.87\n",
      "2015-11-03  68600.0  69800.0  67600.0  69700.0  331900   63566.47\n",
      "2015-11-04  70900.0  71500.0  70000.0  70300.0  286900   64113.67\n",
      "2015-11-05  69800.0  70000.0  69100.0  69600.0  177600   63475.27\n",
      "2015-11-06  69500.0  69600.0  68900.0  69500.0  141000   63384.07\n",
      "2015-11-09  69300.0  69300.0  67600.0  67600.0  168800   61651.27\n",
      "2015-11-10  66700.0  68300.0  66200.0  67300.0  175600   61377.67\n"
     ]
    }
   ],
   "source": [
    "import datetime\n",
    "import pandas_datareader.data as web\n",
    "#import pandas.io.data as web\n",
    "start = datetime.datetime(2015,11,1)\n",
    "end = datetime.datetime(2015, 11, 10)\n",
    "soil = web.DataReader(\"010950.KS\", \"yahoo\", start, end)\n",
    "\n",
    "print soil"
   ]
  },
  {
   "cell_type": "code",
   "execution_count": 57,
   "metadata": {
    "collapsed": false,
    "scrolled": true
   },
   "outputs": [
    {
     "name": "stdout",
     "output_type": "stream",
     "text": [
      "                Open      High       Low     Close  Volume\n",
      "Date                                                      \n",
      "2015-11-02  257500.0  259500.0  254500.0  255500.0  153443\n",
      "2015-11-03  257500.0  259000.0  255000.0  255500.0  126434\n",
      "2015-11-04  254500.0  255000.0  250500.0  253000.0  180937\n",
      "2015-11-05  253000.0  256500.0  250500.0  254000.0   85396\n",
      "2015-11-06  253500.0  261000.0  253000.0  258000.0   88942\n",
      "2015-11-09  258500.0  258500.0  251000.0  252500.0   89752\n",
      "2015-11-10  251500.0  252000.0  248500.0  250000.0   79362\n"
     ]
    }
   ],
   "source": [
    "ncsoft = web.DataReader('KRX:036570', data_source='google', start='01/01/2015', end='09/02/2015')\n",
    "sds = web.DataReader('KRX:018260', data_source='google', start='11/01/2015', end='11/10/2015')\n",
    "\n",
    "print sds"
   ]
  },
  {
   "cell_type": "code",
   "execution_count": 68,
   "metadata": {
    "collapsed": false
   },
   "outputs": [
    {
     "name": "stdout",
     "output_type": "stream",
     "text": [
      "Overwriting src/ds_9_open_data_11.py\n"
     ]
    }
   ],
   "source": [
    "%%writefile src/ds_9_open_data_11.py\n",
    "#!/usr/bin/env python\n",
    "# coding: utf-8\n",
    "import os\n",
    "import requests\n",
    "import urlparse\n",
    "import urllib\n",
    "import mylib\n",
    "\n",
    "def doIt():\n",
    "    # (1) service + operation\n",
    "    SERVICE='ArpltnInforInqireSvc'\n",
    "    OPERATION_NAME='getMinuDustFrcstDspth'\n",
    "    params1=SERVICE+\"/\"+OPERATION_NAME\n",
    "    \n",
    "    # (2) query params encoding\n",
    "    _d=dict()\n",
    "    _d['dataTerm']='month'\n",
    "    params2 = urllib.urlencode(_d)\n",
    "    \n",
    "    # (3) add my service key\n",
    "    keyPath=os.path.join(os.getcwd(), 'src', 'key.properties')\n",
    "    key=mylib.getKey(keyPath)\n",
    "    keygokr=key['gokr'] # keygokr='8Bx4C1%2B...'\n",
    "    params=params1+'?'+'serviceKey='+keygokr+'&'+params2\n",
    "    \n",
    "    # (4) make a full url\n",
    "    _url='http://openapi.airkorea.or.kr/openapi/services/rest/ArpltnInforInqireSvc'\n",
    "    url=urlparse.urljoin(_url,params)\n",
    "    \n",
    "    #print url\n",
    "    \n",
    "    # (5) get data\n",
    "    data=requests.get(url).text\n",
    "    print data\n",
    "\n",
    "if __name__ == \"__main__\":\n",
    "    doIt()"
   ]
  }
 ],
 "metadata": {
  "kernelspec": {
   "display_name": "Python 2",
   "language": "python",
   "name": "python2"
  },
  "language_info": {
   "codemirror_mode": {
    "name": "ipython",
    "version": 2
   },
   "file_extension": ".py",
   "mimetype": "text/x-python",
   "name": "python",
   "nbconvert_exporter": "python",
   "pygments_lexer": "ipython2",
   "version": "2.7.13"
  }
 },
 "nbformat": 4,
 "nbformat_minor": 2
}
